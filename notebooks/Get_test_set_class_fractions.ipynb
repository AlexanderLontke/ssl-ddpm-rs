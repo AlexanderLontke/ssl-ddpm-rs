{
 "cells": [
  {
   "cell_type": "code",
   "execution_count": 1,
   "id": "1bcd0dcd-6eba-4cee-b7cb-b525db6d0b27",
   "metadata": {
    "tags": []
   },
   "outputs": [],
   "source": [
    "import dask.dataframe as dd\n",
    "from dask.diagnostics import ProgressBar\n",
    "\n",
    "import pandas as pd\n",
    "import numpy as np"
   ]
  },
  {
   "cell_type": "markdown",
   "id": "31c78b09-c197-4e48-a6de-c437b881c826",
   "metadata": {
    "tags": []
   },
   "source": [
    "# Create Stratified label fraction splits #"
   ]
  },
  {
   "cell_type": "code",
   "execution_count": 4,
   "id": "b75d330d-f9dd-4091-b94d-65412b0498bf",
   "metadata": {
    "tags": []
   },
   "outputs": [
    {
     "name": "stdout",
     "output_type": "stream",
     "text": [
      "ben-ge-test60-delta.csv\t\t     ben-ge-train60-delta_1_percent.csv\n",
      "ben-ge-train60-delta.csv\t     ben-ge-train60-delta_50_percent.csv\n",
      "ben-ge-train60-delta_10_percent.csv  ben-ge-validation60-delta.csv\n"
     ]
    }
   ],
   "source": [
    "!ls /ds2/remote_sensing/ben-ge/ffcv/write_indices/"
   ]
  },
  {
   "cell_type": "code",
   "execution_count": 5,
   "id": "3c171a80-ab6c-4db4-bb3d-203d1a660973",
   "metadata": {
    "tags": []
   },
   "outputs": [],
   "source": [
    "test_set_index_df = pd.read_csv(\"/ds2/remote_sensing/ben-ge/ffcv/write_indices/ben-ge-test60-delta.csv\")\n",
    "test_set_index_df = dd.from_pandas(test_set_index_df, chunksize=1000)"
   ]
  },
  {
   "cell_type": "code",
   "execution_count": 6,
   "id": "75da5a5a-fc01-4650-818c-9fc0caa89fcc",
   "metadata": {
    "tags": []
   },
   "outputs": [
    {
     "data": {
      "text/plain": [
       "Index(['patch_id', 'filename', 'tree_cover', 'shrubland', 'grassland',\n",
       "       'cropland', 'built-up', 'bare/sparse_vegetation', 'snow_and_ice',\n",
       "       'permanent_water_bodies', 'herbaceous_wetland', 'mangroves',\n",
       "       'moss_and_lichen'],\n",
       "      dtype='object')"
      ]
     },
     "execution_count": 6,
     "metadata": {},
     "output_type": "execute_result"
    }
   ],
   "source": [
    "test_set_index_df.columns"
   ]
  },
  {
   "cell_type": "code",
   "execution_count": 7,
   "id": "ec3d062f-6122-4172-a375-66711e90279f",
   "metadata": {
    "tags": []
   },
   "outputs": [
    {
     "data": {
      "text/html": [
       "<div>\n",
       "<style scoped>\n",
       "    .dataframe tbody tr th:only-of-type {\n",
       "        vertical-align: middle;\n",
       "    }\n",
       "\n",
       "    .dataframe tbody tr th {\n",
       "        vertical-align: top;\n",
       "    }\n",
       "\n",
       "    .dataframe thead th {\n",
       "        text-align: right;\n",
       "    }\n",
       "</style>\n",
       "<table border=\"1\" class=\"dataframe\">\n",
       "  <thead>\n",
       "    <tr style=\"text-align: right;\">\n",
       "      <th></th>\n",
       "      <th>patch_id</th>\n",
       "      <th>filename</th>\n",
       "      <th>tree_cover</th>\n",
       "      <th>shrubland</th>\n",
       "      <th>grassland</th>\n",
       "      <th>cropland</th>\n",
       "      <th>built-up</th>\n",
       "      <th>bare/sparse_vegetation</th>\n",
       "      <th>snow_and_ice</th>\n",
       "      <th>permanent_water_bodies</th>\n",
       "      <th>herbaceous_wetland</th>\n",
       "      <th>mangroves</th>\n",
       "      <th>moss_and_lichen</th>\n",
       "    </tr>\n",
       "  </thead>\n",
       "  <tbody>\n",
       "    <tr>\n",
       "      <th>0</th>\n",
       "      <td>S2A_MSIL2A_20171221T112501_81_34</td>\n",
       "      <td>S2A_MSIL2A_20171221T112501_81_34_esaworldcover...</td>\n",
       "      <td>0.608125</td>\n",
       "      <td>0.158125</td>\n",
       "      <td>0.233333</td>\n",
       "      <td>0.000000</td>\n",
       "      <td>0.000000</td>\n",
       "      <td>0.000417</td>\n",
       "      <td>0.0</td>\n",
       "      <td>0.0</td>\n",
       "      <td>0.0</td>\n",
       "      <td>0.0</td>\n",
       "      <td>0.0</td>\n",
       "    </tr>\n",
       "    <tr>\n",
       "      <th>1</th>\n",
       "      <td>S2A_MSIL2A_20171002T112111_73_39</td>\n",
       "      <td>S2A_MSIL2A_20171002T112111_73_39_esaworldcover...</td>\n",
       "      <td>0.143264</td>\n",
       "      <td>0.000000</td>\n",
       "      <td>0.856667</td>\n",
       "      <td>0.000069</td>\n",
       "      <td>0.000000</td>\n",
       "      <td>0.000000</td>\n",
       "      <td>0.0</td>\n",
       "      <td>0.0</td>\n",
       "      <td>0.0</td>\n",
       "      <td>0.0</td>\n",
       "      <td>0.0</td>\n",
       "    </tr>\n",
       "    <tr>\n",
       "      <th>2</th>\n",
       "      <td>S2A_MSIL2A_20171221T112501_69_6</td>\n",
       "      <td>S2A_MSIL2A_20171221T112501_69_6_esaworldcover.tif</td>\n",
       "      <td>0.412500</td>\n",
       "      <td>0.230764</td>\n",
       "      <td>0.352500</td>\n",
       "      <td>0.000069</td>\n",
       "      <td>0.004167</td>\n",
       "      <td>0.000000</td>\n",
       "      <td>0.0</td>\n",
       "      <td>0.0</td>\n",
       "      <td>0.0</td>\n",
       "      <td>0.0</td>\n",
       "      <td>0.0</td>\n",
       "    </tr>\n",
       "  </tbody>\n",
       "</table>\n",
       "</div>"
      ],
      "text/plain": [
       "                           patch_id  \\\n",
       "0  S2A_MSIL2A_20171221T112501_81_34   \n",
       "1  S2A_MSIL2A_20171002T112111_73_39   \n",
       "2   S2A_MSIL2A_20171221T112501_69_6   \n",
       "\n",
       "                                            filename  tree_cover  shrubland  \\\n",
       "0  S2A_MSIL2A_20171221T112501_81_34_esaworldcover...    0.608125   0.158125   \n",
       "1  S2A_MSIL2A_20171002T112111_73_39_esaworldcover...    0.143264   0.000000   \n",
       "2  S2A_MSIL2A_20171221T112501_69_6_esaworldcover.tif    0.412500   0.230764   \n",
       "\n",
       "   grassland  cropland  built-up  bare/sparse_vegetation  snow_and_ice  \\\n",
       "0   0.233333  0.000000  0.000000                0.000417           0.0   \n",
       "1   0.856667  0.000069  0.000000                0.000000           0.0   \n",
       "2   0.352500  0.000069  0.004167                0.000000           0.0   \n",
       "\n",
       "   permanent_water_bodies  herbaceous_wetland  mangroves  moss_and_lichen  \n",
       "0                     0.0                 0.0        0.0              0.0  \n",
       "1                     0.0                 0.0        0.0              0.0  \n",
       "2                     0.0                 0.0        0.0              0.0  "
      ]
     },
     "execution_count": 7,
     "metadata": {},
     "output_type": "execute_result"
    }
   ],
   "source": [
    "test_set_index_df.head(3)"
   ]
  },
  {
   "cell_type": "code",
   "execution_count": 8,
   "id": "95fda919-68bc-47c0-ac9b-8f06dad16c51",
   "metadata": {
    "tags": []
   },
   "outputs": [],
   "source": [
    "classification_threshold = 0.05\n",
    "class_columns = [column for column in test_set_index_df.columns if column not in [\"patch_id\", \"filename\"]]"
   ]
  },
  {
   "cell_type": "code",
   "execution_count": 10,
   "id": "832996b8-9f98-4e4e-ace3-f1f11cf96880",
   "metadata": {
    "tags": []
   },
   "outputs": [
    {
     "name": "stdout",
     "output_type": "stream",
     "text": [
      "[########################################] | 100% Completed | 3.19 ss\n"
     ]
    }
   ],
   "source": [
    "class_sums = test_set_index_df[class_columns].apply(lambda x: (x > classification_threshold).astype(int), axis=1, meta={k: \"int64\" for k in class_columns}).sum()\n",
    "with ProgressBar():\n",
    "    class_sum_results = class_sums.compute()"
   ]
  },
  {
   "cell_type": "markdown",
   "id": "4210a872-9485-4f10-8850-66ead9f25e23",
   "metadata": {},
   "source": [
    "### Original Distribution ###"
   ]
  },
  {
   "cell_type": "code",
   "execution_count": 12,
   "id": "5c0a2f5e-1246-4e60-9498-efaab8a8d1d5",
   "metadata": {
    "tags": []
   },
   "outputs": [
    {
     "data": {
      "text/plain": [
       "{'tree_cover': 0.34617318327725566,\n",
       " 'shrubland': 0.021386858490930888,\n",
       " 'grassland': 0.28912866921916697,\n",
       " 'cropland': 0.16718876899872376,\n",
       " 'built-up': 0.033917314460300885,\n",
       " 'bare/sparse_vegetation': 0.002088409328228333,\n",
       " 'snow_and_ice': 0.0,\n",
       " 'permanent_water_bodies': 0.1288239161542329,\n",
       " 'herbaceous_wetland': 0.010790114862513052,\n",
       " 'mangroves': 0.0,\n",
       " 'moss_and_lichen': 0.0005027652086475615}"
      ]
     },
     "execution_count": 12,
     "metadata": {},
     "output_type": "execute_result"
    }
   ],
   "source": [
    "(class_sum_results / class_sum_results.sum()).to_dict()"
   ]
  },
  {
   "cell_type": "markdown",
   "id": "5e396742-ebf8-4b0d-81b1-cb8a75a04c46",
   "metadata": {},
   "source": [
    "## Sampling Methods ##"
   ]
  },
  {
   "cell_type": "code",
   "execution_count": 24,
   "id": "6b75194b-fa40-437b-b3a1-25d42c6335cb",
   "metadata": {
    "tags": []
   },
   "outputs": [],
   "source": [
    "n = 100000"
   ]
  },
  {
   "cell_type": "markdown",
   "id": "16ee1000-f67f-4709-a4d4-6a352a8f1e20",
   "metadata": {},
   "source": [
    "### Random Distribution ###"
   ]
  },
  {
   "cell_type": "code",
   "execution_count": 30,
   "id": "f8b2baaf-1d03-47ff-86b8-fea7788caa57",
   "metadata": {
    "tags": []
   },
   "outputs": [],
   "source": [
    "random_sample = ben_ge_index.sample(frac=(n / len(ben_ge_index)))"
   ]
  },
  {
   "cell_type": "code",
   "execution_count": 34,
   "id": "620a29d9-f474-454a-83f7-dfb83e45af66",
   "metadata": {
    "tags": []
   },
   "outputs": [],
   "source": [
    "random_sample_class_sums = random_sample[class_columns].apply(lambda x: (x > classification_threshold).astype(int), axis=1, meta={k: \"int64\" for k in class_columns}).sum()"
   ]
  },
  {
   "cell_type": "code",
   "execution_count": 36,
   "id": "906d7db5-f1de-4c2d-91e4-17d78263495d",
   "metadata": {
    "tags": []
   },
   "outputs": [
    {
     "name": "stdout",
     "output_type": "stream",
     "text": [
      "[########################################] | 100% Completed | 28.57 s\n"
     ]
    }
   ],
   "source": [
    "with ProgressBar():\n",
    "    random_sample_class_sums_results = random_sample_class_sums.compute()"
   ]
  },
  {
   "cell_type": "code",
   "execution_count": 37,
   "id": "1dafd2a5-10f7-4d37-9398-73b5342f9edd",
   "metadata": {
    "tags": []
   },
   "outputs": [
    {
     "data": {
      "text/plain": [
       "tree_cover                0.347708\n",
       "shrubland                 0.020732\n",
       "grassland                 0.290300\n",
       "cropland                  0.168799\n",
       "built-up                  0.032591\n",
       "bare/sparse_vegetation    0.001867\n",
       "snow_and_ice              0.000000\n",
       "permanent_water_bodies    0.126562\n",
       "herbaceous_wetland        0.011207\n",
       "mangroves                 0.000000\n",
       "moss_and_lichen           0.000234\n",
       "dtype: float64"
      ]
     },
     "execution_count": 37,
     "metadata": {},
     "output_type": "execute_result"
    }
   ],
   "source": [
    "(random_sample_class_sums_results / random_sample_class_sums_results.sum())"
   ]
  },
  {
   "cell_type": "markdown",
   "id": "9bff91bc-7686-4e7b-b509-f6d341adb0d6",
   "metadata": {
    "tags": []
   },
   "source": [
    "### Max Label Fraction Sampling ###"
   ]
  },
  {
   "cell_type": "code",
   "execution_count": 72,
   "id": "663824d9-8050-48c8-a19e-a044e3a3aef2",
   "metadata": {
    "tags": []
   },
   "outputs": [],
   "source": [
    "classes_with_index = dd.from_pandas(pd.DataFrame(ben_ge_index_df[class_columns].idxmax(axis=1), columns=[\"max_class\"]), chunksize=10000)"
   ]
  },
  {
   "cell_type": "code",
   "execution_count": 73,
   "id": "5baf4dae-8af7-4b38-a7a5-d5a66db2ad44",
   "metadata": {
    "tags": []
   },
   "outputs": [
    {
     "name": "stderr",
     "output_type": "stream",
     "text": [
      "/tmp/ipykernel_6350/2963205959.py:1: UserWarning: `meta` is not specified, inferred from partial data. Please provide `meta` if the result is unexpected.\n",
      "  Before: .apply(func)\n",
      "  After:  .apply(func, meta={'x': 'f8', 'y': 'f8'}) for dataframe result\n",
      "  or:     .apply(func, meta=('x', 'f8'))            for series result\n",
      "  sampled_indices = classes_with_index.groupby(\"max_class\").apply(lambda x: x.sample(frac=(n / len(ben_ge_index))))\n"
     ]
    }
   ],
   "source": [
    "sampled_indices = classes_with_index.groupby(\"max_class\").apply(lambda x: x.sample(frac=(n / len(ben_ge_index))))"
   ]
  },
  {
   "cell_type": "code",
   "execution_count": 74,
   "id": "7f4257c6-420d-47f8-a1de-f4bf97547b77",
   "metadata": {
    "tags": []
   },
   "outputs": [
    {
     "name": "stdout",
     "output_type": "stream",
     "text": [
      "[########################################] | 100% Completed | 1.82 sms\n"
     ]
    }
   ],
   "source": [
    "with ProgressBar():\n",
    "    sampled_indices_result = sampled_indices.compute()"
   ]
  },
  {
   "cell_type": "code",
   "execution_count": 75,
   "id": "36292d1e-a33f-4e3f-a665-e4d4c96f6730",
   "metadata": {
    "tags": []
   },
   "outputs": [],
   "source": [
    "max_label_sampled_df = ben_ge_index.loc[sampled_indices_result.index]"
   ]
  },
  {
   "cell_type": "code",
   "execution_count": 78,
   "id": "83c4bd2b-7f1b-4ef4-8692-7a5282d67826",
   "metadata": {
    "tags": []
   },
   "outputs": [],
   "source": [
    "max_label_sample_class_sums = max_label_sampled_df[class_columns].apply(lambda x: (x > classification_threshold).astype(int), axis=1, meta={k: \"int64\" for k in class_columns}).sum()"
   ]
  },
  {
   "cell_type": "code",
   "execution_count": 79,
   "id": "ce3c2f33-94a0-4477-a4e6-38ca8d3252c9",
   "metadata": {
    "tags": []
   },
   "outputs": [
    {
     "name": "stdout",
     "output_type": "stream",
     "text": [
      "[########################################] | 100% Completed | 32.53 s\n"
     ]
    }
   ],
   "source": [
    "with ProgressBar():\n",
    "    max_label_sample_class_sums_results = max_label_sample_class_sums.compute()"
   ]
  },
  {
   "cell_type": "code",
   "execution_count": 80,
   "id": "f2355249-be4a-4c08-9ff8-1d838b86435a",
   "metadata": {
    "tags": []
   },
   "outputs": [
    {
     "data": {
      "text/plain": [
       "tree_cover                0.348663\n",
       "shrubland                 0.020921\n",
       "grassland                 0.289945\n",
       "cropland                  0.168374\n",
       "built-up                  0.032981\n",
       "bare/sparse_vegetation    0.001914\n",
       "snow_and_ice              0.000000\n",
       "permanent_water_bodies    0.126383\n",
       "herbaceous_wetland        0.010634\n",
       "mangroves                 0.000000\n",
       "moss_and_lichen           0.000185\n",
       "dtype: float64"
      ]
     },
     "execution_count": 80,
     "metadata": {},
     "output_type": "execute_result"
    }
   ],
   "source": [
    "max_label_sample_class_sums_results / max_label_sample_class_sums_results.sum()"
   ]
  },
  {
   "cell_type": "code",
   "execution_count": 91,
   "id": "4fb1120c-d886-4e45-a57b-8f120d72655e",
   "metadata": {
    "tags": []
   },
   "outputs": [
    {
     "data": {
      "image/png": "[encoded data removed]",
      "text/plain": [
       "<Figure size 1500x500 with 3 Axes>"
      ]
     },
     "metadata": {},
     "output_type": "display_data"
    }
   ],
   "source": [
    "import matplotlib.pyplot as plt\n",
    "\n",
    "fig, axs = plt.subplots(nrows=1, ncols=3, figsize=(15, 5))\n",
    "\n",
    "i = 0\n",
    "for k, v in {\n",
    "    \"Original Distribution\": class_sum_results, \n",
    "    \"Random Sample Distribution\": random_sample_class_sums_results,\n",
    "    \"Max Label Sample Distribution\": max_label_sample_class_sums_results\n",
    "}.items():\n",
    "    ax = axs[i]\n",
    "    ax.set_title(k)\n",
    "    v.plot.bar(ax=ax)\n",
    "    i +=1"
   ]
  },
  {
   "cell_type": "markdown",
   "id": "68931c0a-b63e-4e16-bfb6-f3219158f2a7",
   "metadata": {},
   "source": [
    "## Stratified Sampling for Benge 60-Delta ##"
   ]
  },
  {
   "cell_type": "code",
   "execution_count": 148,
   "id": "a5aabd0d-38c2-4c80-a505-e9a6246e431a",
   "metadata": {
    "tags": []
   },
   "outputs": [
    {
     "name": "stdout",
     "output_type": "stream",
     "text": [
      "ben-ge-test60-delta.csv\t\t     ben-ge-train60-delta_1_percent.csv\n",
      "ben-ge-train60-delta.csv\t     ben-ge-train60-delta_50_percent.csv\n",
      "ben-ge-train60-delta_10_percent.csv  ben-ge-validation60-delta.csv\n"
     ]
    }
   ],
   "source": [
    "!ls /ds2/remote_sensing/ben-ge/ffcv/write_indices"
   ]
  },
  {
   "cell_type": "code",
   "execution_count": 126,
   "id": "a2e7d0ee-7f6e-416c-be11-01ca727a36be",
   "metadata": {
    "tags": []
   },
   "outputs": [],
   "source": [
    "fractions = sorted([.01, 0.1, 0.5], reverse=True)\n",
    "benge_ge_60_d_train = pd.read_csv(\"/ds2/remote_sensing/ben-ge/ffcv/write_indices/ben-ge-train60-delta.csv\")"
   ]
  },
  {
   "cell_type": "code",
   "execution_count": 109,
   "id": "91588fde-ef66-413a-bd2a-aadbb695d3e2",
   "metadata": {
    "tags": []
   },
   "outputs": [
    {
     "data": {
      "text/html": [
       "<div>\n",
       "<style scoped>\n",
       "    .dataframe tbody tr th:only-of-type {\n",
       "        vertical-align: middle;\n",
       "    }\n",
       "\n",
       "    .dataframe tbody tr th {\n",
       "        vertical-align: top;\n",
       "    }\n",
       "\n",
       "    .dataframe thead th {\n",
       "        text-align: right;\n",
       "    }\n",
       "</style>\n",
       "<table border=\"1\" class=\"dataframe\">\n",
       "  <thead>\n",
       "    <tr style=\"text-align: right;\">\n",
       "      <th></th>\n",
       "      <th>patch_id</th>\n",
       "      <th>filename</th>\n",
       "      <th>tree_cover</th>\n",
       "      <th>shrubland</th>\n",
       "      <th>grassland</th>\n",
       "      <th>cropland</th>\n",
       "      <th>built-up</th>\n",
       "      <th>bare/sparse_vegetation</th>\n",
       "      <th>snow_and_ice</th>\n",
       "      <th>permanent_water_bodies</th>\n",
       "      <th>herbaceous_wetland</th>\n",
       "      <th>mangroves</th>\n",
       "      <th>moss_and_lichen</th>\n",
       "    </tr>\n",
       "  </thead>\n",
       "  <tbody>\n",
       "    <tr>\n",
       "      <th>0</th>\n",
       "      <td>S2B_MSIL2A_20170709T094029_7_54</td>\n",
       "      <td>S2B_MSIL2A_20170709T094029_7_54_esaworldcover.tif</td>\n",
       "      <td>0.571111</td>\n",
       "      <td>0.000000</td>\n",
       "      <td>0.086667</td>\n",
       "      <td>0.328819</td>\n",
       "      <td>0.008056</td>\n",
       "      <td>0.000069</td>\n",
       "      <td>0.0</td>\n",
       "      <td>0.000000</td>\n",
       "      <td>0.005278</td>\n",
       "      <td>0.0</td>\n",
       "      <td>0.0</td>\n",
       "    </tr>\n",
       "    <tr>\n",
       "      <th>1</th>\n",
       "      <td>S2B_MSIL2A_20170814T100029_84_63</td>\n",
       "      <td>S2B_MSIL2A_20170814T100029_84_63_esaworldcover...</td>\n",
       "      <td>0.000000</td>\n",
       "      <td>0.000000</td>\n",
       "      <td>0.000000</td>\n",
       "      <td>0.000000</td>\n",
       "      <td>0.000000</td>\n",
       "      <td>0.000000</td>\n",
       "      <td>0.0</td>\n",
       "      <td>1.000000</td>\n",
       "      <td>0.000000</td>\n",
       "      <td>0.0</td>\n",
       "      <td>0.0</td>\n",
       "    </tr>\n",
       "    <tr>\n",
       "      <th>2</th>\n",
       "      <td>S2A_MSIL2A_20171002T112112_64_39</td>\n",
       "      <td>S2A_MSIL2A_20171002T112112_64_39_esaworldcover...</td>\n",
       "      <td>0.018542</td>\n",
       "      <td>0.001319</td>\n",
       "      <td>0.922083</td>\n",
       "      <td>0.054792</td>\n",
       "      <td>0.002222</td>\n",
       "      <td>0.000000</td>\n",
       "      <td>0.0</td>\n",
       "      <td>0.001042</td>\n",
       "      <td>0.000000</td>\n",
       "      <td>0.0</td>\n",
       "      <td>0.0</td>\n",
       "    </tr>\n",
       "  </tbody>\n",
       "</table>\n",
       "</div>"
      ],
      "text/plain": [
       "                           patch_id  \\\n",
       "0   S2B_MSIL2A_20170709T094029_7_54   \n",
       "1  S2B_MSIL2A_20170814T100029_84_63   \n",
       "2  S2A_MSIL2A_20171002T112112_64_39   \n",
       "\n",
       "                                            filename  tree_cover  shrubland  \\\n",
       "0  S2B_MSIL2A_20170709T094029_7_54_esaworldcover.tif    0.571111   0.000000   \n",
       "1  S2B_MSIL2A_20170814T100029_84_63_esaworldcover...    0.000000   0.000000   \n",
       "2  S2A_MSIL2A_20171002T112112_64_39_esaworldcover...    0.018542   0.001319   \n",
       "\n",
       "   grassland  cropland  built-up  bare/sparse_vegetation  snow_and_ice  \\\n",
       "0   0.086667  0.328819  0.008056                0.000069           0.0   \n",
       "1   0.000000  0.000000  0.000000                0.000000           0.0   \n",
       "2   0.922083  0.054792  0.002222                0.000000           0.0   \n",
       "\n",
       "   permanent_water_bodies  herbaceous_wetland  mangroves  moss_and_lichen  \n",
       "0                0.000000            0.005278        0.0              0.0  \n",
       "1                1.000000            0.000000        0.0              0.0  \n",
       "2                0.001042            0.000000        0.0              0.0  "
      ]
     },
     "execution_count": 109,
     "metadata": {},
     "output_type": "execute_result"
    }
   ],
   "source": [
    "benge_ge_60_d_train.head(3)"
   ]
  },
  {
   "cell_type": "code",
   "execution_count": 132,
   "id": "f9013fa9-eaf9-4f89-ab63-42c4c7a1d0b8",
   "metadata": {
    "tags": []
   },
   "outputs": [],
   "source": [
    "fraction_samples = {}\n",
    "fraction_df = benge_ge_60_d_train.copy()\n",
    "single_class_label_key = \"single_class_label\"\n",
    "for fraction in fractions:\n",
    "    single_class_labels = pd.DataFrame(fraction_df[class_columns].idxmax(axis=1), columns=[single_class_label_key])\n",
    "    samples = single_class_labels.groupby(single_class_label_key).apply(lambda x: x.sample(frac=fraction))\n",
    "    sample_indices = samples.index.get_level_values(1)\n",
    "    fraction_samples[fraction] = fraction_df.iloc[sample_indices]"
   ]
  },
  {
   "cell_type": "code",
   "execution_count": 134,
   "id": "a549d2f6-6fe8-4cdd-9e3c-c502ce010931",
   "metadata": {
    "tags": []
   },
   "outputs": [
    {
     "data": {
      "text/html": [
       "<div>\n",
       "<style scoped>\n",
       "    .dataframe tbody tr th:only-of-type {\n",
       "        vertical-align: middle;\n",
       "    }\n",
       "\n",
       "    .dataframe tbody tr th {\n",
       "        vertical-align: top;\n",
       "    }\n",
       "\n",
       "    .dataframe thead th {\n",
       "        text-align: right;\n",
       "    }\n",
       "</style>\n",
       "<table border=\"1\" class=\"dataframe\">\n",
       "  <thead>\n",
       "    <tr style=\"text-align: right;\">\n",
       "      <th></th>\n",
       "      <th>patch_id</th>\n",
       "      <th>filename</th>\n",
       "      <th>tree_cover</th>\n",
       "      <th>shrubland</th>\n",
       "      <th>grassland</th>\n",
       "      <th>cropland</th>\n",
       "      <th>built-up</th>\n",
       "      <th>bare/sparse_vegetation</th>\n",
       "      <th>snow_and_ice</th>\n",
       "      <th>permanent_water_bodies</th>\n",
       "      <th>herbaceous_wetland</th>\n",
       "      <th>mangroves</th>\n",
       "      <th>moss_and_lichen</th>\n",
       "    </tr>\n",
       "  </thead>\n",
       "  <tbody>\n",
       "    <tr>\n",
       "      <th>48424</th>\n",
       "      <td>S2B_MSIL2A_20170914T93030_75_77</td>\n",
       "      <td>S2B_MSIL2A_20170914T93030_75_77_esaworldcover.tif</td>\n",
       "      <td>0.187569</td>\n",
       "      <td>0.0</td>\n",
       "      <td>0.148125</td>\n",
       "      <td>0.159375</td>\n",
       "      <td>0.504097</td>\n",
       "      <td>0.000833</td>\n",
       "      <td>0.0</td>\n",
       "      <td>0.000000</td>\n",
       "      <td>0.0</td>\n",
       "      <td>0.0</td>\n",
       "      <td>0.0</td>\n",
       "    </tr>\n",
       "    <tr>\n",
       "      <th>85485</th>\n",
       "      <td>S2A_MSIL2A_20180413T095031_9_24</td>\n",
       "      <td>S2A_MSIL2A_20180413T095031_9_24_esaworldcover.tif</td>\n",
       "      <td>0.295208</td>\n",
       "      <td>0.0</td>\n",
       "      <td>0.169514</td>\n",
       "      <td>0.024792</td>\n",
       "      <td>0.503403</td>\n",
       "      <td>0.001042</td>\n",
       "      <td>0.0</td>\n",
       "      <td>0.006042</td>\n",
       "      <td>0.0</td>\n",
       "      <td>0.0</td>\n",
       "      <td>0.0</td>\n",
       "    </tr>\n",
       "    <tr>\n",
       "      <th>16428</th>\n",
       "      <td>S2B_MSIL2A_20171206T094349_70_49</td>\n",
       "      <td>S2B_MSIL2A_20171206T094349_70_49_esaworldcover...</td>\n",
       "      <td>0.163472</td>\n",
       "      <td>0.0</td>\n",
       "      <td>0.237083</td>\n",
       "      <td>0.250903</td>\n",
       "      <td>0.348542</td>\n",
       "      <td>0.000000</td>\n",
       "      <td>0.0</td>\n",
       "      <td>0.000000</td>\n",
       "      <td>0.0</td>\n",
       "      <td>0.0</td>\n",
       "      <td>0.0</td>\n",
       "    </tr>\n",
       "  </tbody>\n",
       "</table>\n",
       "</div>"
      ],
      "text/plain": [
       "                               patch_id  \\\n",
       "48424   S2B_MSIL2A_20170914T93030_75_77   \n",
       "85485   S2A_MSIL2A_20180413T095031_9_24   \n",
       "16428  S2B_MSIL2A_20171206T094349_70_49   \n",
       "\n",
       "                                                filename  tree_cover  \\\n",
       "48424  S2B_MSIL2A_20170914T93030_75_77_esaworldcover.tif    0.187569   \n",
       "85485  S2A_MSIL2A_20180413T095031_9_24_esaworldcover.tif    0.295208   \n",
       "16428  S2B_MSIL2A_20171206T094349_70_49_esaworldcover...    0.163472   \n",
       "\n",
       "       shrubland  grassland  cropland  built-up  bare/sparse_vegetation  \\\n",
       "48424        0.0   0.148125  0.159375  0.504097                0.000833   \n",
       "85485        0.0   0.169514  0.024792  0.503403                0.001042   \n",
       "16428        0.0   0.237083  0.250903  0.348542                0.000000   \n",
       "\n",
       "       snow_and_ice  permanent_water_bodies  herbaceous_wetland  mangroves  \\\n",
       "48424           0.0                0.000000                 0.0        0.0   \n",
       "85485           0.0                0.006042                 0.0        0.0   \n",
       "16428           0.0                0.000000                 0.0        0.0   \n",
       "\n",
       "       moss_and_lichen  \n",
       "48424              0.0  \n",
       "85485              0.0  \n",
       "16428              0.0  "
      ]
     },
     "execution_count": 134,
     "metadata": {},
     "output_type": "execute_result"
    }
   ],
   "source": [
    "fraction_samples[0.01].head(3)"
   ]
  },
  {
   "cell_type": "code",
   "execution_count": 149,
   "id": "bc65dfcc-ffbd-487d-a847-cf754a1434ad",
   "metadata": {
    "tags": []
   },
   "outputs": [],
   "source": [
    "for k, v in fraction_samples.items():\n",
    "    v.to_csv(f\"/ds2/remote_sensing/ben-ge/ffcv/write_indices/ben-ge-train60-delta_{int(k*100)}_percent.csv\", index=False)"
   ]
  },
  {
   "cell_type": "code",
   "execution_count": null,
   "id": "f783825a-15c3-4f56-aaf6-3789e0adb1e8",
   "metadata": {},
   "outputs": [],
   "source": []
  }
 ],
 "metadata": {
  "kernelspec": {
   "display_name": "Python 3 (ipykernel)",
   "language": "python",
   "name": "python3"
  },
  "language_info": {
   "codemirror_mode": {
    "name": "ipython",
    "version": 3
   },
   "file_extension": ".py",
   "mimetype": "text/x-python",
   "name": "python",
   "nbconvert_exporter": "python",
   "pygments_lexer": "ipython3",
   "version": "3.8.10"
  }
 },
 "nbformat": 4,
 "nbformat_minor": 5
}
