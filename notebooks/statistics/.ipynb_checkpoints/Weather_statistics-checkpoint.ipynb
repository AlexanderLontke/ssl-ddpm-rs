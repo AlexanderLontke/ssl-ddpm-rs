{
 "cells": [
  {
   "cell_type": "code",
   "execution_count": 1,
   "id": "8b768ceb-cc63-47a9-aaf3-8ed4ef5677a0",
   "metadata": {
    "tags": []
   },
   "outputs": [],
   "source": [
    "import glob\n",
    "import math\n",
    "from typing import Tuple\n",
    "from pprint import pprint\n",
    "from tqdm import tqdm\n",
    "\n",
    "import rasterio as rio\n",
    "\n",
    "# Traditional imports\n",
    "import numpy as np\n",
    "import pandas as pd\n",
    "import matplotlib.pyplot as plt\n",
    "\n",
    "\n",
    "# Dask imports\n",
    "import dask.array as da\n",
    "import dask.dataframe as dd\n",
    "from dask.diagnostics import ProgressBar"
   ]
  },
  {
   "cell_type": "markdown",
   "id": "4be1f416-c0e2-4adc-8ad2-8ff7e6955edd",
   "metadata": {},
   "source": [
    "### Load Elevation Maps Index ###"
   ]
  },
  {
   "cell_type": "code",
   "execution_count": 27,
   "id": "bee13515-0976-4b61-b269-51cf4727c50d",
   "metadata": {
    "tags": []
   },
   "outputs": [],
   "source": [
    "data_index_path = \"/ds2/remote_sensing/ben-ge/ben-ge/data-index/ben-ge-train.csv\" \n",
    "index_df = pd.read_csv(data_index_path)"
   ]
  },
  {
   "cell_type": "code",
   "execution_count": 28,
   "id": "3f054ff9-2176-4f93-896d-6bcdc9340e36",
   "metadata": {
    "tags": []
   },
   "outputs": [
    {
     "data": {
      "text/html": [
       "<div>\n",
       "<style scoped>\n",
       "    .dataframe tbody tr th:only-of-type {\n",
       "        vertical-align: middle;\n",
       "    }\n",
       "\n",
       "    .dataframe tbody tr th {\n",
       "        vertical-align: top;\n",
       "    }\n",
       "\n",
       "    .dataframe thead th {\n",
       "        text-align: right;\n",
       "    }\n",
       "</style>\n",
       "<table border=\"1\" class=\"dataframe\">\n",
       "  <thead>\n",
       "    <tr style=\"text-align: right;\">\n",
       "      <th></th>\n",
       "      <th>patch_id</th>\n",
       "      <th>filename</th>\n",
       "      <th>tree_cover</th>\n",
       "      <th>shrubland</th>\n",
       "      <th>grassland</th>\n",
       "      <th>cropland</th>\n",
       "      <th>built-up</th>\n",
       "      <th>bare/sparse_vegetation</th>\n",
       "      <th>snow_and_ice</th>\n",
       "      <th>permanent_water_bodies</th>\n",
       "      <th>herbaceous_wetland</th>\n",
       "      <th>mangroves</th>\n",
       "      <th>moss_and_lichen</th>\n",
       "    </tr>\n",
       "  </thead>\n",
       "  <tbody>\n",
       "    <tr>\n",
       "      <th>0</th>\n",
       "      <td>S2A_MSIL2A_20180205T100211_34_84</td>\n",
       "      <td>S2A_MSIL2A_20180205T100211_34_84_esaworldcover...</td>\n",
       "      <td>0.799375</td>\n",
       "      <td>0.000000</td>\n",
       "      <td>0.014167</td>\n",
       "      <td>0.001111</td>\n",
       "      <td>0.082917</td>\n",
       "      <td>0.000139</td>\n",
       "      <td>0.0</td>\n",
       "      <td>0.102292</td>\n",
       "      <td>0.0</td>\n",
       "      <td>0.0</td>\n",
       "      <td>0.0</td>\n",
       "    </tr>\n",
       "    <tr>\n",
       "      <th>1</th>\n",
       "      <td>S2A_MSIL2A_20171121T112351_25_32</td>\n",
       "      <td>S2A_MSIL2A_20171121T112351_25_32_esaworldcover...</td>\n",
       "      <td>0.202153</td>\n",
       "      <td>0.002569</td>\n",
       "      <td>0.664583</td>\n",
       "      <td>0.052708</td>\n",
       "      <td>0.076667</td>\n",
       "      <td>0.001319</td>\n",
       "      <td>0.0</td>\n",
       "      <td>0.000000</td>\n",
       "      <td>0.0</td>\n",
       "      <td>0.0</td>\n",
       "      <td>0.0</td>\n",
       "    </tr>\n",
       "  </tbody>\n",
       "</table>\n",
       "</div>"
      ],
      "text/plain": [
       "                           patch_id  \\\n",
       "0  S2A_MSIL2A_20180205T100211_34_84   \n",
       "1  S2A_MSIL2A_20171121T112351_25_32   \n",
       "\n",
       "                                            filename  tree_cover  shrubland  \\\n",
       "0  S2A_MSIL2A_20180205T100211_34_84_esaworldcover...    0.799375   0.000000   \n",
       "1  S2A_MSIL2A_20171121T112351_25_32_esaworldcover...    0.202153   0.002569   \n",
       "\n",
       "   grassland  cropland  built-up  bare/sparse_vegetation  snow_and_ice  \\\n",
       "0   0.014167  0.001111  0.082917                0.000139           0.0   \n",
       "1   0.664583  0.052708  0.076667                0.001319           0.0   \n",
       "\n",
       "   permanent_water_bodies  herbaceous_wetland  mangroves  moss_and_lichen  \n",
       "0                0.102292                 0.0        0.0              0.0  \n",
       "1                0.000000                 0.0        0.0              0.0  "
      ]
     },
     "execution_count": 28,
     "metadata": {},
     "output_type": "execute_result"
    }
   ],
   "source": [
    "index_df.head(2)"
   ]
  },
  {
   "cell_type": "markdown",
   "id": "d62b8abe-d72e-4360-ac18-72b306b6703b",
   "metadata": {},
   "source": [
    "### Load Sentinel-1 Files ###"
   ]
  },
  {
   "cell_type": "code",
   "execution_count": 4,
   "id": "3c0b3d1f-12e9-46cf-ba58-f5a2f9a13014",
   "metadata": {
    "tags": []
   },
   "outputs": [],
   "source": [
    "glo_30_dem_root_path = \"/ds2/remote_sensing/ben-ge/ben-ge/glo-30_dem\"\n",
    "filenames = [f\"{glo_30_dem_root_path}/{patch_id}_dem.tif\" for patch_id in index_df[\"patch_id\"]]"
   ]
  },
  {
   "cell_type": "code",
   "execution_count": 5,
   "id": "c3b4624c-2c79-4914-904e-78e7a8229a32",
   "metadata": {
    "tags": []
   },
   "outputs": [],
   "source": [
    "def read_one_image(block_id, filenames=filenames, axis=0):\n",
    "    path = filenames[block_id[axis]]\n",
    "    with rio.open(path) as image_file:\n",
    "        img_altitude = image_file.read()\n",
    "    return np.expand_dims(img_altitude[0], axis=axis)\n",
    "\n",
    "# load the first image (assume rest are same shape/dtype)\n",
    "with rio.open(filenames[0]) as image_file:\n",
    "    img_altitude = image_file.read()\n",
    "sample = img_altitude[0]\n",
    "\n",
    "stack = da.map_blocks(\n",
    "    read_one_image,\n",
    "    dtype=sample.dtype,\n",
    "    chunks=((1,) * len(filenames),  *sample.shape)\n",
    ")"
   ]
  },
  {
   "cell_type": "code",
   "execution_count": 6,
   "id": "a7e6a06c-0ff7-4f3c-a89f-0036163aba52",
   "metadata": {
    "tags": []
   },
   "outputs": [
    {
     "data": {
      "text/html": [
       "<table>\n",
       "    <tr>\n",
       "        <td>\n",
       "            <table style=\"border-collapse: collapse;\">\n",
       "                <thead>\n",
       "                    <tr>\n",
       "                        <td> </td>\n",
       "                        <th> Array </th>\n",
       "                        <th> Chunk </th>\n",
       "                    </tr>\n",
       "                </thead>\n",
       "                <tbody>\n",
       "                    \n",
       "                    <tr>\n",
       "                        <th> Bytes </th>\n",
       "                        <td> 12.50 GiB </td>\n",
       "                        <td> 28.12 kiB </td>\n",
       "                    </tr>\n",
       "                    \n",
       "                    <tr>\n",
       "                        <th> Shape </th>\n",
       "                        <td> (465856, 120, 120) </td>\n",
       "                        <td> (1, 120, 120) </td>\n",
       "                    </tr>\n",
       "                    <tr>\n",
       "                        <th> Dask graph </th>\n",
       "                        <td colspan=\"2\"> 465856 chunks in 2 graph layers </td>\n",
       "                    </tr>\n",
       "                    <tr>\n",
       "                        <th> Data type </th>\n",
       "                        <td colspan=\"2\"> int16 numpy.ndarray </td>\n",
       "                    </tr>\n",
       "                </tbody>\n",
       "            </table>\n",
       "        </td>\n",
       "        <td>\n",
       "        <svg width=\"156\" height=\"146\" style=\"stroke:rgb(0,0,0);stroke-width:1\" >\n",
       "\n",
       "  <!-- Horizontal lines -->\n",
       "  <line x1=\"10\" y1=\"0\" x2=\"80\" y2=\"70\" style=\"stroke-width:2\" />\n",
       "  <line x1=\"10\" y1=\"25\" x2=\"80\" y2=\"96\" style=\"stroke-width:2\" />\n",
       "\n",
       "  <!-- Vertical lines -->\n",
       "  <line x1=\"10\" y1=\"0\" x2=\"10\" y2=\"25\" style=\"stroke-width:2\" />\n",
       "  <line x1=\"13\" y1=\"3\" x2=\"13\" y2=\"29\" />\n",
       "  <line x1=\"17\" y1=\"7\" x2=\"17\" y2=\"32\" />\n",
       "  <line x1=\"21\" y1=\"11\" x2=\"21\" y2=\"36\" />\n",
       "  <line x1=\"24\" y1=\"14\" x2=\"24\" y2=\"40\" />\n",
       "  <line x1=\"28\" y1=\"18\" x2=\"28\" y2=\"43\" />\n",
       "  <line x1=\"32\" y1=\"22\" x2=\"32\" y2=\"47\" />\n",
       "  <line x1=\"36\" y1=\"26\" x2=\"36\" y2=\"51\" />\n",
       "  <line x1=\"39\" y1=\"29\" x2=\"39\" y2=\"55\" />\n",
       "  <line x1=\"43\" y1=\"33\" x2=\"43\" y2=\"58\" />\n",
       "  <line x1=\"47\" y1=\"37\" x2=\"47\" y2=\"62\" />\n",
       "  <line x1=\"50\" y1=\"40\" x2=\"50\" y2=\"66\" />\n",
       "  <line x1=\"54\" y1=\"44\" x2=\"54\" y2=\"69\" />\n",
       "  <line x1=\"58\" y1=\"48\" x2=\"58\" y2=\"73\" />\n",
       "  <line x1=\"62\" y1=\"52\" x2=\"62\" y2=\"77\" />\n",
       "  <line x1=\"65\" y1=\"55\" x2=\"65\" y2=\"81\" />\n",
       "  <line x1=\"69\" y1=\"59\" x2=\"69\" y2=\"84\" />\n",
       "  <line x1=\"73\" y1=\"63\" x2=\"73\" y2=\"88\" />\n",
       "  <line x1=\"76\" y1=\"66\" x2=\"76\" y2=\"92\" />\n",
       "  <line x1=\"80\" y1=\"70\" x2=\"80\" y2=\"96\" style=\"stroke-width:2\" />\n",
       "\n",
       "  <!-- Colored Rectangle -->\n",
       "  <polygon points=\"10.0,0.0 80.58823529411765,70.58823529411765 80.58823529411765,96.00085180870013 10.0,25.412616514582485\" style=\"fill:#8B4903A0;stroke-width:0\"/>\n",
       "\n",
       "  <!-- Horizontal lines -->\n",
       "  <line x1=\"10\" y1=\"0\" x2=\"35\" y2=\"0\" style=\"stroke-width:2\" />\n",
       "  <line x1=\"13\" y1=\"3\" x2=\"39\" y2=\"3\" />\n",
       "  <line x1=\"17\" y1=\"7\" x2=\"42\" y2=\"7\" />\n",
       "  <line x1=\"21\" y1=\"11\" x2=\"46\" y2=\"11\" />\n",
       "  <line x1=\"24\" y1=\"14\" x2=\"50\" y2=\"14\" />\n",
       "  <line x1=\"28\" y1=\"18\" x2=\"53\" y2=\"18\" />\n",
       "  <line x1=\"32\" y1=\"22\" x2=\"57\" y2=\"22\" />\n",
       "  <line x1=\"36\" y1=\"26\" x2=\"61\" y2=\"26\" />\n",
       "  <line x1=\"39\" y1=\"29\" x2=\"65\" y2=\"29\" />\n",
       "  <line x1=\"43\" y1=\"33\" x2=\"68\" y2=\"33\" />\n",
       "  <line x1=\"47\" y1=\"37\" x2=\"72\" y2=\"37\" />\n",
       "  <line x1=\"50\" y1=\"40\" x2=\"76\" y2=\"40\" />\n",
       "  <line x1=\"54\" y1=\"44\" x2=\"79\" y2=\"44\" />\n",
       "  <line x1=\"58\" y1=\"48\" x2=\"83\" y2=\"48\" />\n",
       "  <line x1=\"62\" y1=\"52\" x2=\"87\" y2=\"52\" />\n",
       "  <line x1=\"65\" y1=\"55\" x2=\"91\" y2=\"55\" />\n",
       "  <line x1=\"69\" y1=\"59\" x2=\"94\" y2=\"59\" />\n",
       "  <line x1=\"73\" y1=\"63\" x2=\"98\" y2=\"63\" />\n",
       "  <line x1=\"76\" y1=\"66\" x2=\"102\" y2=\"66\" />\n",
       "  <line x1=\"80\" y1=\"70\" x2=\"106\" y2=\"70\" style=\"stroke-width:2\" />\n",
       "\n",
       "  <!-- Vertical lines -->\n",
       "  <line x1=\"10\" y1=\"0\" x2=\"80\" y2=\"70\" style=\"stroke-width:2\" />\n",
       "  <line x1=\"35\" y1=\"0\" x2=\"106\" y2=\"70\" style=\"stroke-width:2\" />\n",
       "\n",
       "  <!-- Colored Rectangle -->\n",
       "  <polygon points=\"10.0,0.0 35.41261651458248,0.0 106.00085180870013,70.58823529411765 80.58823529411765,70.58823529411765\" style=\"fill:#8B4903A0;stroke-width:0\"/>\n",
       "\n",
       "  <!-- Horizontal lines -->\n",
       "  <line x1=\"80\" y1=\"70\" x2=\"106\" y2=\"70\" style=\"stroke-width:2\" />\n",
       "  <line x1=\"80\" y1=\"96\" x2=\"106\" y2=\"96\" style=\"stroke-width:2\" />\n",
       "\n",
       "  <!-- Vertical lines -->\n",
       "  <line x1=\"80\" y1=\"70\" x2=\"80\" y2=\"96\" style=\"stroke-width:2\" />\n",
       "  <line x1=\"106\" y1=\"70\" x2=\"106\" y2=\"96\" style=\"stroke-width:2\" />\n",
       "\n",
       "  <!-- Colored Rectangle -->\n",
       "  <polygon points=\"80.58823529411765,70.58823529411765 106.00085180870013,70.58823529411765 106.00085180870013,96.00085180870013 80.58823529411765,96.00085180870013\" style=\"fill:#ECB172A0;stroke-width:0\"/>\n",
       "\n",
       "  <!-- Text -->\n",
       "  <text x=\"93.294544\" y=\"116.000852\" font-size=\"1.0rem\" font-weight=\"100\" text-anchor=\"middle\" >120</text>\n",
       "  <text x=\"126.000852\" y=\"83.294544\" font-size=\"1.0rem\" font-weight=\"100\" text-anchor=\"middle\" transform=\"rotate(-90,126.000852,83.294544)\">120</text>\n",
       "  <text x=\"35.294118\" y=\"80.706734\" font-size=\"1.0rem\" font-weight=\"100\" text-anchor=\"middle\" transform=\"rotate(45,35.294118,80.706734)\">465856</text>\n",
       "</svg>\n",
       "        </td>\n",
       "    </tr>\n",
       "</table>"
      ],
      "text/plain": [
       "dask.array<read_one_image, shape=(465856, 120, 120), dtype=int16, chunksize=(1, 120, 120), chunktype=numpy.ndarray>"
      ]
     },
     "execution_count": 6,
     "metadata": {},
     "output_type": "execute_result"
    }
   ],
   "source": [
    "stack"
   ]
  },
  {
   "cell_type": "markdown",
   "id": "646f755e-6cad-4336-ab4a-84a59e65e60c",
   "metadata": {
    "tags": []
   },
   "source": [
    "### Compute Channelwise Sentinel 1 Statistics  ###"
   ]
  },
  {
   "cell_type": "code",
   "execution_count": 7,
   "id": "5094e716-44bc-42e7-8b6e-d498c70edbc1",
   "metadata": {
    "tags": []
   },
   "outputs": [],
   "source": [
    "glo_30_dem_stats = [\n",
    "    getattr(stack, stat)()\n",
    "    for stat in [\"min\", \"max\", \"mean\", \"std\"]\n",
    "]\n",
    "\n",
    "glo_30_dem_stats += [da.histogram(stack, bins=2000, range=(-1000, 3000))]"
   ]
  },
  {
   "cell_type": "markdown",
   "id": "692502c1-69b0-426a-8270-2a5c34222891",
   "metadata": {
    "tags": []
   },
   "source": [
    "### Run Computation ###"
   ]
  },
  {
   "cell_type": "code",
   "execution_count": null,
   "id": "a73e1957-8298-4fce-a8ac-570063e08be5",
   "metadata": {
    "tags": []
   },
   "outputs": [
    {
     "name": "stdout",
     "output_type": "stream",
     "text": [
      "[                                        ] | 0% Completed | 411.40 ss"
     ]
    },
    {
     "name": "stderr",
     "output_type": "stream",
     "text": [
      "IOStream.flush timed out\n"
     ]
    },
    {
     "name": "stdout",
     "output_type": "stream",
     "text": [
      "[#################                       ] | 42% Completed | 59m 27s"
     ]
    }
   ],
   "source": [
    "with ProgressBar():\n",
    "    stats_result = da.compute(*glo_30_dem_stats)"
   ]
  },
  {
   "cell_type": "code",
   "execution_count": null,
   "id": "ce012c43-bbca-4ca8-8e2b-1714816a1b05",
   "metadata": {
    "tags": []
   },
   "outputs": [],
   "source": [
    "import pickle\n",
    "with open(\"./glo_30_dem_stats_result.pkl\", \"wb\") as out_file:\n",
    "    pickle.dump(stats_result, out_file)"
   ]
  },
  {
   "cell_type": "markdown",
   "id": "75ca18e6-4540-4712-9aaa-250aed66b1b4",
   "metadata": {},
   "source": [
    "### Compute Quantiles from histogram ###"
   ]
  },
  {
   "cell_type": "code",
   "execution_count": null,
   "id": "3893c9c0-4bff-4111-a424-3e02ca6a95c4",
   "metadata": {
    "tags": []
   },
   "outputs": [],
   "source": [
    "def calculate_percentile_from_histogram(hist_counts, hist_bins, p=0.5):\n",
    "    n = hist_counts.sum()\n",
    "    quantile_index = int(p*n)\n",
    "    \n",
    "    # Find bin in which quantile index is placed\n",
    "    cum_sum = 0\n",
    "    bin_index = 0\n",
    "    for i, counts in enumerate(hist_counts):\n",
    "        cum_sum += counts\n",
    "        # If cumulative sum exceeds quantile index stop\n",
    "        if cum_sum > quantile_index:\n",
    "            bin_index = i\n",
    "            break\n",
    "\n",
    "    # Calculate bin value\n",
    "    bin_lower = hist_bins[i]\n",
    "    bin_width = abs(hist_bins[i+1] - bin_lower)\n",
    "    overstep = cum_sum - quantile_index\n",
    "    \n",
    "    # Divide overstep by amount of samples in the bin\n",
    "    bin_value = overstep / hist_counts[bin_index] \n",
    "    return bin_lower + bin_value"
   ]
  },
  {
   "cell_type": "code",
   "execution_count": null,
   "id": "be1d26d2-6dd0-4f70-9c33-6d8247dc294a",
   "metadata": {
    "tags": []
   },
   "outputs": [],
   "source": [
    "max_values, min_values, mean_values, std_values, histogram_values_0  = stats_result"
   ]
  },
  {
   "cell_type": "code",
   "execution_count": null,
   "id": "2380a418-47b3-40bd-acf3-8acfddd77761",
   "metadata": {
    "tags": []
   },
   "outputs": [],
   "source": [
    "def pretty_histogram(histogram_values: Tuple[np.ndarray, np.ndarray]):\n",
    "    hist_counts, hist_bins = histogram_values\n",
    "    pprint({ k: calculate_percentile_from_histogram(hist_counts, hist_bins, p=k) for k in np.arange(0.25, 1.0, 0.25)})\n",
    "    plt.stairs(hist_counts, hist_bins, fill=True)"
   ]
  },
  {
   "cell_type": "code",
   "execution_count": null,
   "id": "977986c5-2ac2-45f1-b20b-3922c85e02a7",
   "metadata": {
    "tags": []
   },
   "outputs": [],
   "source": [
    "pretty_histogram(histogram_values_0)"
   ]
  },
  {
   "cell_type": "code",
   "execution_count": null,
   "id": "7c2ce9d5-ff67-4b31-ab79-a74a3552b54e",
   "metadata": {},
   "outputs": [],
   "source": [
    "stats_result[:4]"
   ]
  },
  {
   "cell_type": "code",
   "execution_count": 19,
   "id": "f0c679cc-bd8d-4750-97ec-941fd0b935dc",
   "metadata": {},
   "outputs": [],
   "source": [
    "with open(\"./glo_30_dem_stats_result.pkl\", \"rb\") as in_file:\n",
    "    res = pickle.load(in_file)"
   ]
  },
  {
   "cell_type": "code",
   "execution_count": 23,
   "id": "19c87450-a295-41b0-962a-f1acdac09bae",
   "metadata": {
    "tags": []
   },
   "outputs": [
    {
     "name": "stdout",
     "output_type": "stream",
     "text": [
      "{0.25: 60.22580140502682, 0.5: 112.80462025861813, 0.75: 200.55268640257168}\n"
     ]
    },
    {
     "data": {
      "image/png": "[encoded data removed]",
      "text/plain": [
       "<Figure size 640x480 with 1 Axes>"
      ]
     },
     "metadata": {},
     "output_type": "display_data"
    }
   ],
   "source": [
    "pretty_histogram(res[-1])"
   ]
  },
  {
   "cell_type": "code",
   "execution_count": 31,
   "id": "82ca6dbd-9d52-4a00-a37f-1edbd4865424",
   "metadata": {
    "tags": []
   },
   "outputs": [],
   "source": [
    "hist_values = res[-1]"
   ]
  },
  {
   "cell_type": "code",
   "execution_count": 50,
   "id": "848c886c-c864-4c8a-9e44-58a7ab17713e",
   "metadata": {
    "tags": []
   },
   "outputs": [],
   "source": [
    "hist_values_neg = (hist_values[0][450:500], hist_values[1][450:501])"
   ]
  },
  {
   "cell_type": "code",
   "execution_count": 51,
   "id": "fa50048f-70f3-45bf-b185-96175dbeb498",
   "metadata": {
    "tags": []
   },
   "outputs": [
    {
     "name": "stdout",
     "output_type": "stream",
     "text": [
      "{0.25: -1.2037130470015311, 0.5: -1.4691420313343542, 0.75: -1.7345710156671772}\n"
     ]
    },
    {
     "data": {
      "image/png": "[encoded data removed]",
      "text/plain": [
       "<Figure size 640x480 with 1 Axes>"
      ]
     },
     "metadata": {},
     "output_type": "display_data"
    }
   ],
   "source": [
    "pretty_histogram(hist_values_neg)"
   ]
  },
  {
   "cell_type": "code",
   "execution_count": 35,
   "id": "d3e94a21-9f76-4255-af48-e1c834ceed08",
   "metadata": {
    "tags": []
   },
   "outputs": [
    {
     "data": {
      "text/plain": [
       "<generator object <genexpr> at 0x7f116205bac0>"
      ]
     },
     "execution_count": 35,
     "metadata": {},
     "output_type": "execute_result"
    }
   ],
   "source": [
    "hist_values_neg"
   ]
  },
  {
   "cell_type": "code",
   "execution_count": 53,
   "id": "758d7c57-6574-4006-99e5-92d1d833b1c0",
   "metadata": {
    "tags": []
   },
   "outputs": [
    {
     "data": {
      "text/plain": [
       "array([     0,      0,      0,      0,      0,      0,      0,      0,\n",
       "            0,      0,      0,      0,      0,      0,      0,      0,\n",
       "            0,      0,      0,      0,      0,      0,      0,      0,\n",
       "            0,      0,      1,      4,      6,     15,     11,     10,\n",
       "           12,     15,     13,     19,     19,     24,     32,     32,\n",
       "           36,     45,     46,     40,     45,     39,     50,     59,\n",
       "           69,     58,     53,     49,     44,     61,     38,     51,\n",
       "           39,     46,     33,     54,     44,     36,     50,     44,\n",
       "           39,     61,    116,    166,    157,    209,    165,    183,\n",
       "          371,    482,    469,    444,    521,    724,    725,    786,\n",
       "          789,    745,    777,    926,    831,   1035,    839,   1063,\n",
       "         1248,   1034,    973,    933,   1214,   1770,   2171,   1925,\n",
       "         2278,   3041,  26049, 905779])"
      ]
     },
     "execution_count": 53,
     "metadata": {},
     "output_type": "execute_result"
    }
   ],
   "source": [
    "hist_values[0][400:500]"
   ]
  },
  {
   "cell_type": "code",
   "execution_count": 54,
   "id": "0134cbba-22a5-4e76-8075-120f7d094454",
   "metadata": {
    "tags": []
   },
   "outputs": [
    {
     "data": {
      "text/plain": [
       "array([-200., -198., -196., -194., -192., -190., -188., -186., -184.,\n",
       "       -182., -180., -178., -176., -174., -172., -170., -168., -166.,\n",
       "       -164., -162., -160., -158., -156., -154., -152., -150., -148.,\n",
       "       -146., -144., -142., -140., -138., -136., -134., -132., -130.,\n",
       "       -128., -126., -124., -122., -120., -118., -116., -114., -112.,\n",
       "       -110., -108., -106., -104., -102., -100.,  -98.,  -96.,  -94.,\n",
       "        -92.,  -90.,  -88.,  -86.,  -84.,  -82.,  -80.,  -78.,  -76.,\n",
       "        -74.,  -72.,  -70.,  -68.,  -66.,  -64.,  -62.,  -60.,  -58.,\n",
       "        -56.,  -54.,  -52.,  -50.,  -48.,  -46.,  -44.,  -42.,  -40.,\n",
       "        -38.,  -36.,  -34.,  -32.,  -30.,  -28.,  -26.,  -24.,  -22.,\n",
       "        -20.,  -18.,  -16.,  -14.,  -12.,  -10.,   -8.,   -6.,   -4.,\n",
       "         -2.])"
      ]
     },
     "execution_count": 54,
     "metadata": {},
     "output_type": "execute_result"
    }
   ],
   "source": [
    "hist_values[1][400:500]"
   ]
  },
  {
   "cell_type": "code",
   "execution_count": 56,
   "id": "303df19b-df6f-4803-8ad5-c9a71e6d7a2b",
   "metadata": {
    "tags": []
   },
   "outputs": [
    {
     "data": {
      "text/plain": [
       "(-147,\n",
       " 2619,\n",
       " 176.1756328703684,\n",
       " 219.73122195411094,\n",
       " (array([0, 0, 0, ..., 0, 0, 0]),\n",
       "  array([-1000.,  -998.,  -996., ...,  2996.,  2998.,  3000.])))"
      ]
     },
     "execution_count": 56,
     "metadata": {},
     "output_type": "execute_result"
    }
   ],
   "source": [
    "res"
   ]
  },
  {
   "cell_type": "code",
   "execution_count": null,
   "id": "9a1c0216-0e8d-4a9b-915a-b98409d87672",
   "metadata": {},
   "outputs": [],
   "source": []
  }
 ],
 "metadata": {
  "kernelspec": {
   "display_name": "Python 3 (ipykernel)",
   "language": "python",
   "name": "python3"
  },
  "language_info": {
   "codemirror_mode": {
    "name": "ipython",
    "version": 3
   },
   "file_extension": ".py",
   "mimetype": "text/x-python",
   "name": "python",
   "nbconvert_exporter": "python",
   "pygments_lexer": "ipython3",
   "version": "3.8.10"
  }
 },
 "nbformat": 4,
 "nbformat_minor": 5
}
