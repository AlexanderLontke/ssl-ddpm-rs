{
 "cells": [
  {
   "cell_type": "markdown",
   "id": "9bce4f1c-d125-449b-b081-6a327714b03b",
   "metadata": {
    "tags": []
   },
   "source": [
    "# Load raw Ben-Ge Dataset #"
   ]
  },
  {
   "cell_type": "code",
   "execution_count": 21,
   "id": "251254be-70f3-4e69-a69c-3ad01db9ed09",
   "metadata": {
    "tags": []
   },
   "outputs": [],
   "source": [
    "import yaml\n",
    "from lit_diffusion.util import instantiate_python_class_from_string_config"
   ]
  },
  {
   "cell_type": "code",
   "execution_count": 22,
   "id": "29987802-7e8c-4383-a1dc-f5804b0bce4a",
   "metadata": {
    "tags": []
   },
   "outputs": [
    {
     "name": "stdout",
     "output_type": "stream",
     "text": [
      "ffcv_ben-ge-train60-delta_10_percent.yaml\n",
      "ffcv_ben-ge-train60-delta_1_percent.yaml\n",
      "ffcv_ben-ge-train60-delta_50_percent.yaml\n"
     ]
    }
   ],
   "source": [
    "!ls ../../remote-sensing-core/configs/ffcv_datasets/ben_ge_60_delta/fractions_multilabel"
   ]
  },
  {
   "cell_type": "code",
   "execution_count": 23,
   "id": "64bed6c3-59d5-4edd-9439-67a7de88f008",
   "metadata": {
    "tags": []
   },
   "outputs": [],
   "source": [
    "with open(\"../../remote-sensing-core/configs/ffcv_datasets/ben_ge_60_delta/fractions_multilabel/ffcv_ben-ge-train60-delta_50_percent.yaml\", \"r\") as config_file:\n",
    "    yaml_config = yaml.safe_load(config_file)\n",
    "dataset = instantiate_python_class_from_string_config(yaml_config[\"dataset_config\"])"
   ]
  },
  {
   "cell_type": "code",
   "execution_count": 24,
   "id": "4271937c-891b-4596-9d33-7a5f2997d2c1",
   "metadata": {
    "tags": []
   },
   "outputs": [
    {
     "name": "stdout",
     "output_type": "stream",
     "text": [
      "()\n",
      "()\n",
      "(9,)\n",
      "(1, 120, 120)\n",
      "(3, 120, 120)\n",
      "(11,)\n",
      "(11,)\n",
      "()\n",
      "()\n",
      "(2, 120, 120)\n",
      "(12, 120, 120)\n",
      "['climate_zone', 'elevation_difference_label', 'era_5', 'esa_worldcover', 'glo_30_dem', 'multiclass_numeric_label', 'multiclass_one_hot_label', 'season_s1', 'season_s2', 'sentinel_1', 'sentinel_2']\n"
     ]
    }
   ],
   "source": [
    "for x in dataset[1]:\n",
    "    try:\n",
    "        print(x.shape)\n",
    "    except AttributeError:\n",
    "        print(x)"
   ]
  },
  {
   "cell_type": "code",
   "execution_count": null,
   "id": "9c07f39d-0b5a-47f5-9bf8-dc360ca8418b",
   "metadata": {},
   "outputs": [],
   "source": []
  }
 ],
 "metadata": {
  "kernelspec": {
   "display_name": "Python 3 (ipykernel)",
   "language": "python",
   "name": "python3"
  },
  "language_info": {
   "codemirror_mode": {
    "name": "ipython",
    "version": 3
   },
   "file_extension": ".py",
   "mimetype": "text/x-python",
   "name": "python",
   "nbconvert_exporter": "python",
   "pygments_lexer": "ipython3",
   "version": "3.8.10"
  }
 },
 "nbformat": 4,
 "nbformat_minor": 5
}
