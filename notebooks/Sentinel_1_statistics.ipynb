{
 "cells": [
  {
   "cell_type": "code",
   "execution_count": 1,
   "id": "8b768ceb-cc63-47a9-aaf3-8ed4ef5677a0",
   "metadata": {
    "tags": []
   },
   "outputs": [],
   "source": [
    "import glob\n",
    "import math\n",
    "from typing import Tuple\n",
    "from pprint import pprint\n",
    "from tqdm import tqdm\n",
    "\n",
    "# Traditional imports\n",
    "import numpy as np\n",
    "import pandas as pd\n",
    "import matplotlib.pyplot as plt\n",
    "\n",
    "\n",
    "# Dask imports\n",
    "import dask.array as da\n",
    "import dask.dataframe as dd\n",
    "from dask.diagnostics import ProgressBar"
   ]
  },
  {
   "attachments": {},
   "cell_type": "markdown",
   "id": "4be1f416-c0e2-4adc-8ad2-8ff7e6955edd",
   "metadata": {},
   "source": [
    "### Load Sentinel-1 Images Index ###"
   ]
  },
  {
   "cell_type": "code",
   "execution_count": 2,
   "id": "bee13515-0976-4b61-b269-51cf4727c50d",
   "metadata": {
    "tags": []
   },
   "outputs": [],
   "source": [
    "data_index_path = \"/ds2/remote_sensing/ben-ge/ben-ge/ben-ge_meta.csv\" \n",
    "index_df = pd.read_csv(data_index_path)"
   ]
  },
  {
   "cell_type": "code",
   "execution_count": 3,
   "id": "3f054ff9-2176-4f93-896d-6bcdc9340e36",
   "metadata": {
    "tags": []
   },
   "outputs": [
    {
     "data": {
      "text/html": [
       "<div>\n",
       "<style scoped>\n",
       "    .dataframe tbody tr th:only-of-type {\n",
       "        vertical-align: middle;\n",
       "    }\n",
       "\n",
       "    .dataframe tbody tr th {\n",
       "        vertical-align: top;\n",
       "    }\n",
       "\n",
       "    .dataframe thead th {\n",
       "        text-align: right;\n",
       "    }\n",
       "</style>\n",
       "<table border=\"1\" class=\"dataframe\">\n",
       "  <thead>\n",
       "    <tr style=\"text-align: right;\">\n",
       "      <th></th>\n",
       "      <th>patch_id</th>\n",
       "      <th>patch_id_s1</th>\n",
       "      <th>timestamp_s2</th>\n",
       "      <th>timestamp_s1</th>\n",
       "      <th>season_s2</th>\n",
       "      <th>season_s1</th>\n",
       "      <th>lon</th>\n",
       "      <th>lat</th>\n",
       "    </tr>\n",
       "  </thead>\n",
       "  <tbody>\n",
       "    <tr>\n",
       "      <th>0</th>\n",
       "      <td>S2B_MSIL2A_20180204T94161_57_38</td>\n",
       "      <td>S1A_IW_GRDH_1SDV_20180204T043253_35VPK_57_38</td>\n",
       "      <td>2018-02-04 09:41:56</td>\n",
       "      <td>2018-02-04 04:32:53</td>\n",
       "      <td>0.36662</td>\n",
       "      <td>0.36662</td>\n",
       "      <td>30.30100</td>\n",
       "      <td>62.67602</td>\n",
       "    </tr>\n",
       "    <tr>\n",
       "      <th>1</th>\n",
       "      <td>S2B_MSIL2A_20170924T93020_69_24</td>\n",
       "      <td>S1A_IW_GRDH_1SDV_20170925T043256_35VPK_69_24</td>\n",
       "      <td>2017-09-24 09:30:20</td>\n",
       "      <td>2017-09-25 04:32:56</td>\n",
       "      <td>0.68913</td>\n",
       "      <td>0.68278</td>\n",
       "      <td>30.59994</td>\n",
       "      <td>62.81962</td>\n",
       "    </tr>\n",
       "  </tbody>\n",
       "</table>\n",
       "</div>"
      ],
      "text/plain": [
       "                          patch_id  \\\n",
       "0  S2B_MSIL2A_20180204T94161_57_38   \n",
       "1  S2B_MSIL2A_20170924T93020_69_24   \n",
       "\n",
       "                                    patch_id_s1         timestamp_s2  \\\n",
       "0  S1A_IW_GRDH_1SDV_20180204T043253_35VPK_57_38  2018-02-04 09:41:56   \n",
       "1  S1A_IW_GRDH_1SDV_20170925T043256_35VPK_69_24  2017-09-24 09:30:20   \n",
       "\n",
       "          timestamp_s1  season_s2  season_s1       lon       lat  \n",
       "0  2018-02-04 04:32:53    0.36662    0.36662  30.30100  62.67602  \n",
       "1  2017-09-25 04:32:56    0.68913    0.68278  30.59994  62.81962  "
      ]
     },
     "execution_count": 3,
     "metadata": {},
     "output_type": "execute_result"
    }
   ],
   "source": [
    "index_df.head(2)"
   ]
  },
  {
   "attachments": {},
   "cell_type": "markdown",
   "id": "d62b8abe-d72e-4360-ac18-72b306b6703b",
   "metadata": {},
   "source": [
    "### Load Sentinel-1 Files ###"
   ]
  },
  {
   "cell_type": "code",
   "execution_count": 4,
   "id": "3c0b3d1f-12e9-46cf-ba58-f5a2f9a13014",
   "metadata": {
    "tags": []
   },
   "outputs": [],
   "source": [
    "sentinel_1_root_path = \"/ds2/remote_sensing/ben-ge/ben-ge/sentinel-1\"\n",
    "filenames = [f\"{sentinel_1_root_path}/{patch_id}/{patch_id}_all_bands.npy\" for patch_id in index_df[\"patch_id_s1\"]]"
   ]
  },
  {
   "cell_type": "code",
   "execution_count": 5,
   "id": "c3b4624c-2c79-4914-904e-78e7a8229a32",
   "metadata": {
    "tags": []
   },
   "outputs": [],
   "source": [
    "def read_one_image(block_id, filenames=filenames, axis=0):\n",
    "    # a function that reads in one chunk of data\n",
    "    path = filenames[block_id[axis]]\n",
    "    image = np.load(path)\n",
    "    return np.expand_dims(image, axis=axis)\n",
    "\n",
    "# load the first image (assume rest are same shape/dtype)\n",
    "sample = np.load(filenames[0])\n",
    "\n",
    "stack = da.map_blocks(\n",
    "    read_one_image,\n",
    "    dtype=sample.dtype,\n",
    "    chunks=((1,) * len(filenames),  *sample.shape)\n",
    ")"
   ]
  },
  {
   "cell_type": "code",
   "execution_count": 6,
   "id": "a7e6a06c-0ff7-4f3c-a89f-0036163aba52",
   "metadata": {
    "tags": []
   },
   "outputs": [
    {
     "data": {
      "text/html": [
       "<table>\n",
       "    <tr>\n",
       "        <td>\n",
       "            <table style=\"border-collapse: collapse;\">\n",
       "                <thead>\n",
       "                    <tr>\n",
       "                        <td> </td>\n",
       "                        <th> Array </th>\n",
       "                        <th> Chunk </th>\n",
       "                    </tr>\n",
       "                </thead>\n",
       "                <tbody>\n",
       "                    \n",
       "                    <tr>\n",
       "                        <th> Bytes </th>\n",
       "                        <td> 63.34 GiB </td>\n",
       "                        <td> 112.50 kiB </td>\n",
       "                    </tr>\n",
       "                    \n",
       "                    <tr>\n",
       "                        <th> Shape </th>\n",
       "                        <td> (590326, 2, 120, 120) </td>\n",
       "                        <td> (1, 2, 120, 120) </td>\n",
       "                    </tr>\n",
       "                    <tr>\n",
       "                        <th> Dask graph </th>\n",
       "                        <td colspan=\"2\"> 590326 chunks in 2 graph layers </td>\n",
       "                    </tr>\n",
       "                    <tr>\n",
       "                        <th> Data type </th>\n",
       "                        <td colspan=\"2\"> float32 numpy.ndarray </td>\n",
       "                    </tr>\n",
       "                </tbody>\n",
       "            </table>\n",
       "        </td>\n",
       "        <td>\n",
       "        <svg width=\"470\" height=\"90\" style=\"stroke:rgb(0,0,0);stroke-width:1\" >\n",
       "\n",
       "  <!-- Horizontal lines -->\n",
       "  <line x1=\"0\" y1=\"0\" x2=\"120\" y2=\"0\" style=\"stroke-width:2\" />\n",
       "  <line x1=\"0\" y1=\"25\" x2=\"120\" y2=\"25\" style=\"stroke-width:2\" />\n",
       "\n",
       "  <!-- Vertical lines -->\n",
       "  <line x1=\"0\" y1=\"0\" x2=\"0\" y2=\"25\" style=\"stroke-width:2\" />\n",
       "  <line x1=\"3\" y1=\"0\" x2=\"3\" y2=\"25\" />\n",
       "  <line x1=\"7\" y1=\"0\" x2=\"7\" y2=\"25\" />\n",
       "  <line x1=\"11\" y1=\"0\" x2=\"11\" y2=\"25\" />\n",
       "  <line x1=\"14\" y1=\"0\" x2=\"14\" y2=\"25\" />\n",
       "  <line x1=\"18\" y1=\"0\" x2=\"18\" y2=\"25\" />\n",
       "  <line x1=\"22\" y1=\"0\" x2=\"22\" y2=\"25\" />\n",
       "  <line x1=\"26\" y1=\"0\" x2=\"26\" y2=\"25\" />\n",
       "  <line x1=\"29\" y1=\"0\" x2=\"29\" y2=\"25\" />\n",
       "  <line x1=\"33\" y1=\"0\" x2=\"33\" y2=\"25\" />\n",
       "  <line x1=\"37\" y1=\"0\" x2=\"37\" y2=\"25\" />\n",
       "  <line x1=\"41\" y1=\"0\" x2=\"41\" y2=\"25\" />\n",
       "  <line x1=\"44\" y1=\"0\" x2=\"44\" y2=\"25\" />\n",
       "  <line x1=\"48\" y1=\"0\" x2=\"48\" y2=\"25\" />\n",
       "  <line x1=\"52\" y1=\"0\" x2=\"52\" y2=\"25\" />\n",
       "  <line x1=\"56\" y1=\"0\" x2=\"56\" y2=\"25\" />\n",
       "  <line x1=\"60\" y1=\"0\" x2=\"60\" y2=\"25\" />\n",
       "  <line x1=\"63\" y1=\"0\" x2=\"63\" y2=\"25\" />\n",
       "  <line x1=\"67\" y1=\"0\" x2=\"67\" y2=\"25\" />\n",
       "  <line x1=\"71\" y1=\"0\" x2=\"71\" y2=\"25\" />\n",
       "  <line x1=\"74\" y1=\"0\" x2=\"74\" y2=\"25\" />\n",
       "  <line x1=\"78\" y1=\"0\" x2=\"78\" y2=\"25\" />\n",
       "  <line x1=\"82\" y1=\"0\" x2=\"82\" y2=\"25\" />\n",
       "  <line x1=\"86\" y1=\"0\" x2=\"86\" y2=\"25\" />\n",
       "  <line x1=\"89\" y1=\"0\" x2=\"89\" y2=\"25\" />\n",
       "  <line x1=\"93\" y1=\"0\" x2=\"93\" y2=\"25\" />\n",
       "  <line x1=\"97\" y1=\"0\" x2=\"97\" y2=\"25\" />\n",
       "  <line x1=\"101\" y1=\"0\" x2=\"101\" y2=\"25\" />\n",
       "  <line x1=\"104\" y1=\"0\" x2=\"104\" y2=\"25\" />\n",
       "  <line x1=\"108\" y1=\"0\" x2=\"108\" y2=\"25\" />\n",
       "  <line x1=\"112\" y1=\"0\" x2=\"112\" y2=\"25\" />\n",
       "  <line x1=\"116\" y1=\"0\" x2=\"116\" y2=\"25\" />\n",
       "  <line x1=\"120\" y1=\"0\" x2=\"120\" y2=\"25\" style=\"stroke-width:2\" />\n",
       "\n",
       "  <!-- Colored Rectangle -->\n",
       "  <polygon points=\"0.0,0.0 120.0,0.0 120.0,25.412616514582485 0.0,25.412616514582485\" style=\"fill:#8B4903A0;stroke-width:0\"/>\n",
       "\n",
       "  <!-- Text -->\n",
       "  <text x=\"60.000000\" y=\"45.412617\" font-size=\"1.0rem\" font-weight=\"100\" text-anchor=\"middle\" >590326</text>\n",
       "  <text x=\"140.000000\" y=\"12.706308\" font-size=\"1.0rem\" font-weight=\"100\" text-anchor=\"middle\" transform=\"rotate(0,140.000000,12.706308)\">1</text>\n",
       "\n",
       "\n",
       "  <!-- Horizontal lines -->\n",
       "  <line x1=\"190\" y1=\"0\" x2=\"204\" y2=\"14\" style=\"stroke-width:2\" />\n",
       "  <line x1=\"190\" y1=\"25\" x2=\"204\" y2=\"40\" style=\"stroke-width:2\" />\n",
       "\n",
       "  <!-- Vertical lines -->\n",
       "  <line x1=\"190\" y1=\"0\" x2=\"190\" y2=\"25\" style=\"stroke-width:2\" />\n",
       "  <line x1=\"204\" y1=\"14\" x2=\"204\" y2=\"40\" style=\"stroke-width:2\" />\n",
       "\n",
       "  <!-- Colored Rectangle -->\n",
       "  <polygon points=\"190.0,0.0 204.9485979497544,14.948597949754403 204.9485979497544,40.36121446433689 190.0,25.412616514582485\" style=\"fill:#ECB172A0;stroke-width:0\"/>\n",
       "\n",
       "  <!-- Horizontal lines -->\n",
       "  <line x1=\"190\" y1=\"0\" x2=\"215\" y2=\"0\" style=\"stroke-width:2\" />\n",
       "  <line x1=\"204\" y1=\"14\" x2=\"230\" y2=\"14\" style=\"stroke-width:2\" />\n",
       "\n",
       "  <!-- Vertical lines -->\n",
       "  <line x1=\"190\" y1=\"0\" x2=\"204\" y2=\"14\" style=\"stroke-width:2\" />\n",
       "  <line x1=\"215\" y1=\"0\" x2=\"230\" y2=\"14\" style=\"stroke-width:2\" />\n",
       "\n",
       "  <!-- Colored Rectangle -->\n",
       "  <polygon points=\"190.0,0.0 215.41261651458248,0.0 230.36121446433688,14.948597949754403 204.9485979497544,14.948597949754403\" style=\"fill:#ECB172A0;stroke-width:0\"/>\n",
       "\n",
       "  <!-- Horizontal lines -->\n",
       "  <line x1=\"204\" y1=\"14\" x2=\"230\" y2=\"14\" style=\"stroke-width:2\" />\n",
       "  <line x1=\"204\" y1=\"40\" x2=\"230\" y2=\"40\" style=\"stroke-width:2\" />\n",
       "\n",
       "  <!-- Vertical lines -->\n",
       "  <line x1=\"204\" y1=\"14\" x2=\"204\" y2=\"40\" style=\"stroke-width:2\" />\n",
       "  <line x1=\"230\" y1=\"14\" x2=\"230\" y2=\"40\" style=\"stroke-width:2\" />\n",
       "\n",
       "  <!-- Colored Rectangle -->\n",
       "  <polygon points=\"204.9485979497544,14.948597949754403 230.36121446433688,14.948597949754403 230.36121446433688,40.36121446433689 204.9485979497544,40.36121446433689\" style=\"fill:#ECB172A0;stroke-width:0\"/>\n",
       "\n",
       "  <!-- Text -->\n",
       "  <text x=\"217.654906\" y=\"60.361214\" font-size=\"1.0rem\" font-weight=\"100\" text-anchor=\"middle\" >120</text>\n",
       "  <text x=\"250.361214\" y=\"27.654906\" font-size=\"1.0rem\" font-weight=\"100\" text-anchor=\"middle\" transform=\"rotate(-90,250.361214,27.654906)\">120</text>\n",
       "  <text x=\"187.474299\" y=\"52.886915\" font-size=\"1.0rem\" font-weight=\"100\" text-anchor=\"middle\" transform=\"rotate(45,187.474299,52.886915)\">2</text>\n",
       "</svg>\n",
       "        </td>\n",
       "    </tr>\n",
       "</table>"
      ],
      "text/plain": [
       "dask.array<read_one_image, shape=(590326, 2, 120, 120), dtype=float32, chunksize=(1, 2, 120, 120), chunktype=numpy.ndarray>"
      ]
     },
     "execution_count": 6,
     "metadata": {},
     "output_type": "execute_result"
    }
   ],
   "source": [
    "stack"
   ]
  },
  {
   "attachments": {},
   "cell_type": "markdown",
   "id": "646f755e-6cad-4336-ab4a-84a59e65e60c",
   "metadata": {
    "tags": []
   },
   "source": [
    "### Compute Channelwise Sentinel 1 Statistics  ###"
   ]
  },
  {
   "cell_type": "code",
   "execution_count": 7,
   "id": "5094e716-44bc-42e7-8b6e-d498c70edbc1",
   "metadata": {
    "tags": []
   },
   "outputs": [],
   "source": [
    "channels = [stack[:, i, ::] for i in range(2)]\n",
    "s1_stats = [\n",
    "    getattr(stack, stat)(axis=(0,2,3))\n",
    "    for stat in [\"min\", \"max\", \"mean\", \"std\"]\n",
    "]\n",
    "\n",
    "s1_stats += [da.histogram(channel, bins=100, range=(-100, 100)) for channel in channels]"
   ]
  },
  {
   "attachments": {},
   "cell_type": "markdown",
   "id": "692502c1-69b0-426a-8270-2a5c34222891",
   "metadata": {
    "tags": []
   },
   "source": [
    "### Run Computation ###"
   ]
  },
  {
   "cell_type": "code",
   "execution_count": 8,
   "id": "a73e1957-8298-4fce-a8ac-570063e08be5",
   "metadata": {
    "tags": []
   },
   "outputs": [
    {
     "name": "stdout",
     "output_type": "stream",
     "text": [
      "[                                        ] | 0% Completed | 59.24 sus"
     ]
    },
    {
     "name": "stderr",
     "output_type": "stream",
     "text": [
      "IOStream.flush timed out\n"
     ]
    },
    {
     "name": "stdout",
     "output_type": "stream",
     "text": [
      "[########################################] | 100% Completed | 106m 41s\n"
     ]
    }
   ],
   "source": [
    "with ProgressBar():\n",
    "    stats_result = da.compute(*s1_stats)"
   ]
  },
  {
   "cell_type": "code",
   "execution_count": 9,
   "id": "ce012c43-bbca-4ca8-8e2b-1714816a1b05",
   "metadata": {
    "tags": []
   },
   "outputs": [],
   "source": [
    "import pickle\n",
    "with open(\"./s1_stats_result.pkl\", \"wb\") as out_file:\n",
    "    pickle.dump(stats_result, out_file)"
   ]
  },
  {
   "attachments": {},
   "cell_type": "markdown",
   "id": "75ca18e6-4540-4712-9aaa-250aed66b1b4",
   "metadata": {},
   "source": [
    "### Compute Quantiles from histogram ###"
   ]
  },
  {
   "cell_type": "code",
   "execution_count": 10,
   "id": "3893c9c0-4bff-4111-a424-3e02ca6a95c4",
   "metadata": {
    "tags": []
   },
   "outputs": [],
   "source": [
    "def calculate_percentile_from_histogram(hist_counts, hist_bins, p=0.5):\n",
    "    n = hist_counts.sum()\n",
    "    quantile_index = int(p*n)\n",
    "    \n",
    "    # Find bin in which quantile index is placed\n",
    "    cum_sum = 0\n",
    "    bin_index = 0\n",
    "    for i, counts in enumerate(hist_counts):\n",
    "        cum_sum += counts\n",
    "        # If cumulative sum exceeds quantile index stop\n",
    "        if cum_sum > quantile_index:\n",
    "            bin_index = i\n",
    "            break\n",
    "\n",
    "    # Calculate bin value\n",
    "    bin_lower = hist_bins[i]\n",
    "    bin_width = abs(hist_bins[i+1] - bin_lower)\n",
    "    overstep = cum_sum - quantile_index\n",
    "    \n",
    "    # Divide overstep by amount of samples in the bin\n",
    "    bin_value = overstep / hist_counts[bin_index] \n",
    "    return bin_lower + bin_value"
   ]
  },
  {
   "cell_type": "code",
   "execution_count": 11,
   "id": "be1d26d2-6dd0-4f70-9c33-6d8247dc294a",
   "metadata": {
    "tags": []
   },
   "outputs": [],
   "source": [
    "max_values, min_values, mean_values, std_values, histogram_values_0, histogram_values_1  = stats_result"
   ]
  },
  {
   "cell_type": "code",
   "execution_count": 12,
   "id": "2380a418-47b3-40bd-acf3-8acfddd77761",
   "metadata": {
    "tags": []
   },
   "outputs": [],
   "source": [
    "def pretty_histogram(histogram_values: Tuple[np.ndarray, np.ndarray]):\n",
    "    hist_counts, hist_bins = histogram_values\n",
    "    pprint({ k: calculate_percentile_from_histogram(hist_counts, hist_bins, p=k) for k in np.arange(0.25, 1.0, 0.25)})\n",
    "    plt.stairs(hist_counts, hist_bins, fill=True)"
   ]
  },
  {
   "cell_type": "code",
   "execution_count": 13,
   "id": "977986c5-2ac2-45f1-b20b-3922c85e02a7",
   "metadata": {
    "tags": []
   },
   "outputs": [
    {
     "name": "stdout",
     "output_type": "stream",
     "text": [
      "{0.25: -23.78701777282265, 0.5: -19.95537312167313, 0.75: -15.34850768715068}\n"
     ]
    },
    {
     "data": {
      "image/png": "[encoded data removed]",
      "text/plain": [
       "<Figure size 640x480 with 1 Axes>"
      ]
     },
     "metadata": {},
     "output_type": "display_data"
    }
   ],
   "source": [
    "pretty_histogram(histogram_values_0)"
   ]
  },
  {
   "cell_type": "code",
   "execution_count": 14,
   "id": "bc4772d7-555d-49bd-9b6c-9936a58be86b",
   "metadata": {
    "tags": []
   },
   "outputs": [
    {
     "name": "stdout",
     "output_type": "stream",
     "text": [
      "{0.25: -15.573709484425992, 0.5: -11.144907591102903, 0.75: -9.374460728664191}\n"
     ]
    },
    {
     "data": {
      "image/png": "[encoded data removed]",
      "text/plain": [
       "<Figure size 640x480 with 1 Axes>"
      ]
     },
     "metadata": {},
     "output_type": "display_data"
    }
   ],
   "source": [
    "pretty_histogram(histogram_values_1)"
   ]
  },
  {
   "cell_type": "code",
   "execution_count": 15,
   "id": "edf61239-0b30-40c5-a92f-40fe56b434de",
   "metadata": {
    "tags": []
   },
   "outputs": [
    {
     "data": {
      "text/plain": [
       "(array([-75.111374, -74.332146], dtype=float32),\n",
       " array([33.597683, 34.60696 ], dtype=float32),\n",
       " array([-19.290445, -12.619993], dtype=float32),\n",
       " array([5.4644284, 5.115912 ], dtype=float32),\n",
       " (array([         0,          0,          0,          0,          0,\n",
       "                  0,          0,          0,          0,          0,\n",
       "                  0,          0,          1,          1,          2,\n",
       "                  7,         11,         27,         64,        119,\n",
       "                229,        494,       1202,       2956,       7169,\n",
       "              18749,      47721,     134325,     407450,    1244343,\n",
       "            4101854,   13386417,   41215354,  109912329,  231453371,\n",
       "          385311663,  491599113,  452747710,  500091526,  810931513,\n",
       "         1264146387, 1569442743, 1432725786,  834616209,  269902080,\n",
       "           60310343,   16848981,    6048717,    2338357,     942886,\n",
       "             395248,     174201,      87268,      45776,      24860,\n",
       "              13372,       7294,       3839,       2151,       1072,\n",
       "                570,        253,        131,         97,         38,\n",
       "                 17,          4,          0,          0,          0,\n",
       "                  0,          0,          0,          0,          0,\n",
       "                  0,          0,          0,          0,          0,\n",
       "                  0,          0,          0,          0,          0,\n",
       "                  0,          0,          0,          0,          0,\n",
       "                  0,          0,          0,          0,          0,\n",
       "                  0,          0,          0,          0,          0]),\n",
       "  array([-100.,  -98.,  -96.,  -94.,  -92.,  -90.,  -88.,  -86.,  -84.,\n",
       "          -82.,  -80.,  -78.,  -76.,  -74.,  -72.,  -70.,  -68.,  -66.,\n",
       "          -64.,  -62.,  -60.,  -58.,  -56.,  -54.,  -52.,  -50.,  -48.,\n",
       "          -46.,  -44.,  -42.,  -40.,  -38.,  -36.,  -34.,  -32.,  -30.,\n",
       "          -28.,  -26.,  -24.,  -22.,  -20.,  -18.,  -16.,  -14.,  -12.,\n",
       "          -10.,   -8.,   -6.,   -4.,   -2.,    0.,    2.,    4.,    6.,\n",
       "            8.,   10.,   12.,   14.,   16.,   18.,   20.,   22.,   24.,\n",
       "           26.,   28.,   30.,   32.,   34.,   36.,   38.,   40.,   42.,\n",
       "           44.,   46.,   48.,   50.,   52.,   54.,   56.,   58.,   60.,\n",
       "           62.,   64.,   66.,   68.,   70.,   72.,   74.,   76.,   78.,\n",
       "           80.,   82.,   84.,   86.,   88.,   90.,   92.,   94.,   96.,\n",
       "           98.,  100.])),\n",
       " (array([         0,          0,          0,          0,          0,\n",
       "                  0,          0,          0,          0,          0,\n",
       "                  0,          0,          1,          0,          2,\n",
       "                  3,          9,         11,         12,         19,\n",
       "                 53,        105,        218,        495,       1124,\n",
       "               2778,       7280,      18879,      54248,     165770,\n",
       "             544274,    1776007,    5643718,   16718964,   39290864,\n",
       "           72121051,   97320295,  123470358,  172337249,  231860815,\n",
       "          319314965,  515190030,  922651651, 1469544694, 1810196802,\n",
       "         1541651799,  798609336,  252170578,   67427012,   23230048,\n",
       "           10045321,    4696727,    2270552,    1121474,     577166,\n",
       "             306509,     167327,      90085,      47513,      24901,\n",
       "              12625,       6424,       3215,       1621,        774,\n",
       "                410,        220,         19,          0,          0,\n",
       "                  0,          0,          0,          0,          0,\n",
       "                  0,          0,          0,          0,          0,\n",
       "                  0,          0,          0,          0,          0,\n",
       "                  0,          0,          0,          0,          0,\n",
       "                  0,          0,          0,          0,          0,\n",
       "                  0,          0,          0,          0,          0]),\n",
       "  array([-100.,  -98.,  -96.,  -94.,  -92.,  -90.,  -88.,  -86.,  -84.,\n",
       "          -82.,  -80.,  -78.,  -76.,  -74.,  -72.,  -70.,  -68.,  -66.,\n",
       "          -64.,  -62.,  -60.,  -58.,  -56.,  -54.,  -52.,  -50.,  -48.,\n",
       "          -46.,  -44.,  -42.,  -40.,  -38.,  -36.,  -34.,  -32.,  -30.,\n",
       "          -28.,  -26.,  -24.,  -22.,  -20.,  -18.,  -16.,  -14.,  -12.,\n",
       "          -10.,   -8.,   -6.,   -4.,   -2.,    0.,    2.,    4.,    6.,\n",
       "            8.,   10.,   12.,   14.,   16.,   18.,   20.,   22.,   24.,\n",
       "           26.,   28.,   30.,   32.,   34.,   36.,   38.,   40.,   42.,\n",
       "           44.,   46.,   48.,   50.,   52.,   54.,   56.,   58.,   60.,\n",
       "           62.,   64.,   66.,   68.,   70.,   72.,   74.,   76.,   78.,\n",
       "           80.,   82.,   84.,   86.,   88.,   90.,   92.,   94.,   96.,\n",
       "           98.,  100.])))"
      ]
     },
     "execution_count": 15,
     "metadata": {},
     "output_type": "execute_result"
    }
   ],
   "source": [
    "stats_result"
   ]
  },
  {
   "cell_type": "code",
   "execution_count": null,
   "id": "7c2ce9d5-ff67-4b31-ab79-a74a3552b54e",
   "metadata": {},
   "outputs": [],
   "source": []
  }
 ],
 "metadata": {
  "kernelspec": {
   "display_name": "Python 3 (ipykernel)",
   "language": "python",
   "name": "python3"
  },
  "language_info": {
   "codemirror_mode": {
    "name": "ipython",
    "version": 3
   },
   "file_extension": ".py",
   "mimetype": "text/x-python",
   "name": "python",
   "nbconvert_exporter": "python",
   "pygments_lexer": "ipython3",
   "version": "3.8.10"
  }
 },
 "nbformat": 4,
 "nbformat_minor": 5
}
