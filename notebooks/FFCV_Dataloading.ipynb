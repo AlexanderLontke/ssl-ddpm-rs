{
 "cells": [
  {
   "cell_type": "code",
   "execution_count": 1,
   "id": "f06547be-da89-4c41-9cda-fb883d8fff2a",
   "metadata": {
    "tags": []
   },
   "outputs": [
    {
     "name": "stdout",
     "output_type": "stream",
     "text": [
      "Defaulting to user installation because normal site-packages is not writeable\n",
      "Looking in indexes: https://pypi.org/simple, https://pypi.ngc.nvidia.com\n",
      "Obtaining file:///netscratch2/alontke/master_thesis/code/ssl-ddpm-rs\n",
      "  Installing build dependencies ... \u001b[?25ldone\n",
      "\u001b[?25h  Getting requirements to build wheel ... \u001b[?25ldone\n",
      "\u001b[?25h  Installing backend dependencies ... \u001b[?25ldone\n",
      "\u001b[?25h    Preparing wheel metadata ... \u001b[?25ldone\n",
      "\u001b[?25hCollecting remote-sensing-core@ git+https://github.com/nicikess/remote-sensing-core.git\n",
      "  Cloning https://github.com/nicikess/remote-sensing-core.git to /tmp/pip-install-10w4fid9/remote-sensing-core_723c0b8b004248aeaf14d6eaf705a781\n",
      "  Running command git clone -q https://github.com/nicikess/remote-sensing-core.git /tmp/pip-install-10w4fid9/remote-sensing-core_723c0b8b004248aeaf14d6eaf705a781\n",
      "  Resolved https://github.com/nicikess/remote-sensing-core.git to commit b4274b9c415d0145cd78cc8d1efb9b811653a693\n",
      "  Installing build dependencies ... \u001b[?25ldone\n",
      "\u001b[?25h  Getting requirements to build wheel ... \u001b[?25ldone\n",
      "\u001b[?25h  Installing backend dependencies ... \u001b[?25ldone\n",
      "\u001b[?25h    Preparing wheel metadata ... \u001b[?25ldone\n",
      "\u001b[?25hCollecting lit-diffusion@ git+https://github.com/AlexanderLontke/lit-diffusion.git\n",
      "  Cloning https://github.com/AlexanderLontke/lit-diffusion.git to /tmp/pip-install-10w4fid9/lit-diffusion_e2672396482d440aad1162ba6cb4041e\n",
      "  Running command git clone -q https://github.com/AlexanderLontke/lit-diffusion.git /tmp/pip-install-10w4fid9/lit-diffusion_e2672396482d440aad1162ba6cb4041e\n",
      "  Resolved https://github.com/AlexanderLontke/lit-diffusion.git to commit 3bf91bcc116007a0dd2369092f2f599dd6004e0d\n",
      "  Installing build dependencies ... \u001b[?25ldone\n",
      "\u001b[?25h  Getting requirements to build wheel ... \u001b[?25ldone\n",
      "\u001b[?25h  Installing backend dependencies ... \u001b[?25ldone\n",
      "\u001b[?25h    Preparing wheel metadata ... \u001b[?25ldone\n",
      "\u001b[?25hRequirement already satisfied: scikit-learn in /usr/local/lib/python3.8/dist-packages (from remote-sensing-ddpm==0.0.post1.dev170+g9c1d89f) (1.2.0)\n",
      "Requirement already satisfied: torchvision>=0.15 in /home/alontke/.local/lib/python3.8/site-packages (from remote-sensing-ddpm==0.0.post1.dev170+g9c1d89f) (0.15.1)\n",
      "Requirement already satisfied: einops>=0.6.0 in /home/alontke/.local/lib/python3.8/site-packages (from remote-sensing-ddpm==0.0.post1.dev170+g9c1d89f) (0.6.0)\n",
      "Requirement already satisfied: pytorch-lightning>=2.0.0 in /home/alontke/.local/lib/python3.8/site-packages (from remote-sensing-ddpm==0.0.post1.dev170+g9c1d89f) (2.0.0)\n",
      "Requirement already satisfied: torch>=2.0.0 in /home/alontke/.local/lib/python3.8/site-packages (from remote-sensing-ddpm==0.0.post1.dev170+g9c1d89f) (2.0.0)\n",
      "Requirement already satisfied: black in /home/alontke/.local/lib/python3.8/site-packages (from remote-sensing-ddpm==0.0.post1.dev170+g9c1d89f) (22.10.0)\n",
      "Requirement already satisfied: opencv-python in /home/alontke/.local/lib/python3.8/site-packages (from remote-sensing-ddpm==0.0.post1.dev170+g9c1d89f) (4.7.0.72)\n",
      "Requirement already satisfied: tensorboardX in /usr/local/lib/python3.8/dist-packages (from remote-sensing-ddpm==0.0.post1.dev170+g9c1d89f) (2.6)\n",
      "Requirement already satisfied: wandb in /usr/local/lib/python3.8/dist-packages (from remote-sensing-ddpm==0.0.post1.dev170+g9c1d89f) (0.14.2)\n",
      "Requirement already satisfied: packaging>=17.1 in /home/alontke/.local/lib/python3.8/site-packages (from pytorch-lightning>=2.0.0->remote-sensing-ddpm==0.0.post1.dev170+g9c1d89f) (21.3)\n",
      "Requirement already satisfied: typing-extensions>=4.0.0 in /usr/local/lib/python3.8/dist-packages (from pytorch-lightning>=2.0.0->remote-sensing-ddpm==0.0.post1.dev170+g9c1d89f) (4.5.0)\n",
      "Requirement already satisfied: lightning-utilities>=0.7.0 in /home/alontke/.local/lib/python3.8/site-packages (from pytorch-lightning>=2.0.0->remote-sensing-ddpm==0.0.post1.dev170+g9c1d89f) (0.8.0)\n",
      "Requirement already satisfied: tqdm>=4.57.0 in /usr/local/lib/python3.8/dist-packages (from pytorch-lightning>=2.0.0->remote-sensing-ddpm==0.0.post1.dev170+g9c1d89f) (4.65.0)\n",
      "Requirement already satisfied: fsspec[http]>2021.06.0 in /usr/local/lib/python3.8/dist-packages (from pytorch-lightning>=2.0.0->remote-sensing-ddpm==0.0.post1.dev170+g9c1d89f) (2023.1.0)\n",
      "Requirement already satisfied: numpy>=1.17.2 in /usr/local/lib/python3.8/dist-packages (from pytorch-lightning>=2.0.0->remote-sensing-ddpm==0.0.post1.dev170+g9c1d89f) (1.22.2)\n",
      "Requirement already satisfied: PyYAML>=5.4 in /usr/local/lib/python3.8/dist-packages (from pytorch-lightning>=2.0.0->remote-sensing-ddpm==0.0.post1.dev170+g9c1d89f) (6.0)\n",
      "Requirement already satisfied: torchmetrics>=0.7.0 in /home/alontke/.local/lib/python3.8/site-packages (from pytorch-lightning>=2.0.0->remote-sensing-ddpm==0.0.post1.dev170+g9c1d89f) (0.11.0)\n",
      "Requirement already satisfied: requests in /home/alontke/.local/lib/python3.8/site-packages (from fsspec[http]>2021.06.0->pytorch-lightning>=2.0.0->remote-sensing-ddpm==0.0.post1.dev170+g9c1d89f) (2.28.2)\n",
      "Requirement already satisfied: aiohttp!=4.0.0a0,!=4.0.0a1 in /home/alontke/.local/lib/python3.8/site-packages (from fsspec[http]>2021.06.0->pytorch-lightning>=2.0.0->remote-sensing-ddpm==0.0.post1.dev170+g9c1d89f) (3.8.3)\n",
      "Requirement already satisfied: multidict<7.0,>=4.5 in /home/alontke/.local/lib/python3.8/site-packages (from aiohttp!=4.0.0a0,!=4.0.0a1->fsspec[http]>2021.06.0->pytorch-lightning>=2.0.0->remote-sensing-ddpm==0.0.post1.dev170+g9c1d89f) (6.0.3)\n",
      "Requirement already satisfied: aiosignal>=1.1.2 in /usr/local/lib/python3.8/dist-packages (from aiohttp!=4.0.0a0,!=4.0.0a1->fsspec[http]>2021.06.0->pytorch-lightning>=2.0.0->remote-sensing-ddpm==0.0.post1.dev170+g9c1d89f) (1.3.1)\n",
      "Requirement already satisfied: charset-normalizer<3.0,>=2.0 in /home/alontke/.local/lib/python3.8/site-packages (from aiohttp!=4.0.0a0,!=4.0.0a1->fsspec[http]>2021.06.0->pytorch-lightning>=2.0.0->remote-sensing-ddpm==0.0.post1.dev170+g9c1d89f) (2.1.1)\n",
      "Requirement already satisfied: yarl<2.0,>=1.0 in /home/alontke/.local/lib/python3.8/site-packages (from aiohttp!=4.0.0a0,!=4.0.0a1->fsspec[http]>2021.06.0->pytorch-lightning>=2.0.0->remote-sensing-ddpm==0.0.post1.dev170+g9c1d89f) (1.8.2)\n",
      "Requirement already satisfied: attrs>=17.3.0 in /usr/local/lib/python3.8/dist-packages (from aiohttp!=4.0.0a0,!=4.0.0a1->fsspec[http]>2021.06.0->pytorch-lightning>=2.0.0->remote-sensing-ddpm==0.0.post1.dev170+g9c1d89f) (22.2.0)\n",
      "Requirement already satisfied: async-timeout<5.0,>=4.0.0a3 in /usr/local/lib/python3.8/dist-packages (from aiohttp!=4.0.0a0,!=4.0.0a1->fsspec[http]>2021.06.0->pytorch-lightning>=2.0.0->remote-sensing-ddpm==0.0.post1.dev170+g9c1d89f) (4.0.2)\n",
      "Requirement already satisfied: frozenlist>=1.1.1 in /usr/local/lib/python3.8/dist-packages (from aiohttp!=4.0.0a0,!=4.0.0a1->fsspec[http]>2021.06.0->pytorch-lightning>=2.0.0->remote-sensing-ddpm==0.0.post1.dev170+g9c1d89f) (1.3.3)\n",
      "Requirement already satisfied: pyparsing!=3.0.5,>=2.0.2 in /usr/local/lib/python3.8/dist-packages (from packaging>=17.1->pytorch-lightning>=2.0.0->remote-sensing-ddpm==0.0.post1.dev170+g9c1d89f) (3.0.9)\n",
      "Requirement already satisfied: nvidia-nvtx-cu11==11.7.91 in /home/alontke/.local/lib/python3.8/site-packages (from torch>=2.0.0->remote-sensing-ddpm==0.0.post1.dev170+g9c1d89f) (11.7.91)\n",
      "Requirement already satisfied: triton==2.0.0 in /home/alontke/.local/lib/python3.8/site-packages (from torch>=2.0.0->remote-sensing-ddpm==0.0.post1.dev170+g9c1d89f) (2.0.0)\n",
      "Requirement already satisfied: nvidia-nccl-cu11==2.14.3 in /home/alontke/.local/lib/python3.8/site-packages (from torch>=2.0.0->remote-sensing-ddpm==0.0.post1.dev170+g9c1d89f) (2.14.3)\n",
      "Requirement already satisfied: nvidia-curand-cu11==10.2.10.91 in /home/alontke/.local/lib/python3.8/site-packages (from torch>=2.0.0->remote-sensing-ddpm==0.0.post1.dev170+g9c1d89f) (10.2.10.91)\n",
      "Requirement already satisfied: nvidia-cusparse-cu11==11.7.4.91 in /home/alontke/.local/lib/python3.8/site-packages (from torch>=2.0.0->remote-sensing-ddpm==0.0.post1.dev170+g9c1d89f) (11.7.4.91)\n",
      "Requirement already satisfied: jinja2 in /home/alontke/.local/lib/python3.8/site-packages (from torch>=2.0.0->remote-sensing-ddpm==0.0.post1.dev170+g9c1d89f) (3.1.2)\n",
      "Requirement already satisfied: nvidia-cuda-runtime-cu11==11.7.99 in /home/alontke/.local/lib/python3.8/site-packages (from torch>=2.0.0->remote-sensing-ddpm==0.0.post1.dev170+g9c1d89f) (11.7.99)\n",
      "Requirement already satisfied: nvidia-cuda-nvrtc-cu11==11.7.99 in /home/alontke/.local/lib/python3.8/site-packages (from torch>=2.0.0->remote-sensing-ddpm==0.0.post1.dev170+g9c1d89f) (11.7.99)\n",
      "Requirement already satisfied: networkx in /usr/local/lib/python3.8/dist-packages (from torch>=2.0.0->remote-sensing-ddpm==0.0.post1.dev170+g9c1d89f) (2.6.3)\n",
      "Requirement already satisfied: nvidia-cuda-cupti-cu11==11.7.101 in /home/alontke/.local/lib/python3.8/site-packages (from torch>=2.0.0->remote-sensing-ddpm==0.0.post1.dev170+g9c1d89f) (11.7.101)\n",
      "Requirement already satisfied: nvidia-cudnn-cu11==8.5.0.96 in /home/alontke/.local/lib/python3.8/site-packages (from torch>=2.0.0->remote-sensing-ddpm==0.0.post1.dev170+g9c1d89f) (8.5.0.96)\n",
      "Requirement already satisfied: nvidia-cusolver-cu11==11.4.0.1 in /home/alontke/.local/lib/python3.8/site-packages (from torch>=2.0.0->remote-sensing-ddpm==0.0.post1.dev170+g9c1d89f) (11.4.0.1)\n",
      "Requirement already satisfied: filelock in /usr/local/lib/python3.8/dist-packages (from torch>=2.0.0->remote-sensing-ddpm==0.0.post1.dev170+g9c1d89f) (3.10.0)\n",
      "Requirement already satisfied: nvidia-cufft-cu11==10.9.0.58 in /home/alontke/.local/lib/python3.8/site-packages (from torch>=2.0.0->remote-sensing-ddpm==0.0.post1.dev170+g9c1d89f) (10.9.0.58)\n",
      "Requirement already satisfied: nvidia-cublas-cu11==11.10.3.66 in /home/alontke/.local/lib/python3.8/site-packages (from torch>=2.0.0->remote-sensing-ddpm==0.0.post1.dev170+g9c1d89f) (11.10.3.66)\n",
      "Requirement already satisfied: sympy in /home/alontke/.local/lib/python3.8/site-packages (from torch>=2.0.0->remote-sensing-ddpm==0.0.post1.dev170+g9c1d89f) (1.11.1)\n",
      "Requirement already satisfied: wheel in /usr/local/lib/python3.8/dist-packages (from nvidia-cublas-cu11==11.10.3.66->torch>=2.0.0->remote-sensing-ddpm==0.0.post1.dev170+g9c1d89f) (0.38.4)\n",
      "Requirement already satisfied: setuptools in /usr/local/lib/python3.8/dist-packages (from nvidia-cublas-cu11==11.10.3.66->torch>=2.0.0->remote-sensing-ddpm==0.0.post1.dev170+g9c1d89f) (65.5.1)\n",
      "Requirement already satisfied: lit in /home/alontke/.local/lib/python3.8/site-packages (from triton==2.0.0->torch>=2.0.0->remote-sensing-ddpm==0.0.post1.dev170+g9c1d89f) (16.0.0)\n",
      "Requirement already satisfied: cmake in /home/alontke/.local/lib/python3.8/site-packages (from triton==2.0.0->torch>=2.0.0->remote-sensing-ddpm==0.0.post1.dev170+g9c1d89f) (3.26.1)\n",
      "Requirement already satisfied: pillow!=8.3.*,>=5.3.0 in /usr/local/lib/python3.8/dist-packages (from torchvision>=0.15->remote-sensing-ddpm==0.0.post1.dev170+g9c1d89f) (9.2.0)\n",
      "Requirement already satisfied: idna>=2.0 in /usr/local/lib/python3.8/dist-packages (from yarl<2.0,>=1.0->aiohttp!=4.0.0a0,!=4.0.0a1->fsspec[http]>2021.06.0->pytorch-lightning>=2.0.0->remote-sensing-ddpm==0.0.post1.dev170+g9c1d89f) (3.4)\n",
      "Requirement already satisfied: tomli>=1.1.0 in /usr/local/lib/python3.8/dist-packages (from black->remote-sensing-ddpm==0.0.post1.dev170+g9c1d89f) (2.0.1)\n",
      "Requirement already satisfied: platformdirs>=2 in /usr/local/lib/python3.8/dist-packages (from black->remote-sensing-ddpm==0.0.post1.dev170+g9c1d89f) (3.1.1)\n",
      "Requirement already satisfied: click>=8.0.0 in /usr/local/lib/python3.8/dist-packages (from black->remote-sensing-ddpm==0.0.post1.dev170+g9c1d89f) (8.1.3)\n",
      "Requirement already satisfied: mypy-extensions>=0.4.3 in /home/alontke/.local/lib/python3.8/site-packages (from black->remote-sensing-ddpm==0.0.post1.dev170+g9c1d89f) (0.4.3)\n",
      "Requirement already satisfied: pathspec>=0.9.0 in /home/alontke/.local/lib/python3.8/site-packages (from black->remote-sensing-ddpm==0.0.post1.dev170+g9c1d89f) (0.10.2)\n",
      "Requirement already satisfied: MarkupSafe>=2.0 in /home/alontke/.local/lib/python3.8/site-packages (from jinja2->torch>=2.0.0->remote-sensing-ddpm==0.0.post1.dev170+g9c1d89f) (2.1.2)\n",
      "Requirement already satisfied: rasterio in /home/alontke/.local/lib/python3.8/site-packages (from remote-sensing-core@ git+https://github.com/nicikess/remote-sensing-core.git->remote-sensing-ddpm==0.0.post1.dev170+g9c1d89f) (1.3.4)\n",
      "Requirement already satisfied: click-plugins in /home/alontke/.local/lib/python3.8/site-packages (from rasterio->remote-sensing-core@ git+https://github.com/nicikess/remote-sensing-core.git->remote-sensing-ddpm==0.0.post1.dev170+g9c1d89f) (1.1.1)\n",
      "Requirement already satisfied: certifi in /usr/local/lib/python3.8/dist-packages (from rasterio->remote-sensing-core@ git+https://github.com/nicikess/remote-sensing-core.git->remote-sensing-ddpm==0.0.post1.dev170+g9c1d89f) (2022.12.7)\n",
      "Requirement already satisfied: cligj>=0.5 in /home/alontke/.local/lib/python3.8/site-packages (from rasterio->remote-sensing-core@ git+https://github.com/nicikess/remote-sensing-core.git->remote-sensing-ddpm==0.0.post1.dev170+g9c1d89f) (0.7.2)\n",
      "Requirement already satisfied: affine in /home/alontke/.local/lib/python3.8/site-packages (from rasterio->remote-sensing-core@ git+https://github.com/nicikess/remote-sensing-core.git->remote-sensing-ddpm==0.0.post1.dev170+g9c1d89f) (2.3.1)\n",
      "Requirement already satisfied: snuggs>=1.4.1 in /home/alontke/.local/lib/python3.8/site-packages (from rasterio->remote-sensing-core@ git+https://github.com/nicikess/remote-sensing-core.git->remote-sensing-ddpm==0.0.post1.dev170+g9c1d89f) (1.4.7)\n",
      "Requirement already satisfied: urllib3<1.27,>=1.21.1 in /usr/local/lib/python3.8/dist-packages (from requests->fsspec[http]>2021.06.0->pytorch-lightning>=2.0.0->remote-sensing-ddpm==0.0.post1.dev170+g9c1d89f) (1.26.14)\n",
      "Requirement already satisfied: joblib>=1.1.1 in /usr/local/lib/python3.8/dist-packages (from scikit-learn->remote-sensing-ddpm==0.0.post1.dev170+g9c1d89f) (1.2.0)\n",
      "Requirement already satisfied: threadpoolctl>=2.0.0 in /usr/local/lib/python3.8/dist-packages (from scikit-learn->remote-sensing-ddpm==0.0.post1.dev170+g9c1d89f) (3.1.0)\n",
      "Requirement already satisfied: scipy>=1.3.2 in /home/alontke/.local/lib/python3.8/site-packages (from scikit-learn->remote-sensing-ddpm==0.0.post1.dev170+g9c1d89f) (1.9.3)\n",
      "Requirement already satisfied: mpmath>=0.19 in /home/alontke/.local/lib/python3.8/site-packages (from sympy->torch>=2.0.0->remote-sensing-ddpm==0.0.post1.dev170+g9c1d89f) (1.3.0)\n",
      "Requirement already satisfied: protobuf<4,>=3.8.0 in /usr/local/lib/python3.8/dist-packages (from tensorboardX->remote-sensing-ddpm==0.0.post1.dev170+g9c1d89f) (3.20.3)\n",
      "Requirement already satisfied: appdirs>=1.4.3 in /home/alontke/.local/lib/python3.8/site-packages (from wandb->remote-sensing-ddpm==0.0.post1.dev170+g9c1d89f) (1.4.4)\n",
      "Requirement already satisfied: GitPython!=3.1.29,>=1.0.0 in /usr/local/lib/python3.8/dist-packages (from wandb->remote-sensing-ddpm==0.0.post1.dev170+g9c1d89f) (3.1.31)\n",
      "Requirement already satisfied: setproctitle in /usr/local/lib/python3.8/dist-packages (from wandb->remote-sensing-ddpm==0.0.post1.dev170+g9c1d89f) (1.3.2)\n",
      "Requirement already satisfied: sentry-sdk>=1.0.0 in /usr/local/lib/python3.8/dist-packages (from wandb->remote-sensing-ddpm==0.0.post1.dev170+g9c1d89f) (1.19.1)\n",
      "Requirement already satisfied: psutil>=5.0.0 in /usr/local/lib/python3.8/dist-packages (from wandb->remote-sensing-ddpm==0.0.post1.dev170+g9c1d89f) (5.9.4)\n",
      "Requirement already satisfied: pathtools in /usr/local/lib/python3.8/dist-packages (from wandb->remote-sensing-ddpm==0.0.post1.dev170+g9c1d89f) (0.1.2)\n",
      "Requirement already satisfied: docker-pycreds>=0.4.0 in /usr/local/lib/python3.8/dist-packages (from wandb->remote-sensing-ddpm==0.0.post1.dev170+g9c1d89f) (0.4.0)\n",
      "Requirement already satisfied: six>=1.4.0 in /usr/local/lib/python3.8/dist-packages (from docker-pycreds>=0.4.0->wandb->remote-sensing-ddpm==0.0.post1.dev170+g9c1d89f) (1.16.0)\n",
      "Requirement already satisfied: gitdb<5,>=4.0.1 in /usr/local/lib/python3.8/dist-packages (from GitPython!=3.1.29,>=1.0.0->wandb->remote-sensing-ddpm==0.0.post1.dev170+g9c1d89f) (4.0.10)\n",
      "Requirement already satisfied: smmap<6,>=3.0.1 in /usr/local/lib/python3.8/dist-packages (from gitdb<5,>=4.0.1->GitPython!=3.1.29,>=1.0.0->wandb->remote-sensing-ddpm==0.0.post1.dev170+g9c1d89f) (5.0.0)\n",
      "Installing collected packages: remote-sensing-ddpm\n",
      "  Attempting uninstall: remote-sensing-ddpm\n",
      "    Found existing installation: remote-sensing-ddpm 0.0.post1.dev170+g9c1d89f\n",
      "    Uninstalling remote-sensing-ddpm-0.0.post1.dev170+g9c1d89f:\n",
      "      Successfully uninstalled remote-sensing-ddpm-0.0.post1.dev170+g9c1d89f\n",
      "  Running setup.py develop for remote-sensing-ddpm\n",
      "Successfully installed remote-sensing-ddpm\n",
      "\u001b[33mWARNING: You are using pip version 21.2.4; however, version 23.1.2 is available.\n",
      "You should consider upgrading via the '/usr/bin/python -m pip install --upgrade pip' command.\u001b[0m\n"
     ]
    }
   ],
   "source": [
    "!pip install -e .."
   ]
  },
  {
   "cell_type": "code",
   "execution_count": 1,
   "id": "fc4e9ad7-87c8-4d18-968c-fbf39a5c329c",
   "metadata": {
    "tags": []
   },
   "outputs": [],
   "source": [
    "import time\n",
    "import yaml\n",
    "from dataclasses import replace\n",
    "from typing import Callable, Tuple, Optional\n",
    "from functools import partial\n",
    "\n",
    "# Numpy\n",
    "import numpy as np\n",
    "from tqdm import tqdm\n",
    "\n",
    "from ffcv.loader import Loader, OrderOption\n",
    "from ffcv.fields.decoders import NDArrayDecoder"
   ]
  },
  {
   "cell_type": "code",
   "execution_count": 8,
   "id": "232e514f-f69c-41d6-b103-f632935b431a",
   "metadata": {
    "tags": []
   },
   "outputs": [
    {
     "name": "stdout",
     "output_type": "stream",
     "text": [
      "{'era_5': tensor([[[[ 1.0000,  1.0000,  1.0000,  ...,  1.0000,  1.0000,  1.0000],\n",
      "          [ 1.0000,  1.0000,  1.0000,  ...,  1.0000,  1.0000,  1.0000],\n",
      "          [ 1.0000,  1.0000,  1.0000,  ...,  1.0000,  1.0000,  1.0000],\n",
      "          ...,\n",
      "          [ 1.0000,  1.0000,  1.0000,  ...,  1.0000,  1.0000,  1.0000],\n",
      "          [ 1.0000,  1.0000,  1.0000,  ...,  1.0000,  1.0000,  1.0000],\n",
      "          [ 1.0000,  1.0000,  1.0000,  ...,  1.0000,  1.0000,  1.0000]],\n",
      "\n",
      "         [[-0.1803, -0.1803, -0.1803,  ..., -0.1803, -0.1803, -0.1803],\n",
      "          [-0.1803, -0.1803, -0.1803,  ..., -0.1803, -0.1803, -0.1803],\n",
      "          [-0.1803, -0.1803, -0.1803,  ..., -0.1803, -0.1803, -0.1803],\n",
      "          ...,\n",
      "          [-0.1803, -0.1803, -0.1803,  ..., -0.1803, -0.1803, -0.1803],\n",
      "          [-0.1803, -0.1803, -0.1803,  ..., -0.1803, -0.1803, -0.1803],\n",
      "          [-0.1803, -0.1803, -0.1803,  ..., -0.1803, -0.1803, -0.1803]],\n",
      "\n",
      "         [[-0.4040, -0.4040, -0.4040,  ..., -0.4040, -0.4040, -0.4040],\n",
      "          [-0.4040, -0.4040, -0.4040,  ..., -0.4040, -0.4040, -0.4040],\n",
      "          [-0.4040, -0.4040, -0.4040,  ..., -0.4040, -0.4040, -0.4040],\n",
      "          ...,\n",
      "          [-0.4040, -0.4040, -0.4040,  ..., -0.4040, -0.4040, -0.4040],\n",
      "          [-0.4040, -0.4040, -0.4040,  ..., -0.4040, -0.4040, -0.4040],\n",
      "          [-0.4040, -0.4040, -0.4040,  ..., -0.4040, -0.4040, -0.4040]],\n",
      "\n",
      "         ...,\n",
      "\n",
      "         [[-0.1349, -0.1349, -0.1349,  ..., -0.1349, -0.1349, -0.1349],\n",
      "          [-0.1349, -0.1349, -0.1349,  ..., -0.1349, -0.1349, -0.1349],\n",
      "          [-0.1349, -0.1349, -0.1349,  ..., -0.1349, -0.1349, -0.1349],\n",
      "          ...,\n",
      "          [-0.1349, -0.1349, -0.1349,  ..., -0.1349, -0.1349, -0.1349],\n",
      "          [-0.1349, -0.1349, -0.1349,  ..., -0.1349, -0.1349, -0.1349],\n",
      "          [-0.1349, -0.1349, -0.1349,  ..., -0.1349, -0.1349, -0.1349]],\n",
      "\n",
      "         [[ 0.7436,  0.7436,  0.7436,  ...,  0.7436,  0.7436,  0.7436],\n",
      "          [ 0.7436,  0.7436,  0.7436,  ...,  0.7436,  0.7436,  0.7436],\n",
      "          [ 0.7436,  0.7436,  0.7436,  ...,  0.7436,  0.7436,  0.7436],\n",
      "          ...,\n",
      "          [ 0.7436,  0.7436,  0.7436,  ...,  0.7436,  0.7436,  0.7436],\n",
      "          [ 0.7436,  0.7436,  0.7436,  ...,  0.7436,  0.7436,  0.7436],\n",
      "          [ 0.7436,  0.7436,  0.7436,  ...,  0.7436,  0.7436,  0.7436]],\n",
      "\n",
      "         [[ 0.5596,  0.5596,  0.5596,  ...,  0.5596,  0.5596,  0.5596],\n",
      "          [ 0.5596,  0.5596,  0.5596,  ...,  0.5596,  0.5596,  0.5596],\n",
      "          [ 0.5596,  0.5596,  0.5596,  ...,  0.5596,  0.5596,  0.5596],\n",
      "          ...,\n",
      "          [ 0.5596,  0.5596,  0.5596,  ...,  0.5596,  0.5596,  0.5596],\n",
      "          [ 0.5596,  0.5596,  0.5596,  ...,  0.5596,  0.5596,  0.5596],\n",
      "          [ 0.5596,  0.5596,  0.5596,  ...,  0.5596,  0.5596,  0.5596]]],\n",
      "\n",
      "\n",
      "        [[[ 1.0000,  1.0000,  1.0000,  ...,  1.0000,  1.0000,  1.0000],\n",
      "          [ 1.0000,  1.0000,  1.0000,  ...,  1.0000,  1.0000,  1.0000],\n",
      "          [ 1.0000,  1.0000,  1.0000,  ...,  1.0000,  1.0000,  1.0000],\n",
      "          ...,\n",
      "          [ 1.0000,  1.0000,  1.0000,  ...,  1.0000,  1.0000,  1.0000],\n",
      "          [ 1.0000,  1.0000,  1.0000,  ...,  1.0000,  1.0000,  1.0000],\n",
      "          [ 1.0000,  1.0000,  1.0000,  ...,  1.0000,  1.0000,  1.0000]],\n",
      "\n",
      "         [[-0.5251, -0.5251, -0.5251,  ..., -0.5251, -0.5251, -0.5251],\n",
      "          [-0.5251, -0.5251, -0.5251,  ..., -0.5251, -0.5251, -0.5251],\n",
      "          [-0.5251, -0.5251, -0.5251,  ..., -0.5251, -0.5251, -0.5251],\n",
      "          ...,\n",
      "          [-0.5251, -0.5251, -0.5251,  ..., -0.5251, -0.5251, -0.5251],\n",
      "          [-0.5251, -0.5251, -0.5251,  ..., -0.5251, -0.5251, -0.5251],\n",
      "          [-0.5251, -0.5251, -0.5251,  ..., -0.5251, -0.5251, -0.5251]],\n",
      "\n",
      "         [[-0.5209, -0.5209, -0.5209,  ..., -0.5209, -0.5209, -0.5209],\n",
      "          [-0.5209, -0.5209, -0.5209,  ..., -0.5209, -0.5209, -0.5209],\n",
      "          [-0.5209, -0.5209, -0.5209,  ..., -0.5209, -0.5209, -0.5209],\n",
      "          ...,\n",
      "          [-0.5209, -0.5209, -0.5209,  ..., -0.5209, -0.5209, -0.5209],\n",
      "          [-0.5209, -0.5209, -0.5209,  ..., -0.5209, -0.5209, -0.5209],\n",
      "          [-0.5209, -0.5209, -0.5209,  ..., -0.5209, -0.5209, -0.5209]],\n",
      "\n",
      "         ...,\n",
      "\n",
      "         [[-0.3444, -0.3444, -0.3444,  ..., -0.3444, -0.3444, -0.3444],\n",
      "          [-0.3444, -0.3444, -0.3444,  ..., -0.3444, -0.3444, -0.3444],\n",
      "          [-0.3444, -0.3444, -0.3444,  ..., -0.3444, -0.3444, -0.3444],\n",
      "          ...,\n",
      "          [-0.3444, -0.3444, -0.3444,  ..., -0.3444, -0.3444, -0.3444],\n",
      "          [-0.3444, -0.3444, -0.3444,  ..., -0.3444, -0.3444, -0.3444],\n",
      "          [-0.3444, -0.3444, -0.3444,  ..., -0.3444, -0.3444, -0.3444]],\n",
      "\n",
      "         [[ 0.7950,  0.7950,  0.7950,  ...,  0.7950,  0.7950,  0.7950],\n",
      "          [ 0.7950,  0.7950,  0.7950,  ...,  0.7950,  0.7950,  0.7950],\n",
      "          [ 0.7950,  0.7950,  0.7950,  ...,  0.7950,  0.7950,  0.7950],\n",
      "          ...,\n",
      "          [ 0.7950,  0.7950,  0.7950,  ...,  0.7950,  0.7950,  0.7950],\n",
      "          [ 0.7950,  0.7950,  0.7950,  ...,  0.7950,  0.7950,  0.7950],\n",
      "          [ 0.7950,  0.7950,  0.7950,  ...,  0.7950,  0.7950,  0.7950]],\n",
      "\n",
      "         [[ 0.6254,  0.6254,  0.6254,  ...,  0.6254,  0.6254,  0.6254],\n",
      "          [ 0.6254,  0.6254,  0.6254,  ...,  0.6254,  0.6254,  0.6254],\n",
      "          [ 0.6254,  0.6254,  0.6254,  ...,  0.6254,  0.6254,  0.6254],\n",
      "          ...,\n",
      "          [ 0.6254,  0.6254,  0.6254,  ...,  0.6254,  0.6254,  0.6254],\n",
      "          [ 0.6254,  0.6254,  0.6254,  ...,  0.6254,  0.6254,  0.6254],\n",
      "          [ 0.6254,  0.6254,  0.6254,  ...,  0.6254,  0.6254,  0.6254]]],\n",
      "\n",
      "\n",
      "        [[[ 0.8333,  0.8333,  0.8333,  ...,  0.8333,  0.8333,  0.8333],\n",
      "          [ 0.8333,  0.8333,  0.8333,  ...,  0.8333,  0.8333,  0.8333],\n",
      "          [ 0.8333,  0.8333,  0.8333,  ...,  0.8333,  0.8333,  0.8333],\n",
      "          ...,\n",
      "          [ 0.8333,  0.8333,  0.8333,  ...,  0.8333,  0.8333,  0.8333],\n",
      "          [ 0.8333,  0.8333,  0.8333,  ...,  0.8333,  0.8333,  0.8333],\n",
      "          [ 0.8333,  0.8333,  0.8333,  ...,  0.8333,  0.8333,  0.8333]],\n",
      "\n",
      "         [[-0.2283, -0.2283, -0.2283,  ..., -0.2283, -0.2283, -0.2283],\n",
      "          [-0.2283, -0.2283, -0.2283,  ..., -0.2283, -0.2283, -0.2283],\n",
      "          [-0.2283, -0.2283, -0.2283,  ..., -0.2283, -0.2283, -0.2283],\n",
      "          ...,\n",
      "          [-0.2283, -0.2283, -0.2283,  ..., -0.2283, -0.2283, -0.2283],\n",
      "          [-0.2283, -0.2283, -0.2283,  ..., -0.2283, -0.2283, -0.2283],\n",
      "          [-0.2283, -0.2283, -0.2283,  ..., -0.2283, -0.2283, -0.2283]],\n",
      "\n",
      "         [[-0.0893, -0.0893, -0.0893,  ..., -0.0893, -0.0893, -0.0893],\n",
      "          [-0.0893, -0.0893, -0.0893,  ..., -0.0893, -0.0893, -0.0893],\n",
      "          [-0.0893, -0.0893, -0.0893,  ..., -0.0893, -0.0893, -0.0893],\n",
      "          ...,\n",
      "          [-0.0893, -0.0893, -0.0893,  ..., -0.0893, -0.0893, -0.0893],\n",
      "          [-0.0893, -0.0893, -0.0893,  ..., -0.0893, -0.0893, -0.0893],\n",
      "          [-0.0893, -0.0893, -0.0893,  ..., -0.0893, -0.0893, -0.0893]],\n",
      "\n",
      "         ...,\n",
      "\n",
      "         [[-0.1114, -0.1114, -0.1114,  ..., -0.1114, -0.1114, -0.1114],\n",
      "          [-0.1114, -0.1114, -0.1114,  ..., -0.1114, -0.1114, -0.1114],\n",
      "          [-0.1114, -0.1114, -0.1114,  ..., -0.1114, -0.1114, -0.1114],\n",
      "          ...,\n",
      "          [-0.1114, -0.1114, -0.1114,  ..., -0.1114, -0.1114, -0.1114],\n",
      "          [-0.1114, -0.1114, -0.1114,  ..., -0.1114, -0.1114, -0.1114],\n",
      "          [-0.1114, -0.1114, -0.1114,  ..., -0.1114, -0.1114, -0.1114]],\n",
      "\n",
      "         [[-0.1721, -0.1721, -0.1721,  ..., -0.1721, -0.1721, -0.1721],\n",
      "          [-0.1721, -0.1721, -0.1721,  ..., -0.1721, -0.1721, -0.1721],\n",
      "          [-0.1721, -0.1721, -0.1721,  ..., -0.1721, -0.1721, -0.1721],\n",
      "          ...,\n",
      "          [-0.1721, -0.1721, -0.1721,  ..., -0.1721, -0.1721, -0.1721],\n",
      "          [-0.1721, -0.1721, -0.1721,  ..., -0.1721, -0.1721, -0.1721],\n",
      "          [-0.1721, -0.1721, -0.1721,  ..., -0.1721, -0.1721, -0.1721]],\n",
      "\n",
      "         [[ 0.2650,  0.2650,  0.2650,  ...,  0.2650,  0.2650,  0.2650],\n",
      "          [ 0.2650,  0.2650,  0.2650,  ...,  0.2650,  0.2650,  0.2650],\n",
      "          [ 0.2650,  0.2650,  0.2650,  ...,  0.2650,  0.2650,  0.2650],\n",
      "          ...,\n",
      "          [ 0.2650,  0.2650,  0.2650,  ...,  0.2650,  0.2650,  0.2650],\n",
      "          [ 0.2650,  0.2650,  0.2650,  ...,  0.2650,  0.2650,  0.2650],\n",
      "          [ 0.2650,  0.2650,  0.2650,  ...,  0.2650,  0.2650,  0.2650]]],\n",
      "\n",
      "\n",
      "        ...,\n",
      "\n",
      "\n",
      "        [[[ 1.0000,  1.0000,  1.0000,  ...,  1.0000,  1.0000,  1.0000],\n",
      "          [ 1.0000,  1.0000,  1.0000,  ...,  1.0000,  1.0000,  1.0000],\n",
      "          [ 1.0000,  1.0000,  1.0000,  ...,  1.0000,  1.0000,  1.0000],\n",
      "          ...,\n",
      "          [ 1.0000,  1.0000,  1.0000,  ...,  1.0000,  1.0000,  1.0000],\n",
      "          [ 1.0000,  1.0000,  1.0000,  ...,  1.0000,  1.0000,  1.0000],\n",
      "          [ 1.0000,  1.0000,  1.0000,  ...,  1.0000,  1.0000,  1.0000]],\n",
      "\n",
      "         [[-0.2027, -0.2027, -0.2027,  ..., -0.2027, -0.2027, -0.2027],\n",
      "          [-0.2027, -0.2027, -0.2027,  ..., -0.2027, -0.2027, -0.2027],\n",
      "          [-0.2027, -0.2027, -0.2027,  ..., -0.2027, -0.2027, -0.2027],\n",
      "          ...,\n",
      "          [-0.2027, -0.2027, -0.2027,  ..., -0.2027, -0.2027, -0.2027],\n",
      "          [-0.2027, -0.2027, -0.2027,  ..., -0.2027, -0.2027, -0.2027],\n",
      "          [-0.2027, -0.2027, -0.2027,  ..., -0.2027, -0.2027, -0.2027]],\n",
      "\n",
      "         [[-0.2107, -0.2107, -0.2107,  ..., -0.2107, -0.2107, -0.2107],\n",
      "          [-0.2107, -0.2107, -0.2107,  ..., -0.2107, -0.2107, -0.2107],\n",
      "          [-0.2107, -0.2107, -0.2107,  ..., -0.2107, -0.2107, -0.2107],\n",
      "          ...,\n",
      "          [-0.2107, -0.2107, -0.2107,  ..., -0.2107, -0.2107, -0.2107],\n",
      "          [-0.2107, -0.2107, -0.2107,  ..., -0.2107, -0.2107, -0.2107],\n",
      "          [-0.2107, -0.2107, -0.2107,  ..., -0.2107, -0.2107, -0.2107]],\n",
      "\n",
      "         ...,\n",
      "\n",
      "         [[-0.4078, -0.4078, -0.4078,  ..., -0.4078, -0.4078, -0.4078],\n",
      "          [-0.4078, -0.4078, -0.4078,  ..., -0.4078, -0.4078, -0.4078],\n",
      "          [-0.4078, -0.4078, -0.4078,  ..., -0.4078, -0.4078, -0.4078],\n",
      "          ...,\n",
      "          [-0.4078, -0.4078, -0.4078,  ..., -0.4078, -0.4078, -0.4078],\n",
      "          [-0.4078, -0.4078, -0.4078,  ..., -0.4078, -0.4078, -0.4078],\n",
      "          [-0.4078, -0.4078, -0.4078,  ..., -0.4078, -0.4078, -0.4078]],\n",
      "\n",
      "         [[ 0.2163,  0.2163,  0.2163,  ...,  0.2163,  0.2163,  0.2163],\n",
      "          [ 0.2163,  0.2163,  0.2163,  ...,  0.2163,  0.2163,  0.2163],\n",
      "          [ 0.2163,  0.2163,  0.2163,  ...,  0.2163,  0.2163,  0.2163],\n",
      "          ...,\n",
      "          [ 0.2163,  0.2163,  0.2163,  ...,  0.2163,  0.2163,  0.2163],\n",
      "          [ 0.2163,  0.2163,  0.2163,  ...,  0.2163,  0.2163,  0.2163],\n",
      "          [ 0.2163,  0.2163,  0.2163,  ...,  0.2163,  0.2163,  0.2163]],\n",
      "\n",
      "         [[ 0.3838,  0.3838,  0.3838,  ...,  0.3838,  0.3838,  0.3838],\n",
      "          [ 0.3838,  0.3838,  0.3838,  ...,  0.3838,  0.3838,  0.3838],\n",
      "          [ 0.3838,  0.3838,  0.3838,  ...,  0.3838,  0.3838,  0.3838],\n",
      "          ...,\n",
      "          [ 0.3838,  0.3838,  0.3838,  ...,  0.3838,  0.3838,  0.3838],\n",
      "          [ 0.3838,  0.3838,  0.3838,  ...,  0.3838,  0.3838,  0.3838],\n",
      "          [ 0.3838,  0.3838,  0.3838,  ...,  0.3838,  0.3838,  0.3838]]],\n",
      "\n",
      "\n",
      "        [[[ 1.0000,  1.0000,  1.0000,  ...,  1.0000,  1.0000,  1.0000],\n",
      "          [ 1.0000,  1.0000,  1.0000,  ...,  1.0000,  1.0000,  1.0000],\n",
      "          [ 1.0000,  1.0000,  1.0000,  ...,  1.0000,  1.0000,  1.0000],\n",
      "          ...,\n",
      "          [ 1.0000,  1.0000,  1.0000,  ...,  1.0000,  1.0000,  1.0000],\n",
      "          [ 1.0000,  1.0000,  1.0000,  ...,  1.0000,  1.0000,  1.0000],\n",
      "          [ 1.0000,  1.0000,  1.0000,  ...,  1.0000,  1.0000,  1.0000]],\n",
      "\n",
      "         [[ 0.1583,  0.1583,  0.1583,  ...,  0.1583,  0.1583,  0.1583],\n",
      "          [ 0.1583,  0.1583,  0.1583,  ...,  0.1583,  0.1583,  0.1583],\n",
      "          [ 0.1583,  0.1583,  0.1583,  ...,  0.1583,  0.1583,  0.1583],\n",
      "          ...,\n",
      "          [ 0.1583,  0.1583,  0.1583,  ...,  0.1583,  0.1583,  0.1583],\n",
      "          [ 0.1583,  0.1583,  0.1583,  ...,  0.1583,  0.1583,  0.1583],\n",
      "          [ 0.1583,  0.1583,  0.1583,  ...,  0.1583,  0.1583,  0.1583]],\n",
      "\n",
      "         [[ 0.2815,  0.2815,  0.2815,  ...,  0.2815,  0.2815,  0.2815],\n",
      "          [ 0.2815,  0.2815,  0.2815,  ...,  0.2815,  0.2815,  0.2815],\n",
      "          [ 0.2815,  0.2815,  0.2815,  ...,  0.2815,  0.2815,  0.2815],\n",
      "          ...,\n",
      "          [ 0.2815,  0.2815,  0.2815,  ...,  0.2815,  0.2815,  0.2815],\n",
      "          [ 0.2815,  0.2815,  0.2815,  ...,  0.2815,  0.2815,  0.2815],\n",
      "          [ 0.2815,  0.2815,  0.2815,  ...,  0.2815,  0.2815,  0.2815]],\n",
      "\n",
      "         ...,\n",
      "\n",
      "         [[ 0.0647,  0.0647,  0.0647,  ...,  0.0647,  0.0647,  0.0647],\n",
      "          [ 0.0647,  0.0647,  0.0647,  ...,  0.0647,  0.0647,  0.0647],\n",
      "          [ 0.0647,  0.0647,  0.0647,  ...,  0.0647,  0.0647,  0.0647],\n",
      "          ...,\n",
      "          [ 0.0647,  0.0647,  0.0647,  ...,  0.0647,  0.0647,  0.0647],\n",
      "          [ 0.0647,  0.0647,  0.0647,  ...,  0.0647,  0.0647,  0.0647],\n",
      "          [ 0.0647,  0.0647,  0.0647,  ...,  0.0647,  0.0647,  0.0647]],\n",
      "\n",
      "         [[ 0.6225,  0.6225,  0.6225,  ...,  0.6225,  0.6225,  0.6225],\n",
      "          [ 0.6225,  0.6225,  0.6225,  ...,  0.6225,  0.6225,  0.6225],\n",
      "          [ 0.6225,  0.6225,  0.6225,  ...,  0.6225,  0.6225,  0.6225],\n",
      "          ...,\n",
      "          [ 0.6225,  0.6225,  0.6225,  ...,  0.6225,  0.6225,  0.6225],\n",
      "          [ 0.6225,  0.6225,  0.6225,  ...,  0.6225,  0.6225,  0.6225],\n",
      "          [ 0.6225,  0.6225,  0.6225,  ...,  0.6225,  0.6225,  0.6225]],\n",
      "\n",
      "         [[ 0.1551,  0.1551,  0.1551,  ...,  0.1551,  0.1551,  0.1551],\n",
      "          [ 0.1551,  0.1551,  0.1551,  ...,  0.1551,  0.1551,  0.1551],\n",
      "          [ 0.1551,  0.1551,  0.1551,  ...,  0.1551,  0.1551,  0.1551],\n",
      "          ...,\n",
      "          [ 0.1551,  0.1551,  0.1551,  ...,  0.1551,  0.1551,  0.1551],\n",
      "          [ 0.1551,  0.1551,  0.1551,  ...,  0.1551,  0.1551,  0.1551],\n",
      "          [ 0.1551,  0.1551,  0.1551,  ...,  0.1551,  0.1551,  0.1551]]],\n",
      "\n",
      "\n",
      "        [[[ 1.0000,  1.0000,  1.0000,  ...,  1.0000,  1.0000,  1.0000],\n",
      "          [ 1.0000,  1.0000,  1.0000,  ...,  1.0000,  1.0000,  1.0000],\n",
      "          [ 1.0000,  1.0000,  1.0000,  ...,  1.0000,  1.0000,  1.0000],\n",
      "          ...,\n",
      "          [ 1.0000,  1.0000,  1.0000,  ...,  1.0000,  1.0000,  1.0000],\n",
      "          [ 1.0000,  1.0000,  1.0000,  ...,  1.0000,  1.0000,  1.0000],\n",
      "          [ 1.0000,  1.0000,  1.0000,  ...,  1.0000,  1.0000,  1.0000]],\n",
      "\n",
      "         [[-0.1950, -0.1950, -0.1950,  ..., -0.1950, -0.1950, -0.1950],\n",
      "          [-0.1950, -0.1950, -0.1950,  ..., -0.1950, -0.1950, -0.1950],\n",
      "          [-0.1950, -0.1950, -0.1950,  ..., -0.1950, -0.1950, -0.1950],\n",
      "          ...,\n",
      "          [-0.1950, -0.1950, -0.1950,  ..., -0.1950, -0.1950, -0.1950],\n",
      "          [-0.1950, -0.1950, -0.1950,  ..., -0.1950, -0.1950, -0.1950],\n",
      "          [-0.1950, -0.1950, -0.1950,  ..., -0.1950, -0.1950, -0.1950]],\n",
      "\n",
      "         [[ 0.0016,  0.0016,  0.0016,  ...,  0.0016,  0.0016,  0.0016],\n",
      "          [ 0.0016,  0.0016,  0.0016,  ...,  0.0016,  0.0016,  0.0016],\n",
      "          [ 0.0016,  0.0016,  0.0016,  ...,  0.0016,  0.0016,  0.0016],\n",
      "          ...,\n",
      "          [ 0.0016,  0.0016,  0.0016,  ...,  0.0016,  0.0016,  0.0016],\n",
      "          [ 0.0016,  0.0016,  0.0016,  ...,  0.0016,  0.0016,  0.0016],\n",
      "          [ 0.0016,  0.0016,  0.0016,  ...,  0.0016,  0.0016,  0.0016]],\n",
      "\n",
      "         ...,\n",
      "\n",
      "         [[ 0.0312,  0.0312,  0.0312,  ...,  0.0312,  0.0312,  0.0312],\n",
      "          [ 0.0312,  0.0312,  0.0312,  ...,  0.0312,  0.0312,  0.0312],\n",
      "          [ 0.0312,  0.0312,  0.0312,  ...,  0.0312,  0.0312,  0.0312],\n",
      "          ...,\n",
      "          [ 0.0312,  0.0312,  0.0312,  ...,  0.0312,  0.0312,  0.0312],\n",
      "          [ 0.0312,  0.0312,  0.0312,  ...,  0.0312,  0.0312,  0.0312],\n",
      "          [ 0.0312,  0.0312,  0.0312,  ...,  0.0312,  0.0312,  0.0312]],\n",
      "\n",
      "         [[-0.0745, -0.0745, -0.0745,  ..., -0.0745, -0.0745, -0.0745],\n",
      "          [-0.0745, -0.0745, -0.0745,  ..., -0.0745, -0.0745, -0.0745],\n",
      "          [-0.0745, -0.0745, -0.0745,  ..., -0.0745, -0.0745, -0.0745],\n",
      "          ...,\n",
      "          [-0.0745, -0.0745, -0.0745,  ..., -0.0745, -0.0745, -0.0745],\n",
      "          [-0.0745, -0.0745, -0.0745,  ..., -0.0745, -0.0745, -0.0745],\n",
      "          [-0.0745, -0.0745, -0.0745,  ..., -0.0745, -0.0745, -0.0745]],\n",
      "\n",
      "         [[-0.1415, -0.1415, -0.1415,  ..., -0.1415, -0.1415, -0.1415],\n",
      "          [-0.1415, -0.1415, -0.1415,  ..., -0.1415, -0.1415, -0.1415],\n",
      "          [-0.1415, -0.1415, -0.1415,  ..., -0.1415, -0.1415, -0.1415],\n",
      "          ...,\n",
      "          [-0.1415, -0.1415, -0.1415,  ..., -0.1415, -0.1415, -0.1415],\n",
      "          [-0.1415, -0.1415, -0.1415,  ..., -0.1415, -0.1415, -0.1415],\n",
      "          [-0.1415, -0.1415, -0.1415,  ..., -0.1415, -0.1415, -0.1415]]]]), 'sentinel_2': tensor([[[[0., 0., 0.,  ..., 0., 0., 0.],\n",
      "          [0., 0., 0.,  ..., 0., 0., 0.],\n",
      "          [0., 0., 0.,  ..., 0., 0., 0.],\n",
      "          ...,\n",
      "          [0., 0., 0.,  ..., 0., 0., 0.],\n",
      "          [0., 0., 0.,  ..., 0., 0., 0.],\n",
      "          [0., 0., 0.,  ..., 0., 0., 0.]],\n",
      "\n",
      "         [[0., 0., 0.,  ..., 0., 0., 0.],\n",
      "          [0., 0., 0.,  ..., 0., 0., 0.],\n",
      "          [0., 0., 0.,  ..., 0., 0., 0.],\n",
      "          ...,\n",
      "          [0., 0., 0.,  ..., 0., 0., 0.],\n",
      "          [0., 0., 0.,  ..., 0., 0., 0.],\n",
      "          [0., 0., 0.,  ..., 0., 0., 0.]],\n",
      "\n",
      "         [[0., 0., 0.,  ..., 0., 0., 0.],\n",
      "          [0., 0., 0.,  ..., 0., 0., 0.],\n",
      "          [0., 0., 0.,  ..., 0., 0., 0.],\n",
      "          ...,\n",
      "          [0., 0., 0.,  ..., 0., 0., 0.],\n",
      "          [0., 0., 0.,  ..., 0., 0., 0.],\n",
      "          [0., 0., 0.,  ..., 0., 0., 0.]],\n",
      "\n",
      "         [[0., 0., 0.,  ..., 0., 0., 0.],\n",
      "          [0., 0., 0.,  ..., 0., 0., 0.],\n",
      "          [0., 0., 0.,  ..., 0., 0., 0.],\n",
      "          ...,\n",
      "          [0., 0., 0.,  ..., 0., 0., 0.],\n",
      "          [0., 0., 0.,  ..., 0., 0., 0.],\n",
      "          [0., 0., 0.,  ..., 0., 0., 0.]]],\n",
      "\n",
      "\n",
      "        [[[0., 0., 0.,  ..., 0., 0., 0.],\n",
      "          [0., 0., 0.,  ..., 0., 0., 0.],\n",
      "          [0., 0., 0.,  ..., 0., 0., 0.],\n",
      "          ...,\n",
      "          [0., 0., 0.,  ..., 0., 0., 0.],\n",
      "          [0., 0., 0.,  ..., 0., 0., 0.],\n",
      "          [0., 0., 0.,  ..., 0., 0., 0.]],\n",
      "\n",
      "         [[0., 0., 0.,  ..., 0., 0., 0.],\n",
      "          [0., 0., 0.,  ..., 0., 0., 0.],\n",
      "          [0., 0., 0.,  ..., 0., 0., 0.],\n",
      "          ...,\n",
      "          [0., 0., 0.,  ..., 0., 0., 0.],\n",
      "          [0., 0., 0.,  ..., 0., 0., 0.],\n",
      "          [0., 0., 0.,  ..., 0., 0., 0.]],\n",
      "\n",
      "         [[0., 0., 0.,  ..., 0., 0., 0.],\n",
      "          [0., 0., 0.,  ..., 0., 0., 0.],\n",
      "          [0., 0., 0.,  ..., 0., 0., 0.],\n",
      "          ...,\n",
      "          [0., 0., 0.,  ..., 0., 0., 0.],\n",
      "          [0., 0., 0.,  ..., 0., 0., 0.],\n",
      "          [0., 0., 0.,  ..., 0., 0., 0.]],\n",
      "\n",
      "         [[0., 0., 0.,  ..., 0., 0., 0.],\n",
      "          [0., 0., 0.,  ..., 0., 0., 0.],\n",
      "          [0., 0., 0.,  ..., 0., 0., 0.],\n",
      "          ...,\n",
      "          [0., 0., 0.,  ..., 0., 0., 0.],\n",
      "          [0., 0., 0.,  ..., 0., 0., 0.],\n",
      "          [0., 0., 0.,  ..., 0., 0., 0.]]],\n",
      "\n",
      "\n",
      "        [[[0., 0., 0.,  ..., 0., 0., 0.],\n",
      "          [0., 0., 0.,  ..., 0., 0., 0.],\n",
      "          [0., 0., 0.,  ..., 0., 0., 0.],\n",
      "          ...,\n",
      "          [0., 0., 0.,  ..., 0., 0., 0.],\n",
      "          [0., 0., 0.,  ..., 0., 0., 0.],\n",
      "          [0., 0., 0.,  ..., 0., 0., 0.]],\n",
      "\n",
      "         [[0., 0., 0.,  ..., 0., 0., 0.],\n",
      "          [0., 0., 0.,  ..., 0., 0., 0.],\n",
      "          [0., 0., 0.,  ..., 0., 0., 0.],\n",
      "          ...,\n",
      "          [0., 0., 0.,  ..., 0., 0., 0.],\n",
      "          [0., 0., 0.,  ..., 0., 0., 0.],\n",
      "          [0., 0., 0.,  ..., 0., 0., 0.]],\n",
      "\n",
      "         [[0., 0., 0.,  ..., 0., 0., 0.],\n",
      "          [0., 0., 0.,  ..., 0., 0., 0.],\n",
      "          [0., 0., 0.,  ..., 0., 0., 0.],\n",
      "          ...,\n",
      "          [0., 0., 0.,  ..., 0., 0., 0.],\n",
      "          [0., 0., 0.,  ..., 0., 0., 0.],\n",
      "          [0., 0., 0.,  ..., 0., 0., 0.]],\n",
      "\n",
      "         [[0., 0., 0.,  ..., 0., 0., 0.],\n",
      "          [0., 0., 0.,  ..., 0., 0., 0.],\n",
      "          [0., 0., 0.,  ..., 0., 0., 0.],\n",
      "          ...,\n",
      "          [0., 0., 0.,  ..., 0., 0., 0.],\n",
      "          [0., 0., 0.,  ..., 0., 0., 0.],\n",
      "          [0., 0., 0.,  ..., 0., 0., 0.]]],\n",
      "\n",
      "\n",
      "        ...,\n",
      "\n",
      "\n",
      "        [[[0., 0., 0.,  ..., 0., 0., 0.],\n",
      "          [0., 0., 0.,  ..., 0., 0., 0.],\n",
      "          [0., 0., 0.,  ..., 0., 0., 0.],\n",
      "          ...,\n",
      "          [0., 0., 0.,  ..., 0., 0., 0.],\n",
      "          [0., 0., 0.,  ..., 0., 0., 0.],\n",
      "          [0., 0., 0.,  ..., 0., 0., 0.]],\n",
      "\n",
      "         [[0., 0., 0.,  ..., 0., 0., 0.],\n",
      "          [0., 0., 0.,  ..., 0., 0., 0.],\n",
      "          [0., 0., 0.,  ..., 0., 0., 0.],\n",
      "          ...,\n",
      "          [0., 0., 0.,  ..., 0., 0., 0.],\n",
      "          [0., 0., 0.,  ..., 0., 0., 0.],\n",
      "          [0., 0., 0.,  ..., 0., 0., 0.]],\n",
      "\n",
      "         [[0., 0., 0.,  ..., 0., 0., 0.],\n",
      "          [0., 0., 0.,  ..., 0., 0., 0.],\n",
      "          [0., 0., 0.,  ..., 0., 0., 0.],\n",
      "          ...,\n",
      "          [0., 0., 0.,  ..., 0., 0., 0.],\n",
      "          [0., 0., 0.,  ..., 0., 0., 0.],\n",
      "          [0., 0., 0.,  ..., 0., 0., 0.]],\n",
      "\n",
      "         [[0., 0., 0.,  ..., 0., 0., 0.],\n",
      "          [0., 0., 0.,  ..., 0., 0., 0.],\n",
      "          [0., 0., 0.,  ..., 0., 0., 0.],\n",
      "          ...,\n",
      "          [0., 0., 0.,  ..., 0., 0., 0.],\n",
      "          [0., 0., 0.,  ..., 0., 0., 0.],\n",
      "          [0., 0., 0.,  ..., 0., 0., 0.]]],\n",
      "\n",
      "\n",
      "        [[[0., 0., 0.,  ..., 0., 0., 0.],\n",
      "          [0., 0., 0.,  ..., 0., 0., 0.],\n",
      "          [0., 0., 0.,  ..., 0., 0., 0.],\n",
      "          ...,\n",
      "          [0., 0., 0.,  ..., 0., 0., 0.],\n",
      "          [0., 0., 0.,  ..., 0., 0., 0.],\n",
      "          [0., 0., 0.,  ..., 0., 0., 0.]],\n",
      "\n",
      "         [[0., 0., 0.,  ..., 0., 0., 0.],\n",
      "          [0., 0., 0.,  ..., 0., 0., 0.],\n",
      "          [0., 0., 0.,  ..., 0., 0., 0.],\n",
      "          ...,\n",
      "          [0., 0., 0.,  ..., 0., 0., 0.],\n",
      "          [0., 0., 0.,  ..., 0., 0., 0.],\n",
      "          [0., 0., 0.,  ..., 0., 0., 0.]],\n",
      "\n",
      "         [[0., 0., 0.,  ..., 0., 0., 0.],\n",
      "          [0., 0., 0.,  ..., 0., 0., 0.],\n",
      "          [0., 0., 0.,  ..., 0., 0., 0.],\n",
      "          ...,\n",
      "          [0., 0., 0.,  ..., 0., 0., 0.],\n",
      "          [0., 0., 0.,  ..., 0., 0., 0.],\n",
      "          [0., 0., 0.,  ..., 0., 0., 0.]],\n",
      "\n",
      "         [[0., 0., 0.,  ..., 0., 0., 0.],\n",
      "          [0., 0., 0.,  ..., 0., 0., 0.],\n",
      "          [0., 0., 0.,  ..., 0., 0., 0.],\n",
      "          ...,\n",
      "          [0., 0., 0.,  ..., 0., 0., 0.],\n",
      "          [0., 0., 0.,  ..., 0., 0., 0.],\n",
      "          [0., 0., 0.,  ..., 0., 0., 0.]]],\n",
      "\n",
      "\n",
      "        [[[0., 0., 0.,  ..., 0., 0., 0.],\n",
      "          [0., 0., 0.,  ..., 0., 0., 0.],\n",
      "          [0., 0., 0.,  ..., 0., 0., 0.],\n",
      "          ...,\n",
      "          [0., 0., 0.,  ..., 0., 0., 0.],\n",
      "          [0., 0., 0.,  ..., 0., 0., 0.],\n",
      "          [0., 0., 0.,  ..., 0., 0., 0.]],\n",
      "\n",
      "         [[0., 0., 0.,  ..., 0., 0., 0.],\n",
      "          [0., 0., 0.,  ..., 0., 0., 0.],\n",
      "          [0., 0., 0.,  ..., 0., 0., 0.],\n",
      "          ...,\n",
      "          [0., 0., 0.,  ..., 0., 0., 0.],\n",
      "          [0., 0., 0.,  ..., 0., 0., 0.],\n",
      "          [0., 0., 0.,  ..., 0., 0., 0.]],\n",
      "\n",
      "         [[0., 0., 0.,  ..., 0., 0., 0.],\n",
      "          [0., 0., 0.,  ..., 0., 0., 0.],\n",
      "          [0., 0., 0.,  ..., 0., 0., 0.],\n",
      "          ...,\n",
      "          [0., 0., 0.,  ..., 0., 0., 0.],\n",
      "          [0., 0., 0.,  ..., 0., 0., 0.],\n",
      "          [0., 0., 0.,  ..., 0., 0., 0.]],\n",
      "\n",
      "         [[0., 0., 0.,  ..., 0., 0., 0.],\n",
      "          [0., 0., 0.,  ..., 0., 0., 0.],\n",
      "          [0., 0., 0.,  ..., 0., 0., 0.],\n",
      "          ...,\n",
      "          [0., 0., 0.,  ..., 0., 0., 0.],\n",
      "          [0., 0., 0.,  ..., 0., 0., 0.],\n",
      "          [0., 0., 0.,  ..., 0., 0., 0.]]]])}\n"
     ]
    }
   ],
   "source": [
    "from lit_diffusion.util import instantiate_python_class_from_string_config\n",
    "\n",
    "with open(\"../config/model_configs/backbones/s2_era5.yaml\", \"r\") as config_file:\n",
    "    config = yaml.safe_load(config_file)\n",
    "\n",
    "data_loader = instantiate_python_class_from_string_config(\n",
    "    class_config=config[\"train_torch_data_loader\"]\n",
    ")\n",
    "\n",
    "for ims in data_loader: \n",
    "    print(ims)\n",
    "    break"
   ]
  },
  {
   "cell_type": "code",
   "execution_count": 12,
   "id": "02397540-42b2-43ec-888c-5e32c73cf5b7",
   "metadata": {
    "tags": []
   },
   "outputs": [
    {
     "data": {
      "text/plain": [
       "torch.Size([24, 4, 128, 128])"
      ]
     },
     "execution_count": 12,
     "metadata": {},
     "output_type": "execute_result"
    }
   ],
   "source": [
    "ims[\"sentinel_2\"].shape"
   ]
  },
  {
   "cell_type": "code",
   "execution_count": 4,
   "id": "0b4203b2-2a32-4725-bc3d-b81d46fc6177",
   "metadata": {
    "tags": []
   },
   "outputs": [
    {
     "ename": "ValueError",
     "evalue": "too many values to unpack (expected 1)",
     "output_type": "error",
     "traceback": [
      "\u001b[0;31m---------------------------------------------------------------------------\u001b[0m",
      "\u001b[0;31mValueError\u001b[0m                                Traceback (most recent call last)",
      "Cell \u001b[0;32mIn [4], line 1\u001b[0m\n\u001b[0;32m----> 1\u001b[0m ims, \u001b[38;5;241m=\u001b[39m ims\n\u001b[1;32m      2\u001b[0m ims\u001b[38;5;241m.\u001b[39mshape\n",
      "\u001b[0;31mValueError\u001b[0m: too many values to unpack (expected 1)"
     ]
    }
   ],
   "source": [
    "ims_1, ims_2 = ims\n",
    "ims.shape"
   ]
  },
  {
   "cell_type": "code",
   "execution_count": 17,
   "id": "96831d16-26a2-441b-b0b3-cd91c4accb26",
   "metadata": {
    "tags": []
   },
   "outputs": [],
   "source": [
    "from typing import Callable, List, Optional, Tuple\n",
    "\n",
    "# Nmpy\n",
    "import numpy as np\n",
    "\n",
    "# FFCV\n",
    "from ffcv.pipeline.operation import Operation\n",
    "from ffcv.pipeline.allocation_query import AllocationQuery\n",
    "from ffcv.pipeline.state import State\n",
    "from ffcv.pipeline.compiler import Compiler\n",
    "\n",
    "\n",
    "class ChannelWiseMinMaxScaler(Operation):\n",
    "    def __init__(\n",
    "        self,\n",
    "        minimum_value: List[float],\n",
    "        maximum_value: List[float],\n",
    "        interval_min: List[float] = None,\n",
    "        interval_max: List[float] = None,\n",
    "        two_dims: bool = False,\n",
    "    ):\n",
    "        self.two_dims = two_dims\n",
    "        assert len(minimum_value) == len(maximum_value)\n",
    "        # Store Scaler values\n",
    "        self.minimum_value = minimum_value\n",
    "        self.maximum_value = maximum_value\n",
    "        self.interval_min = (\n",
    "            interval_min if interval_min else [-1 for _ in range(len(maximum_value))]\n",
    "        )\n",
    "        self.interval_max = (\n",
    "            interval_max if interval_min else [1 for _ in range(len(maximum_value))]\n",
    "        )\n",
    "        assert len(self.interval_min) == len(self.interval_max)\n",
    "        assert len(self.interval_max) == len(minimum_value)\n",
    "        self.minimum_value, self.maximum_value, self.interval_min, self.interval_max = (np.array(x) for x in [self.minimum_value, self.maximum_value, self.interval_min, self.interval_max])\n",
    "\n",
    "    def generate_code(self) -> Callable:\n",
    "        parallel_range = Compiler.get_iterator()\n",
    "        # get local variables to use in return function\n",
    "        two_dims = self.two_dims\n",
    "        n_channels = len(self.maximum_value)\n",
    "        minimum = self.minimum_value\n",
    "        maximum = self.maximum_value\n",
    "        interval_minimum = self.interval_min\n",
    "        interval_maximum = self.interval_max\n",
    "\n",
    "        def scale_images(images, *args):\n",
    "            results = np.zeros_like(images)\n",
    "            for i in parallel_range(n_channels):\n",
    "                current_minimum = minimum[i]\n",
    "                current_maximum = maximum[i]\n",
    "                current_interval_minimum = interval_minimum[i]\n",
    "                current_interval_maximum = interval_maximum[i]\n",
    "\n",
    "                current_channel = images[:, i] if two_dims else images[:, i, ::]\n",
    "                current_channel = (\n",
    "                        (\n",
    "                            (current_channel - current_minimum)\n",
    "                            / (current_maximum - current_minimum)\n",
    "                        )\n",
    "                        * (current_interval_maximum - current_interval_minimum)\n",
    "                        + current_interval_minimum\n",
    "                )\n",
    "                if two_dims:\n",
    "                    results[:, i] = current_channel\n",
    "                else:\n",
    "                    results[:, i, ::] = current_channel\n",
    "            return results\n",
    "\n",
    "        scale_images.is_parallel = True\n",
    "        return scale_images\n",
    "\n",
    "    def declare_state_and_memory(\n",
    "        self, previous_state: State\n",
    "    ) -> Tuple[State, Optional[AllocationQuery]]:\n",
    "        return previous_state, None\n"
   ]
  },
  {
   "cell_type": "code",
   "execution_count": 16,
   "id": "c6ba9bbb-3717-4115-8ae0-75cd47c83d4b",
   "metadata": {
    "tags": []
   },
   "outputs": [
    {
     "name": "stdout",
     "output_type": "stream",
     "text": [
      "(array([[ 1.        ,  0.10883382,  0.30386657, -0.13902222, -0.09004445,\n",
      "        -0.0816    ,  0.01785   ,  0.61594546, -0.01460003],\n",
      "       [ 1.        ,  0.21726684, -0.20686646, -0.0556    ,  0.07168888,\n",
      "         0.41645002, -0.12405   , -0.16556361,  0.8143091 ],\n",
      "       [ 1.        ,  0.17690022,  0.5170664 , -0.2804889 , -0.19813333,\n",
      "         0.1227    , -0.17899999, -0.4333091 , -0.375     ],\n",
      "       [ 1.        ,  0.01809997,  0.05680033, -0.09017778, -0.19591111,\n",
      "        -0.04705   ,  0.23555   ,  0.72689086,  0.48596358]],\n",
      "      dtype=float32),)\n"
     ]
    }
   ],
   "source": [
    "image_pipelines = {\n",
    "    \"climate_zone\": None, \n",
    "    \"elevation_differ\": None,\n",
    "    \"era_5\": [ChannelWiseMinMaxScaler(\n",
    "        minimum_value=[700, 250, 250, -20, -20, -20, -20, 0, 0],\n",
    "        maximum_value=[1000, 310, 310, 25, 25, 20, 20, 110, 110],\n",
    "        interval_min=[-1, -1, -1, -1, -1, -1, -1, -1, -1],\n",
    "        interval_max=[1, 1, 1, 1, 1, 1, 1, 1, 1],\n",
    "        two_dims=True,\n",
    "    )], # [BlowUp((9,2,2))],\n",
    "    \"esa_worldcover\": None,\n",
    "    \"glo_30_dem\": None,\n",
    "    \"multiclass_numer\": None,\n",
    "    \"multiclass_one_h\": None,\n",
    "    \"season_s1\": None,\n",
    "    \"season_s2\": None,\n",
    "    \"sentinel_1\": None,\n",
    "    \"sentinel_2\": None,\n",
    "    \"field_names\": None,\n",
    "}\n",
    "\n",
    "loader = Loader(\n",
    "    \"/ds2/remote_sensing/ben-ge/ffcv/ben-ge-60-train.beton\", \n",
    "    batch_size=4, num_workers=4, order=OrderOption.SEQUENTIAL, pipelines=image_pipelines,\n",
    ")\n",
    "\n",
    "# First epoch includes compilation time\n",
    "for ims in loader: \n",
    "    print(ims)\n",
    "    break\n",
    "start_time = time.time()\n",
    "    \n",
    "# for _ in tqdm(range(399)):\n",
    "#     for ims, in loader: pass\n",
    "# print(f'Method: {name} | Shape: {ims.shape} | Time per epoch: {(time.time() - start_time) / 100:.4f}s')"
   ]
  },
  {
   "cell_type": "code",
   "execution_count": 71,
   "id": "0b3dc928-f0d0-4f84-b57c-b77ca89cb37b",
   "metadata": {
    "tags": []
   },
   "outputs": [
    {
     "data": {
      "text/plain": [
       "{'climate_zone': <ffcv.fields.basics.FloatField at 0x7f587cc41910>,\n",
       " 'elevation_differ': <ffcv.fields.basics.FloatField at 0x7f587cc41cd0>,\n",
       " 'era_5': <ffcv.fields.ndarray.NDArrayField at 0x7f587cc41190>,\n",
       " 'esa_worldcover': <ffcv.fields.ndarray.NDArrayField at 0x7f587cd7c3d0>,\n",
       " 'glo_30_dem': <ffcv.fields.ndarray.NDArrayField at 0x7f587cd7ceb0>,\n",
       " 'multiclass_numer': <ffcv.fields.ndarray.NDArrayField at 0x7f587ccdbca0>,\n",
       " 'multiclass_one_h': <ffcv.fields.ndarray.NDArrayField at 0x7f591166b160>,\n",
       " 'season_s1': <ffcv.fields.basics.FloatField at 0x7f587cd0afd0>,\n",
       " 'season_s2': <ffcv.fields.basics.FloatField at 0x7f587cd0abe0>,\n",
       " 'sentinel_1': <ffcv.fields.ndarray.NDArrayField at 0x7f587cd0aa60>,\n",
       " 'sentinel_2': <ffcv.fields.ndarray.NDArrayField at 0x7f587cd0a7c0>,\n",
       " 'field_names': <ffcv.fields.bytes.BytesField at 0x7f587ccd9460>}"
      ]
     },
     "execution_count": 71,
     "metadata": {},
     "output_type": "execute_result"
    }
   ],
   "source": [
    "loader.reader.handlers"
   ]
  },
  {
   "cell_type": "code",
   "execution_count": 70,
   "id": "8eeed6e5-0088-4242-a188-635dac66913f",
   "metadata": {
    "tags": []
   },
   "outputs": [
    {
     "name": "stdout",
     "output_type": "stream",
     "text": [
      "elevation_differ\n",
      "multiclass_numer\n",
      "multiclass_one_h\n"
     ]
    }
   ],
   "source": [
    "for k in loader.reader.handlers.keys():\n",
    "    if k not in image_pipelines.keys():\n",
    "        print(k)"
   ]
  },
  {
   "cell_type": "code",
   "execution_count": 103,
   "id": "19c166c6-7a14-44ed-b145-629915f4177b",
   "metadata": {},
   "outputs": [],
   "source": [
    "import torch\n",
    "a = torch.rand(size=(4, 2, 2))"
   ]
  },
  {
   "cell_type": "code",
   "execution_count": 114,
   "id": "f987d692-a213-4ca8-ac64-7206ec178b00",
   "metadata": {
    "tags": []
   },
   "outputs": [
    {
     "data": {
      "text/plain": [
       "tensor([[[0.9030, 0.7439],\n",
       "         [0.2211, 0.3594]],\n",
       "\n",
       "        [[0.5916, 0.2383],\n",
       "         [0.1266, 0.2170]],\n",
       "\n",
       "        [[0.1631, 0.0768],\n",
       "         [0.2557, 0.5864]],\n",
       "\n",
       "        [[0.8731, 0.6418],\n",
       "         [0.4523, 0.3200]]])"
      ]
     },
     "execution_count": 114,
     "metadata": {},
     "output_type": "execute_result"
    }
   ],
   "source": [
    "[a,][0]"
   ]
  },
  {
   "cell_type": "code",
   "execution_count": 115,
   "id": "ad07a8b9-7c98-45a2-971a-9537eae10358",
   "metadata": {
    "tags": []
   },
   "outputs": [
    {
     "data": {
      "text/plain": [
       "4"
      ]
     },
     "execution_count": 115,
     "metadata": {},
     "output_type": "execute_result"
    }
   ],
   "source": [
    "len(a)"
   ]
  },
  {
   "cell_type": "code",
   "execution_count": 119,
   "id": "12993e54-7d0b-4844-8f6e-5f26b13b9fcb",
   "metadata": {
    "tags": []
   },
   "outputs": [],
   "source": [
    "from ffcv.fields import JSONField"
   ]
  },
  {
   "cell_type": "code",
   "execution_count": 121,
   "id": "2a9f3de3-560a-4a4a-ae39-e821ebfd3421",
   "metadata": {
    "tags": []
   },
   "outputs": [
    {
     "data": {
      "text/plain": [
       "['climate_zone',\n",
       " 'elevation_difference_label',\n",
       " 'era_5',\n",
       " 'esa_worldcover',\n",
       " 'glo_30_dem',\n",
       " 'multiclass_numeric_label',\n",
       " 'multiclass_one_hot_label',\n",
       " 'season_s1',\n",
       " 'season_s2',\n",
       " 'sentinel_1',\n",
       " 'sentinel_2']"
      ]
     },
     "execution_count": 121,
     "metadata": {},
     "output_type": "execute_result"
    }
   ],
   "source": [
    "JSONField.unpack(ims[0][1])"
   ]
  },
  {
   "cell_type": "markdown",
   "id": "401f71cf-5c0c-4a55-a911-57225997bf2c",
   "metadata": {},
   "source": [
    "## Create Benge60-Delta ##"
   ]
  },
  {
   "cell_type": "code",
   "execution_count": 28,
   "id": "7ca0d66f-33b2-4b59-bfcc-433170a839bd",
   "metadata": {
    "tags": []
   },
   "outputs": [],
   "source": [
    "import os\n",
    "import pandas as pd\n",
    "from tqdm import tqdm"
   ]
  },
  {
   "cell_type": "code",
   "execution_count": 3,
   "id": "6f3fb4aa-3d6c-47e0-bbc1-9e929f857c14",
   "metadata": {
    "tags": []
   },
   "outputs": [
    {
     "data": {
      "text/plain": [
       "['ben-ge-test40.csv',\n",
       " 'data-split.py',\n",
       " 'ben-ge-test80.csv',\n",
       " '__init__.py',\n",
       " 'ben-ge-validation60.csv',\n",
       " 'ben-ge-train60.csv',\n",
       " 'ben-ge-validation20.csv',\n",
       " 'ben-ge-train20.csv',\n",
       " 'ben-ge-test.csv',\n",
       " 'ben-ge-train.csv',\n",
       " 'ben-ge-validation80.csv',\n",
       " 'ben-ge-train80.csv',\n",
       " 'ben-ge-validation40.csv',\n",
       " 'ben-ge-train40.csv',\n",
       " 'ben-ge-validation.csv',\n",
       " 'ben-ge-test60.csv',\n",
       " 'ben-ge-test20.csv']"
      ]
     },
     "execution_count": 3,
     "metadata": {},
     "output_type": "execute_result"
    }
   ],
   "source": [
    "os.listdir(\"/netscratch2/nkesseli/master-thesis-benge/src/master_thesis_benge/scripts/data-split\")"
   ]
  },
  {
   "cell_type": "code",
   "execution_count": 13,
   "id": "17821a50-366b-49f8-9c5d-4cdba841efcd",
   "metadata": {
    "tags": []
   },
   "outputs": [],
   "source": [
    "ben_ge_60_index = pd.read_csv(\"/netscratch2/nkesseli/master-thesis-benge/src/master_thesis_benge/scripts/data-split/ben-ge-train60.csv\", index_col=\"patch_id\")"
   ]
  },
  {
   "cell_type": "code",
   "execution_count": 14,
   "id": "6ec0aa5f-7cad-44b6-a274-83cc2395ef82",
   "metadata": {
    "tags": []
   },
   "outputs": [
    {
     "data": {
      "text/plain": [
       "279513"
      ]
     },
     "execution_count": 14,
     "metadata": {},
     "output_type": "execute_result"
    }
   ],
   "source": [
    "len(ben_ge_60_index)"
   ]
  },
  {
   "cell_type": "code",
   "execution_count": 15,
   "id": "91ca7197-2c5a-4722-86f4-a1abea729a2e",
   "metadata": {
    "tags": []
   },
   "outputs": [],
   "source": [
    "ben_ge_40_index = pd.read_csv(\"/netscratch2/nkesseli/master-thesis-benge/src/master_thesis_benge/scripts/data-split/ben-ge-train40.csv\", index_col=\"patch_id\")"
   ]
  },
  {
   "cell_type": "code",
   "execution_count": 16,
   "id": "fe447852-4352-4a65-bdea-34dab979006a",
   "metadata": {
    "tags": []
   },
   "outputs": [
    {
     "data": {
      "text/plain": [
       "186342"
      ]
     },
     "execution_count": 16,
     "metadata": {},
     "output_type": "execute_result"
    }
   ],
   "source": [
    "len(ben_ge_40_index)"
   ]
  },
  {
   "cell_type": "code",
   "execution_count": 26,
   "id": "d41152f2-e4ac-4471-a2e2-d37ce7bc1dd7",
   "metadata": {
    "tags": []
   },
   "outputs": [
    {
     "data": {
      "text/plain": [
       "93171"
      ]
     },
     "execution_count": 26,
     "metadata": {},
     "output_type": "execute_result"
    }
   ],
   "source": [
    "279513 - 186342"
   ]
  },
  {
   "cell_type": "code",
   "execution_count": 22,
   "id": "5b5f6faf-f46f-440a-a104-b7b819f98fea",
   "metadata": {
    "tags": []
   },
   "outputs": [],
   "source": [
    "benge_60_delta_index = set(ben_ge_60_index.index) - set(ben_ge_40_index.index)\n",
    "assert len(benge_60_delta_index) == (279513 - 186342)"
   ]
  },
  {
   "cell_type": "code",
   "execution_count": 27,
   "id": "683bcd47-d9b2-478f-88df-5083e41d1684",
   "metadata": {
    "tags": []
   },
   "outputs": [],
   "source": [
    "benge_60_delta_train = ben_ge_60_index.loc[list(benge_60_delta_index), ::]"
   ]
  },
  {
   "cell_type": "code",
   "execution_count": 30,
   "id": "a68f8296-11ce-409a-bbdf-5c4c9174cb86",
   "metadata": {
    "tags": []
   },
   "outputs": [
    {
     "name": "stderr",
     "output_type": "stream",
     "text": [
      "100%|█████████████████████████████████████████████████████████████████████████████████████████████████████████████████████████████████████████████████████████████████████████| 3/3 [00:04<00:00,  1.55s/it]\n"
     ]
    }
   ],
   "source": [
    "base_path = \"/ds2/remote_sensing/ben-ge/ffcv/write_indices/\"\n",
    "for split in tqdm([\"train\", \"validation\", \"test\"]):\n",
    "    ben_ge_60_index = pd.read_csv(f\"/netscratch2/nkesseli/master-thesis-benge/src/master_thesis_benge/scripts/data-split/ben-ge-{split}60.csv\", index_col=\"patch_id\")\n",
    "    ben_ge_40_index = pd.read_csv(f\"/netscratch2/nkesseli/master-thesis-benge/src/master_thesis_benge/scripts/data-split/ben-ge-{split}40.csv\", index_col=\"patch_id\")\n",
    "    benge_60_delta_index = list(set(ben_ge_60_index.index) - set(ben_ge_40_index.index))\n",
    "    assert len(benge_60_delta_index) == (len(ben_ge_60_index) - len(ben_ge_40_index))\n",
    "    benge_60_delta = ben_ge_60_index.loc[list(benge_60_delta_index), ::]\n",
    "    benge_60_delta.to_csv(base_path + f\"ben-ge-{split}60-delta.csv\")"
   ]
  }
 ],
 "metadata": {
  "kernelspec": {
   "display_name": "Python 3 (ipykernel)",
   "language": "python",
   "name": "python3"
  },
  "language_info": {
   "codemirror_mode": {
    "name": "ipython",
    "version": 3
   },
   "file_extension": ".py",
   "mimetype": "text/x-python",
   "name": "python",
   "nbconvert_exporter": "python",
   "pygments_lexer": "ipython3",
   "version": "3.8.10"
  }
 },
 "nbformat": 4,
 "nbformat_minor": 5
}
