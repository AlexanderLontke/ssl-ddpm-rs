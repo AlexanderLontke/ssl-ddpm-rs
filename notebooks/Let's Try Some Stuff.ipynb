{
 "cells": [
  {
   "cell_type": "code",
   "execution_count": 1,
   "outputs": [
    {
     "name": "stderr",
     "output_type": "stream",
     "text": [
      "Loading Classes:: 100%|██████████| 21/21 [00:02<00:00,  8.33it/s]\n"
     ]
    }
   ],
   "source": [
    "from remote_sensing_ddpm.datasets.uc_merced_land_use.uc_merced_dataset import UCMerced\n",
    "\n",
    "uc_merced_data_root = \"/Users/alexanderlontke/Documents/Uni/St. Gallen/SS_23/master_thesis/data/UCMerced_LandUse/Images\"\n",
    "\n",
    "dataset = UCMerced(\n",
    "    data_root=uc_merced_data_root,\n",
    "    phase=\"train\",\n",
    "    split_ratios={\"train\": 1.0}\n",
    ")"
   ],
   "metadata": {
    "collapsed": false
   }
  },
  {
   "cell_type": "code",
   "execution_count": 2,
   "outputs": [
    {
     "name": "stdout",
     "output_type": "stream",
     "text": [
      "0\n"
     ]
    }
   ],
   "source": [
    "count = 0\n",
    "for i, entry in enumerate(dataset):\n",
    "    if not entry[\"image\"].shape == (3, 256, 256):\n",
    "        print(entry[\"image\"].shape)\n",
    "        count +=1\n",
    "print(count)"
   ],
   "metadata": {
    "collapsed": false
   }
  },
  {
   "cell_type": "code",
   "execution_count": 9,
   "outputs": [
    {
     "name": "stdout",
     "output_type": "stream",
     "text": [
      "{'image': tensor([[[-0.7569, -0.6000, -0.5843,  ..., -0.1373, -0.2000, -0.5765],\n",
      "         [-0.3882, -0.2471, -0.3647,  ..., -0.3647, -0.4196, -0.5922],\n",
      "         [-0.3333, -0.2784, -0.4588,  ..., -0.7725, -0.7647, -0.7098],\n",
      "         ...,\n",
      "         [-0.0588, -0.2314, -0.4118,  ..., -0.0980, -0.6157, -0.4667],\n",
      "         [ 0.0745, -0.2627, -0.6235,  ..., -0.0745, -0.4824, -0.2784],\n",
      "         [ 0.1686, -0.1922, -0.6627,  ...,  0.0118, -0.1373, -0.2784]],\n",
      "\n",
      "        [[-0.6392, -0.4902, -0.4588,  ...,  0.0824, -0.0039, -0.4275],\n",
      "         [-0.2549, -0.0824, -0.2000,  ..., -0.1373, -0.2078, -0.4196],\n",
      "         [-0.1843, -0.0824, -0.2706,  ..., -0.6314, -0.6314, -0.5686],\n",
      "         ...,\n",
      "         [-0.0431, -0.1843, -0.2941,  ...,  0.0353, -0.5294, -0.3647],\n",
      "         [ 0.0510, -0.2627, -0.5686,  ...,  0.0510, -0.3647, -0.1451],\n",
      "         [ 0.1216, -0.2157, -0.6471,  ...,  0.1686,  0.0118, -0.1216]],\n",
      "\n",
      "        [[-0.6392, -0.5216, -0.4902,  ..., -0.0667, -0.1294, -0.5059],\n",
      "         [-0.2706, -0.1529, -0.2706,  ..., -0.2627, -0.3255, -0.5059],\n",
      "         [-0.2235, -0.1608, -0.3490,  ..., -0.6784, -0.6784, -0.6235],\n",
      "         ...,\n",
      "         [-0.1294, -0.2549, -0.3647,  ..., -0.1294, -0.5843, -0.4431],\n",
      "         [-0.0196, -0.3098, -0.5686,  ..., -0.1216, -0.4745, -0.2706],\n",
      "         [ 0.0667, -0.2471, -0.6235,  ..., -0.0118, -0.1373, -0.2627]]]), 'label': 7}\n"
     ]
    }
   ],
   "source": [
    "print(entry)"
   ],
   "metadata": {
    "collapsed": false
   }
  },
  {
   "cell_type": "code",
   "execution_count": 3,
   "outputs": [],
   "source": [
    "def conv_output(h, kernel, stride):\n",
    "    return (h-kernel)/stride +1"
   ],
   "metadata": {
    "collapsed": false
   }
  },
  {
   "cell_type": "code",
   "execution_count": 12,
   "outputs": [
    {
     "data": {
      "text/plain": "252.0"
     },
     "execution_count": 12,
     "metadata": {},
     "output_type": "execute_result"
    }
   ],
   "source": [
    "conv_output(256, 5, 1)"
   ],
   "metadata": {
    "collapsed": false
   }
  },
  {
   "cell_type": "code",
   "execution_count": 14,
   "outputs": [
    {
     "data": {
      "text/plain": "126.0"
     },
     "execution_count": 14,
     "metadata": {},
     "output_type": "execute_result"
    }
   ],
   "source": [
    "conv_output(252, 2, 2)"
   ],
   "metadata": {
    "collapsed": false
   }
  },
  {
   "cell_type": "code",
   "execution_count": 15,
   "outputs": [
    {
     "data": {
      "text/plain": "122.0"
     },
     "execution_count": 15,
     "metadata": {},
     "output_type": "execute_result"
    }
   ],
   "source": [
    "conv_output(126,5,1)"
   ],
   "metadata": {
    "collapsed": false
   }
  },
  {
   "cell_type": "code",
   "execution_count": 16,
   "outputs": [
    {
     "data": {
      "text/plain": "61.0"
     },
     "execution_count": 16,
     "metadata": {},
     "output_type": "execute_result"
    }
   ],
   "source": [
    "conv_output(122,2,2)"
   ],
   "metadata": {
    "collapsed": false
   }
  },
  {
   "cell_type": "code",
   "execution_count": null,
   "outputs": [],
   "source": [],
   "metadata": {
    "collapsed": false
   }
  }
 ],
 "metadata": {
  "kernelspec": {
   "display_name": "Python 3",
   "language": "python",
   "name": "python3"
  },
  "language_info": {
   "codemirror_mode": {
    "name": "ipython",
    "version": 2
   },
   "file_extension": ".py",
   "mimetype": "text/x-python",
   "name": "python",
   "nbconvert_exporter": "python",
   "pygments_lexer": "ipython2",
   "version": "2.7.6"
  }
 },
 "nbformat": 4,
 "nbformat_minor": 0
}
