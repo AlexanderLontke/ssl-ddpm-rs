{
 "cells": [
  {
   "cell_type": "code",
   "execution_count": 1,
   "metadata": {
    "collapsed": false,
    "jupyter": {
     "outputs_hidden": false
    }
   },
   "outputs": [
    {
     "name": "stderr",
     "output_type": "stream",
     "text": [
      "Loading Classes:: 100%|██████████| 21/21 [00:02<00:00,  8.33it/s]\n"
     ]
    }
   ],
   "source": [
    "from remote_sensing_ddpm.datasets.uc_merced_land_use.uc_merced_dataset import UCMerced\n",
    "\n",
    "uc_merced_data_root = \"/Users/alexanderlontke/Documents/Uni/St. Gallen/SS_23/master_thesis/data/UCMerced_LandUse/Images\"\n",
    "\n",
    "dataset = UCMerced(\n",
    "    data_root=uc_merced_data_root,\n",
    "    phase=\"train\",\n",
    "    split_ratios={\"train\": 1.0}\n",
    ")"
   ]
  },
  {
   "cell_type": "code",
   "execution_count": 2,
   "metadata": {
    "collapsed": false,
    "jupyter": {
     "outputs_hidden": false
    }
   },
   "outputs": [
    {
     "name": "stdout",
     "output_type": "stream",
     "text": [
      "0\n"
     ]
    }
   ],
   "source": [
    "count = 0\n",
    "for i, entry in enumerate(dataset):\n",
    "    if not entry[\"image\"].shape == (3, 256, 256):\n",
    "        print(entry[\"image\"].shape)\n",
    "        count +=1\n",
    "print(count)"
   ]
  },
  {
   "cell_type": "code",
   "execution_count": 9,
   "metadata": {
    "collapsed": false,
    "jupyter": {
     "outputs_hidden": false
    }
   },
   "outputs": [
    {
     "name": "stdout",
     "output_type": "stream",
     "text": [
      "{'image': tensor([[[-0.7569, -0.6000, -0.5843,  ..., -0.1373, -0.2000, -0.5765],\n",
      "         [-0.3882, -0.2471, -0.3647,  ..., -0.3647, -0.4196, -0.5922],\n",
      "         [-0.3333, -0.2784, -0.4588,  ..., -0.7725, -0.7647, -0.7098],\n",
      "         ...,\n",
      "         [-0.0588, -0.2314, -0.4118,  ..., -0.0980, -0.6157, -0.4667],\n",
      "         [ 0.0745, -0.2627, -0.6235,  ..., -0.0745, -0.4824, -0.2784],\n",
      "         [ 0.1686, -0.1922, -0.6627,  ...,  0.0118, -0.1373, -0.2784]],\n",
      "\n",
      "        [[-0.6392, -0.4902, -0.4588,  ...,  0.0824, -0.0039, -0.4275],\n",
      "         [-0.2549, -0.0824, -0.2000,  ..., -0.1373, -0.2078, -0.4196],\n",
      "         [-0.1843, -0.0824, -0.2706,  ..., -0.6314, -0.6314, -0.5686],\n",
      "         ...,\n",
      "         [-0.0431, -0.1843, -0.2941,  ...,  0.0353, -0.5294, -0.3647],\n",
      "         [ 0.0510, -0.2627, -0.5686,  ...,  0.0510, -0.3647, -0.1451],\n",
      "         [ 0.1216, -0.2157, -0.6471,  ...,  0.1686,  0.0118, -0.1216]],\n",
      "\n",
      "        [[-0.6392, -0.5216, -0.4902,  ..., -0.0667, -0.1294, -0.5059],\n",
      "         [-0.2706, -0.1529, -0.2706,  ..., -0.2627, -0.3255, -0.5059],\n",
      "         [-0.2235, -0.1608, -0.3490,  ..., -0.6784, -0.6784, -0.6235],\n",
      "         ...,\n",
      "         [-0.1294, -0.2549, -0.3647,  ..., -0.1294, -0.5843, -0.4431],\n",
      "         [-0.0196, -0.3098, -0.5686,  ..., -0.1216, -0.4745, -0.2706],\n",
      "         [ 0.0667, -0.2471, -0.6235,  ..., -0.0118, -0.1373, -0.2627]]]), 'label': 7}\n"
     ]
    }
   ],
   "source": [
    "print(entry)"
   ]
  },
  {
   "cell_type": "code",
   "execution_count": 1,
   "metadata": {
    "collapsed": false,
    "jupyter": {
     "outputs_hidden": false
    }
   },
   "outputs": [],
   "source": [
    "def conv_output(h, kernel, stride):\n",
    "    return (h-kernel)/stride +1"
   ]
  },
  {
   "cell_type": "code",
   "execution_count": 2,
   "metadata": {
    "collapsed": false,
    "jupyter": {
     "outputs_hidden": false
    }
   },
   "outputs": [
    {
     "data": {
      "text/plain": [
       "252.0"
      ]
     },
     "execution_count": 2,
     "metadata": {},
     "output_type": "execute_result"
    }
   ],
   "source": [
    "conv_output(256, 5, 1)"
   ]
  },
  {
   "cell_type": "code",
   "execution_count": 14,
   "metadata": {
    "collapsed": false,
    "jupyter": {
     "outputs_hidden": false
    }
   },
   "outputs": [
    {
     "data": {
      "text/plain": [
       "125.0"
      ]
     },
     "execution_count": 14,
     "metadata": {},
     "output_type": "execute_result"
    }
   ],
   "source": [
    "conv_output(252, 4, 2)"
   ]
  },
  {
   "cell_type": "code",
   "execution_count": 15,
   "metadata": {
    "collapsed": false,
    "jupyter": {
     "outputs_hidden": false
    }
   },
   "outputs": [
    {
     "data": {
      "text/plain": [
       "122.0"
      ]
     },
     "execution_count": 15,
     "metadata": {},
     "output_type": "execute_result"
    }
   ],
   "source": [
    "conv_output(125,4,1)"
   ]
  },
  {
   "cell_type": "code",
   "execution_count": 16,
   "metadata": {
    "collapsed": false,
    "jupyter": {
     "outputs_hidden": false
    }
   },
   "outputs": [
    {
     "data": {
      "text/plain": [
       "60.0"
      ]
     },
     "execution_count": 16,
     "metadata": {},
     "output_type": "execute_result"
    }
   ],
   "source": [
    "conv_output(122,4,2)"
   ]
  },
  {
   "cell_type": "code",
   "execution_count": 17,
   "metadata": {
    "collapsed": false,
    "jupyter": {
     "outputs_hidden": false
    }
   },
   "outputs": [
    {
     "data": {
      "text/plain": [
       "56.0"
      ]
     },
     "execution_count": 17,
     "metadata": {},
     "output_type": "execute_result"
    }
   ],
   "source": [
    "conv_output(60,5,1)"
   ]
  },
  {
   "cell_type": "code",
   "execution_count": 19,
   "metadata": {
    "collapsed": false,
    "jupyter": {
     "outputs_hidden": false
    }
   },
   "outputs": [
    {
     "data": {
      "text/plain": [
       "27.0"
      ]
     },
     "execution_count": 19,
     "metadata": {},
     "output_type": "execute_result"
    }
   ],
   "source": [
    "conv_output(56,4,2)"
   ]
  },
  {
   "cell_type": "code",
   "execution_count": 8,
   "metadata": {
    "collapsed": false,
    "jupyter": {
     "outputs_hidden": false
    }
   },
   "outputs": [],
   "source": [
    "from remote_sensing_ddpm.downstream_tasks.models.non_linear_head import NonLinearHead\n",
    "\n",
    "model = NonLinearHead(input_size=65536, output_size=8)"
   ]
  },
  {
   "cell_type": "code",
   "execution_count": 9,
   "metadata": {},
   "outputs": [
    {
     "data": {
      "text/plain": [
       "269490440"
      ]
     },
     "execution_count": 9,
     "metadata": {},
     "output_type": "execute_result"
    }
   ],
   "source": [
    "sum(p.numel() for p in model.parameters())"
   ]
  },
  {
   "cell_type": "code",
   "execution_count": 10,
   "metadata": {},
   "outputs": [
    {
     "data": {
      "text/plain": [
       "269490440"
      ]
     },
     "execution_count": 10,
     "metadata": {},
     "output_type": "execute_result"
    }
   ],
   "source": [
    "sum(p.numel() for p in model.parameters() if p.requires_grad)"
   ]
  },
  {
   "cell_type": "code",
   "execution_count": 11,
   "metadata": {},
   "outputs": [
    {
     "data": {
      "text/plain": [
       "269.49044"
      ]
     },
     "execution_count": 11,
     "metadata": {},
     "output_type": "execute_result"
    }
   ],
   "source": [
    "269490440 / 1e6"
   ]
  },
  {
   "cell_type": "code",
   "execution_count": 12,
   "metadata": {},
   "outputs": [
    {
     "data": {
      "text/plain": [
       "NonLinearHead(\n",
       "  (downstream_layer): Sequential(\n",
       "    (0): Linear(in_features=65536, out_features=4096, bias=True)\n",
       "    (1): ReLU()\n",
       "    (2): Linear(in_features=4096, out_features=256, bias=True)\n",
       "    (3): ReLU()\n",
       "    (4): Linear(in_features=256, out_features=8, bias=True)\n",
       "    (5): Sigmoid()\n",
       "  )\n",
       ")"
      ]
     },
     "execution_count": 12,
     "metadata": {},
     "output_type": "execute_result"
    }
   ],
   "source": [
    "model"
   ]
  },
  {
   "cell_type": "code",
   "execution_count": 13,
   "metadata": {},
   "outputs": [
    {
     "data": {
      "text/plain": [
       "268439552"
      ]
     },
     "execution_count": 13,
     "metadata": {},
     "output_type": "execute_result"
    }
   ],
   "source": [
    "sum(p.numel() for p in model.downstream_layer[0].parameters())"
   ]
  },
  {
   "cell_type": "code",
   "execution_count": 14,
   "metadata": {},
   "outputs": [
    {
     "data": {
      "text/plain": [
       "1048832"
      ]
     },
     "execution_count": 14,
     "metadata": {},
     "output_type": "execute_result"
    }
   ],
   "source": [
    "sum(p.numel() for p in model.downstream_layer[2].parameters())"
   ]
  },
  {
   "cell_type": "code",
   "execution_count": 15,
   "metadata": {},
   "outputs": [
    {
     "data": {
      "text/plain": [
       "2056"
      ]
     },
     "execution_count": 15,
     "metadata": {},
     "output_type": "execute_result"
    }
   ],
   "source": [
    "sum(p.numel() for p in model.downstream_layer[4].parameters())"
   ]
  },
  {
   "cell_type": "code",
   "execution_count": 30,
   "metadata": {},
   "outputs": [],
   "source": [
    "SCHEIBENREIF_ET_AL_SEGMENTATION = {\n",
    "    (\"Forest\", \"mean\"): [62],\n",
    "    (\"Forest\", \"std\"): [2],\n",
    "    (\"Shrubland\", \"mean\"): [48],\n",
    "    (\"Shrubland\", \"std\"): [1],\n",
    "    (\"Grassland\", \"mean\"): [6],\n",
    "    (\"Grassland\", \"std\"): [0],\n",
    "    (\"Wetland\", \"mean\"): [16],\n",
    "    (\"Wetland\", \"std\"): [1],\n",
    "    (\"Cropland\", \"mean\"): [52],\n",
    "    (\"Cropland\", \"std\"): [2],\n",
    "    (\"Urban\", \"mean\"): [82],\n",
    "    (\"Urban\", \"std\"): [0],\n",
    "    (\"Barren\", \"mean\"): [36],\n",
    "    (\"Barren\", \"std\"): [1],\n",
    "    (\"Water\", \"mean\"): [99],\n",
    "    (\"Water\", \"std\"): [0],\n",
    "}"
   ]
  },
  {
   "cell_type": "code",
   "execution_count": 31,
   "metadata": {},
   "outputs": [],
   "source": [
    "ml_baselines = [\n",
    "    \"val/jaccardindexadapter_Urban_Built-up\",\n",
    "    \"val/jaccardindexadapter_Barren\",\n",
    "    \"val/jaccardindexadapter_Wetlands\",\n",
    "    \"val/jaccardindexadapter_Shrubland\",\n",
    "    \"val/jaccardindexadapter_Croplands\",\n",
    "    \"val/jaccardindexadapter_Forest\",\n",
    "    \"val/jaccardindexadapter_Grassland\",\n",
    "    \"val/jaccardindexadapter_Water\",\n",
    "]"
   ]
  },
  {
   "cell_type": "code",
   "execution_count": 32,
   "metadata": {},
   "outputs": [],
   "source": [
    "baseline_name = \"Scheibenreif et al.\"\n",
    "target = {\n",
    "    (baseline_name, \"mean\"): {},\n",
    "    (baseline_name, \"std\"): {},\n",
    "}\n",
    "for (class_name, agg), v in SCHEIBENREIF_ET_AL_SEGMENTATION.items():\n",
    "    metric_name = [x for x in ml_baselines if class_name in x][0]\n",
    "    target[(baseline_name, agg)][metric_name] = v[0]"
   ]
  },
  {
   "cell_type": "code",
   "execution_count": 33,
   "metadata": {},
   "outputs": [
    {
     "data": {
      "text/plain": [
       "{('Scheibenreif et al.', 'mean'): {'val/jaccardindexadapter_Forest': 62,\n",
       "  'val/jaccardindexadapter_Shrubland': 48,\n",
       "  'val/jaccardindexadapter_Grassland': 6,\n",
       "  'val/jaccardindexadapter_Wetlands': 16,\n",
       "  'val/jaccardindexadapter_Croplands': 52,\n",
       "  'val/jaccardindexadapter_Urban_Built-up': 82,\n",
       "  'val/jaccardindexadapter_Barren': 36,\n",
       "  'val/jaccardindexadapter_Water': 99},\n",
       " ('Scheibenreif et al.', 'std'): {'val/jaccardindexadapter_Forest': 2,\n",
       "  'val/jaccardindexadapter_Shrubland': 1,\n",
       "  'val/jaccardindexadapter_Grassland': 0,\n",
       "  'val/jaccardindexadapter_Wetlands': 1,\n",
       "  'val/jaccardindexadapter_Croplands': 2,\n",
       "  'val/jaccardindexadapter_Urban_Built-up': 0,\n",
       "  'val/jaccardindexadapter_Barren': 1,\n",
       "  'val/jaccardindexadapter_Water': 0}}"
      ]
     },
     "execution_count": 33,
     "metadata": {},
     "output_type": "execute_result"
    }
   ],
   "source": [
    "target"
   ]
  },
  {
   "cell_type": "code",
   "execution_count": 29,
   "metadata": {},
   "outputs": [
    {
     "data": {
      "text/html": [
       "<div>\n",
       "<style scoped>\n",
       "    .dataframe tbody tr th:only-of-type {\n",
       "        vertical-align: middle;\n",
       "    }\n",
       "\n",
       "    .dataframe tbody tr th {\n",
       "        vertical-align: top;\n",
       "    }\n",
       "\n",
       "    .dataframe thead tr th {\n",
       "        text-align: left;\n",
       "    }\n",
       "</style>\n",
       "<table border=\"1\" class=\"dataframe\">\n",
       "  <thead>\n",
       "    <tr>\n",
       "      <th></th>\n",
       "      <th colspan=\"2\" halign=\"left\">Scheibenreif et al.</th>\n",
       "    </tr>\n",
       "    <tr>\n",
       "      <th></th>\n",
       "      <th>mean</th>\n",
       "      <th>std</th>\n",
       "    </tr>\n",
       "  </thead>\n",
       "  <tbody>\n",
       "    <tr>\n",
       "      <th>val/multilabelf1score_Forest</th>\n",
       "      <td>79</td>\n",
       "      <td>2</td>\n",
       "    </tr>\n",
       "    <tr>\n",
       "      <th>val/multilabelf1score_Shrubland</th>\n",
       "      <td>40</td>\n",
       "      <td>3</td>\n",
       "    </tr>\n",
       "    <tr>\n",
       "      <th>val/multilabelf1score_Grassland</th>\n",
       "      <td>47</td>\n",
       "      <td>6</td>\n",
       "    </tr>\n",
       "    <tr>\n",
       "      <th>val/multilabelf1score_Wetlands</th>\n",
       "      <td>24</td>\n",
       "      <td>2</td>\n",
       "    </tr>\n",
       "    <tr>\n",
       "      <th>val/multilabelf1score_Croplands</th>\n",
       "      <td>70</td>\n",
       "      <td>3</td>\n",
       "    </tr>\n",
       "    <tr>\n",
       "      <th>val/multilabelf1score_Urban_Built-up</th>\n",
       "      <td>80</td>\n",
       "      <td>2</td>\n",
       "    </tr>\n",
       "    <tr>\n",
       "      <th>val/multilabelf1score_Barren</th>\n",
       "      <td>34</td>\n",
       "      <td>3</td>\n",
       "    </tr>\n",
       "    <tr>\n",
       "      <th>val/multilabelf1score_Water</th>\n",
       "      <td>97</td>\n",
       "      <td>0</td>\n",
       "    </tr>\n",
       "  </tbody>\n",
       "</table>\n",
       "</div>"
      ],
      "text/plain": [
       "                                     Scheibenreif et al.    \n",
       "                                                    mean std\n",
       "val/multilabelf1score_Forest                          79   2\n",
       "val/multilabelf1score_Shrubland                       40   3\n",
       "val/multilabelf1score_Grassland                       47   6\n",
       "val/multilabelf1score_Wetlands                        24   2\n",
       "val/multilabelf1score_Croplands                       70   3\n",
       "val/multilabelf1score_Urban_Built-up                  80   2\n",
       "val/multilabelf1score_Barren                          34   3\n",
       "val/multilabelf1score_Water                           97   0"
      ]
     },
     "execution_count": 29,
     "metadata": {},
     "output_type": "execute_result"
    }
   ],
   "source": [
    "pd.DataFrame(target)"
   ]
  },
  {
   "cell_type": "code",
   "execution_count": null,
   "metadata": {},
   "outputs": [],
   "source": []
  }
 ],
 "metadata": {
  "kernelspec": {
   "display_name": "Python 3 (ipykernel)",
   "language": "python",
   "name": "python3"
  },
  "language_info": {
   "codemirror_mode": {
    "name": "ipython",
    "version": 3
   },
   "file_extension": ".py",
   "mimetype": "text/x-python",
   "name": "python",
   "nbconvert_exporter": "python",
   "pygments_lexer": "ipython3",
   "version": "3.10.6"
  }
 },
 "nbformat": 4,
 "nbformat_minor": 4
}
