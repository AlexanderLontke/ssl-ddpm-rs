{
 "cells": [
  {
   "cell_type": "code",
   "execution_count": 43,
   "id": "38513a3e-f29c-4f36-bf8e-9b355e10eed4",
   "metadata": {
    "tags": []
   },
   "outputs": [],
   "source": [
    "import wandb\n",
    "\n",
    "from tqdm import tqdm\n",
    "from lit_diffusion.diffusion_base.constants import LOGGING_TRAIN_PREFIX, LOGGING_VAL_PREFIX"
   ]
  },
  {
   "cell_type": "code",
   "execution_count": 16,
   "id": "545f65c4-eb2d-4399-a06e-721ea6479f31",
   "metadata": {
    "tags": []
   },
   "outputs": [],
   "source": [
    "api = wandb.Api(timeout=15)"
   ]
  },
  {
   "cell_type": "code",
   "execution_count": 17,
   "id": "11a51466-1cff-407d-b814-d8fbd71209da",
   "metadata": {
    "tags": []
   },
   "outputs": [],
   "source": [
    "runs = api.runs(\"ssl-diffusion/rs-ddpm-ms-classification\")"
   ]
  },
  {
   "cell_type": "markdown",
   "id": "6f80e0c7-ae83-4ebb-8abb-b4e7c8dcae01",
   "metadata": {},
   "source": [
    "## Declare Constants ##"
   ]
  },
  {
   "cell_type": "code",
   "execution_count": 62,
   "id": "73de576e-17c7-4d90-b457-ef3dd90438d3",
   "metadata": {
    "tags": []
   },
   "outputs": [],
   "source": [
    "MINIMUM_AGGREGATION = \"min\"\n",
    "MAXIMUM_AGGREGATION = \"max\"\n",
    "\n",
    "CLASSIFICATION_METRICS = [ \"accuracy\",\"precision\", \"recall\", \"f1\" ]"
   ]
  },
  {
   "cell_type": "markdown",
   "id": "966e8953-d49a-4132-a1af-e895bbc39359",
   "metadata": {
    "tags": []
   },
   "source": [
    "## Get Runs ##"
   ]
  },
  {
   "cell_type": "code",
   "execution_count": null,
   "id": "85d0a752-08b8-48cd-9ca0-5532ca4fc43a",
   "metadata": {
    "tags": []
   },
   "outputs": [
    {
     "name": "stderr",
     "output_type": "stream",
     "text": [
      "Loading history: 82520it [02:13, 616.81it/s]\n",
      "Loading history: 82520it [01:56, 710.82it/s]\n",
      "Loading history: 82520it [01:57, 700.93it/s]\n",
      "Loading history: 82520it [01:46, 772.31it/s]\n",
      "Loading history: 12001it [00:15, 896.95it/s]"
     ]
    }
   ],
   "source": [
    "ewc_classification_ids=[\"o1tldx99\", \"5th69f6u\", \"4pavkimp\", \"8sgvkhxz\", \"mlmr0rw1\", \"jh8d6lwr\", \"rjl8mbla\"]\n",
    "run_results = {}\n",
    "for run in [r for r in runs if r.id in ewc_classification_ids]:\n",
    "    single_run_complete_history = []\n",
    "    # Get all data\n",
    "    for x in tqdm(run.scan_history(), desc=\"Loading history\"):\n",
    "        single_run_complete_history.append(x)\n",
    "    run_results[run.id] = {\n",
    "        \"id\": run.id, \n",
    "        \"name\": run.name,\n",
    "        \"history\": single_run_complete_history,\n",
    "    }"
   ]
  },
  {
   "cell_type": "markdown",
   "id": "805c8213-0e1c-45e2-82a0-10b87744399c",
   "metadata": {},
   "source": [
    "### Modality Comparison ###"
   ]
  },
  {
   "cell_type": "code",
   "execution_count": 44,
   "id": "f51f0919-84dc-4e3e-b6fc-b4bc3569c903",
   "metadata": {
    "tags": []
   },
   "outputs": [],
   "source": [
    "import pandas as pd\n",
    "import seaborn as sns"
   ]
  },
  {
   "cell_type": "code",
   "execution_count": 45,
   "id": "a91c0a8a-7aab-4049-a0e1-0981b1f58d67",
   "metadata": {
    "tags": []
   },
   "outputs": [],
   "source": [
    "from enum import Enum\n",
    "\n",
    "class Resolution(Enum):\n",
    "    EPOCH = \"_epoch\"\n",
    "    STEP = \"_step\""
   ]
  },
  {
   "cell_type": "code",
   "execution_count": 86,
   "id": "347b4d4b-5b97-44e5-a213-1b152f9ea4f1",
   "metadata": {
    "tags": []
   },
   "outputs": [],
   "source": [
    "from typing import Dict, Union, Tuple, List, Callable\n",
    "\n",
    "def convert_run_histories_to_df(metrics: List[str], aggregations: List[Union[str, Callable]], split_prefixes: str, resolution: Resolution, runs: Dict[str, Union[str, Dict[str, float]]]) -> Tuple[pd.DataFrame, pd.DataFrame]:\n",
    "    # Configure relevant metrics which are relevant\n",
    "    keys_of_interest = [\n",
    "        f\"{prefix}{k}{resolution.value}\" \n",
    "        for k in metrics.keys()\n",
    "        for prefix in split_prefixes\n",
    "    ]\n",
    "    print(keys_of_interest)\n",
    "    # Initialize dictionary to create pd.DataFrame from\n",
    "    data = {\n",
    "        k: []\n",
    "        for k in [\"id\"] + [\"name\"] + [\"epoch\"] + keys_of_interest \n",
    "    }\n",
    "    # Iterate over run_histories to format metrics\n",
    "    for _, run in run_results.items():\n",
    "        run_history = run[\"history\"]\n",
    "        n = 0\n",
    "        for k in keys_of_interest:\n",
    "            append_values = [metrics_dict[k] for metrics_dict in run_history if metrics_dict[k]]\n",
    "            n = len(append_values)\n",
    "            data[k] += append_values\n",
    "        data[\"epoch\"] += [i for i in range(n)]\n",
    "        data[\"name\"] += [run[\"name\"] for _ in range(n)]\n",
    "        data[\"id\"] += [run[\"id\"] for _ in range(n)]\n",
    "                                                                                                                                   \n",
    "    visualization_df = pd.DataFrame(data)                                                                                                                                      \n",
    "    return visualization_df, visualization_df.groupby(\"id\").agg({k: aggregations for k in keys_of_interest})"
   ]
  },
  {
   "cell_type": "code",
   "execution_count": 88,
   "id": "f1b762ad-2383-4bc7-b84c-c79a502bf8bd",
   "metadata": {
    "tags": []
   },
   "outputs": [
    {
     "name": "stdout",
     "output_type": "stream",
     "text": [
      "['train/accuracy_step', 'train/precision_step', 'train/recall_step', 'train/f1_step']\n"
     ]
    }
   ],
   "source": [
    "df, agg_df = convert_run_histories_to_df(\n",
    "    metrics=CLASSIFICATION_METRIC_AGGREGATIONS,\n",
    "    split_prefixes=[LOGGING_TRAIN_PREFIX],\n",
    "    resolution=Resolution.STEP,\n",
    "    aggregations=[\"min\", \"max\"],\n",
    "    runs={\"5th69f6u\": run_results[\"5th69f6u\"]},\n",
    ")"
   ]
  },
  {
   "cell_type": "code",
   "execution_count": 89,
   "id": "8defcdbb-28f4-4533-9787-fa4baf5d7e11",
   "metadata": {
    "tags": []
   },
   "outputs": [
    {
     "data": {
      "text/html": [
       "<div>\n",
       "<style scoped>\n",
       "    .dataframe tbody tr th:only-of-type {\n",
       "        vertical-align: middle;\n",
       "    }\n",
       "\n",
       "    .dataframe tbody tr th {\n",
       "        vertical-align: top;\n",
       "    }\n",
       "\n",
       "    .dataframe thead th {\n",
       "        text-align: right;\n",
       "    }\n",
       "</style>\n",
       "<table border=\"1\" class=\"dataframe\">\n",
       "  <thead>\n",
       "    <tr style=\"text-align: right;\">\n",
       "      <th></th>\n",
       "      <th>id</th>\n",
       "      <th>name</th>\n",
       "      <th>epoch</th>\n",
       "      <th>train/accuracy_step</th>\n",
       "      <th>train/precision_step</th>\n",
       "      <th>train/recall_step</th>\n",
       "      <th>train/f1_step</th>\n",
       "    </tr>\n",
       "  </thead>\n",
       "  <tbody>\n",
       "    <tr>\n",
       "      <th>0</th>\n",
       "      <td>5th69f6u</td>\n",
       "      <td>s2_era5-ewc-classification</td>\n",
       "      <td>0</td>\n",
       "      <td>0.041667</td>\n",
       "      <td>0.041667</td>\n",
       "      <td>0.041667</td>\n",
       "      <td>0.041667</td>\n",
       "    </tr>\n",
       "    <tr>\n",
       "      <th>1</th>\n",
       "      <td>5th69f6u</td>\n",
       "      <td>s2_era5-ewc-classification</td>\n",
       "      <td>1</td>\n",
       "      <td>0.060606</td>\n",
       "      <td>0.060606</td>\n",
       "      <td>0.060606</td>\n",
       "      <td>0.060606</td>\n",
       "    </tr>\n",
       "    <tr>\n",
       "      <th>2</th>\n",
       "      <td>5th69f6u</td>\n",
       "      <td>s2_era5-ewc-classification</td>\n",
       "      <td>2</td>\n",
       "      <td>0.064394</td>\n",
       "      <td>0.064394</td>\n",
       "      <td>0.064394</td>\n",
       "      <td>0.064394</td>\n",
       "    </tr>\n",
       "    <tr>\n",
       "      <th>3</th>\n",
       "      <td>5th69f6u</td>\n",
       "      <td>s2_era5-ewc-classification</td>\n",
       "      <td>3</td>\n",
       "      <td>0.053030</td>\n",
       "      <td>0.053030</td>\n",
       "      <td>0.053030</td>\n",
       "      <td>0.053030</td>\n",
       "    </tr>\n",
       "    <tr>\n",
       "      <th>4</th>\n",
       "      <td>5th69f6u</td>\n",
       "      <td>s2_era5-ewc-classification</td>\n",
       "      <td>4</td>\n",
       "      <td>0.056818</td>\n",
       "      <td>0.056818</td>\n",
       "      <td>0.056818</td>\n",
       "      <td>0.056818</td>\n",
       "    </tr>\n",
       "    <tr>\n",
       "      <th>...</th>\n",
       "      <td>...</td>\n",
       "      <td>...</td>\n",
       "      <td>...</td>\n",
       "      <td>...</td>\n",
       "      <td>...</td>\n",
       "      <td>...</td>\n",
       "      <td>...</td>\n",
       "    </tr>\n",
       "    <tr>\n",
       "      <th>77632</th>\n",
       "      <td>4pavkimp</td>\n",
       "      <td>s2_s1-ewc-classification</td>\n",
       "      <td>38814</td>\n",
       "      <td>0.973485</td>\n",
       "      <td>0.973485</td>\n",
       "      <td>0.973485</td>\n",
       "      <td>0.973485</td>\n",
       "    </tr>\n",
       "    <tr>\n",
       "      <th>77633</th>\n",
       "      <td>4pavkimp</td>\n",
       "      <td>s2_s1-ewc-classification</td>\n",
       "      <td>38815</td>\n",
       "      <td>0.962121</td>\n",
       "      <td>0.962121</td>\n",
       "      <td>0.962121</td>\n",
       "      <td>0.962121</td>\n",
       "    </tr>\n",
       "    <tr>\n",
       "      <th>77634</th>\n",
       "      <td>4pavkimp</td>\n",
       "      <td>s2_s1-ewc-classification</td>\n",
       "      <td>38816</td>\n",
       "      <td>0.958333</td>\n",
       "      <td>0.958333</td>\n",
       "      <td>0.958333</td>\n",
       "      <td>0.958333</td>\n",
       "    </tr>\n",
       "    <tr>\n",
       "      <th>77635</th>\n",
       "      <td>4pavkimp</td>\n",
       "      <td>s2_s1-ewc-classification</td>\n",
       "      <td>38817</td>\n",
       "      <td>0.984848</td>\n",
       "      <td>0.984848</td>\n",
       "      <td>0.984848</td>\n",
       "      <td>0.984848</td>\n",
       "    </tr>\n",
       "    <tr>\n",
       "      <th>77636</th>\n",
       "      <td>4pavkimp</td>\n",
       "      <td>s2_s1-ewc-classification</td>\n",
       "      <td>38818</td>\n",
       "      <td>0.962121</td>\n",
       "      <td>0.962121</td>\n",
       "      <td>0.962121</td>\n",
       "      <td>0.962121</td>\n",
       "    </tr>\n",
       "  </tbody>\n",
       "</table>\n",
       "<p>77637 rows × 7 columns</p>\n",
       "</div>"
      ],
      "text/plain": [
       "             id                        name  epoch  train/accuracy_step  \\\n",
       "0      5th69f6u  s2_era5-ewc-classification      0             0.041667   \n",
       "1      5th69f6u  s2_era5-ewc-classification      1             0.060606   \n",
       "2      5th69f6u  s2_era5-ewc-classification      2             0.064394   \n",
       "3      5th69f6u  s2_era5-ewc-classification      3             0.053030   \n",
       "4      5th69f6u  s2_era5-ewc-classification      4             0.056818   \n",
       "...         ...                         ...    ...                  ...   \n",
       "77632  4pavkimp    s2_s1-ewc-classification  38814             0.973485   \n",
       "77633  4pavkimp    s2_s1-ewc-classification  38815             0.962121   \n",
       "77634  4pavkimp    s2_s1-ewc-classification  38816             0.958333   \n",
       "77635  4pavkimp    s2_s1-ewc-classification  38817             0.984848   \n",
       "77636  4pavkimp    s2_s1-ewc-classification  38818             0.962121   \n",
       "\n",
       "       train/precision_step  train/recall_step  train/f1_step  \n",
       "0                  0.041667           0.041667       0.041667  \n",
       "1                  0.060606           0.060606       0.060606  \n",
       "2                  0.064394           0.064394       0.064394  \n",
       "3                  0.053030           0.053030       0.053030  \n",
       "4                  0.056818           0.056818       0.056818  \n",
       "...                     ...                ...            ...  \n",
       "77632              0.973485           0.973485       0.973485  \n",
       "77633              0.962121           0.962121       0.962121  \n",
       "77634              0.958333           0.958333       0.958333  \n",
       "77635              0.984848           0.984848       0.984848  \n",
       "77636              0.962121           0.962121       0.962121  \n",
       "\n",
       "[77637 rows x 7 columns]"
      ]
     },
     "execution_count": 89,
     "metadata": {},
     "output_type": "execute_result"
    }
   ],
   "source": [
    "df"
   ]
  },
  {
   "cell_type": "code",
   "execution_count": 90,
   "id": "4ac02a0d-fb01-4d9f-8a63-bf44b0ea3ee6",
   "metadata": {
    "tags": []
   },
   "outputs": [
    {
     "data": {
      "text/html": [
       "<div>\n",
       "<style scoped>\n",
       "    .dataframe tbody tr th:only-of-type {\n",
       "        vertical-align: middle;\n",
       "    }\n",
       "\n",
       "    .dataframe tbody tr th {\n",
       "        vertical-align: top;\n",
       "    }\n",
       "\n",
       "    .dataframe thead tr th {\n",
       "        text-align: left;\n",
       "    }\n",
       "\n",
       "    .dataframe thead tr:last-of-type th {\n",
       "        text-align: right;\n",
       "    }\n",
       "</style>\n",
       "<table border=\"1\" class=\"dataframe\">\n",
       "  <thead>\n",
       "    <tr>\n",
       "      <th></th>\n",
       "      <th colspan=\"2\" halign=\"left\">train/accuracy_step</th>\n",
       "      <th colspan=\"2\" halign=\"left\">train/precision_step</th>\n",
       "      <th colspan=\"2\" halign=\"left\">train/recall_step</th>\n",
       "      <th colspan=\"2\" halign=\"left\">train/f1_step</th>\n",
       "    </tr>\n",
       "    <tr>\n",
       "      <th></th>\n",
       "      <th>min</th>\n",
       "      <th>max</th>\n",
       "      <th>min</th>\n",
       "      <th>max</th>\n",
       "      <th>min</th>\n",
       "      <th>max</th>\n",
       "      <th>min</th>\n",
       "      <th>max</th>\n",
       "    </tr>\n",
       "    <tr>\n",
       "      <th>id</th>\n",
       "      <th></th>\n",
       "      <th></th>\n",
       "      <th></th>\n",
       "      <th></th>\n",
       "      <th></th>\n",
       "      <th></th>\n",
       "      <th></th>\n",
       "      <th></th>\n",
       "    </tr>\n",
       "  </thead>\n",
       "  <tbody>\n",
       "    <tr>\n",
       "      <th>4pavkimp</th>\n",
       "      <td>0.026515</td>\n",
       "      <td>0.996212</td>\n",
       "      <td>0.026515</td>\n",
       "      <td>0.996212</td>\n",
       "      <td>0.026515</td>\n",
       "      <td>0.996212</td>\n",
       "      <td>0.026515</td>\n",
       "      <td>0.996212</td>\n",
       "    </tr>\n",
       "    <tr>\n",
       "      <th>5th69f6u</th>\n",
       "      <td>0.041667</td>\n",
       "      <td>0.996212</td>\n",
       "      <td>0.041667</td>\n",
       "      <td>0.996212</td>\n",
       "      <td>0.041667</td>\n",
       "      <td>0.996212</td>\n",
       "      <td>0.041667</td>\n",
       "      <td>0.996212</td>\n",
       "    </tr>\n",
       "  </tbody>\n",
       "</table>\n",
       "</div>"
      ],
      "text/plain": [
       "         train/accuracy_step           train/precision_step            \\\n",
       "                         min       max                  min       max   \n",
       "id                                                                      \n",
       "4pavkimp            0.026515  0.996212             0.026515  0.996212   \n",
       "5th69f6u            0.041667  0.996212             0.041667  0.996212   \n",
       "\n",
       "         train/recall_step           train/f1_step            \n",
       "                       min       max           min       max  \n",
       "id                                                            \n",
       "4pavkimp          0.026515  0.996212      0.026515  0.996212  \n",
       "5th69f6u          0.041667  0.996212      0.041667  0.996212  "
      ]
     },
     "execution_count": 90,
     "metadata": {},
     "output_type": "execute_result"
    }
   ],
   "source": [
    "agg_df"
   ]
  },
  {
   "cell_type": "code",
   "execution_count": 92,
   "id": "eb091aa2-e5af-4e90-898b-13dd1fc84749",
   "metadata": {
    "tags": []
   },
   "outputs": [
    {
     "data": {
      "text/plain": [
       "<Axes: xlabel='epoch', ylabel='train/f1_step'>"
      ]
     },
     "execution_count": 92,
     "metadata": {},
     "output_type": "execute_result"
    },
    {
     "data": {
      "image/png": "[encoded data removed]",
      "text/plain": [
       "<Figure size 640x480 with 1 Axes>"
      ]
     },
     "metadata": {},
     "output_type": "display_data"
    }
   ],
   "source": [
    "sns.lineplot(data=df, x=\"epoch\", y=\"train/f1_step\", hue=\"name\")"
   ]
  },
  {
   "cell_type": "code",
   "execution_count": 25,
   "id": "669321bd-ba58-4158-aa0b-eb342981f934",
   "metadata": {
    "tags": []
   },
   "outputs": [
    {
     "data": {
      "text/plain": [
       "<Axes: xlabel='epoch', ylabel='train/f1_epoch'>"
      ]
     },
     "execution_count": 25,
     "metadata": {},
     "output_type": "execute_result"
    },
    {
     "data": {
      "image/png": "[encoded data removed]",
      "text/plain": [
       "<Figure size 640x480 with 1 Axes>"
      ]
     },
     "metadata": {},
     "output_type": "display_data"
    }
   ],
   "source": [
    "sns.lineplot(data=df, x=\"epoch\", y=\"train/f1_epoch\", hue=\"name\")"
   ]
  },
  {
   "cell_type": "markdown",
   "id": "7c3a6368-6ca8-4357-86fc-b2bc49e5cfd7",
   "metadata": {},
   "source": [
    "### SSL Approach vs. Supervised Baseline ###"
   ]
  },
  {
   "cell_type": "code",
   "execution_count": null,
   "id": "e076a3d5-6ed6-4d35-88b3-1c002064f3cd",
   "metadata": {
    "tags": []
   },
   "outputs": [],
   "source": [
    "len(run_results[\"kkygq9ye\"][\"history\"].iter_rows())"
   ]
  }
 ],
 "metadata": {
  "kernelspec": {
   "display_name": "Python 3 (ipykernel)",
   "language": "python",
   "name": "python3"
  },
  "language_info": {
   "codemirror_mode": {
    "name": "ipython",
    "version": 3
   },
   "file_extension": ".py",
   "mimetype": "text/x-python",
   "name": "python",
   "nbconvert_exporter": "python",
   "pygments_lexer": "ipython3",
   "version": "3.8.10"
  }
 },
 "nbformat": 4,
 "nbformat_minor": 5
}
