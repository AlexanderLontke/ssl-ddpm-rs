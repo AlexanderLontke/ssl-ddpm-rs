{
 "cells": [
  {
   "cell_type": "markdown",
   "metadata": {},
   "source": [
    "# This notebook reports the results of the Esa WorldCover classification downstream task #"
   ]
  },
  {
   "cell_type": "code",
   "execution_count": 1,
   "metadata": {
    "ExecuteTime": {
     "end_time": "2023-06-19T14:35:19.441904Z",
     "start_time": "2023-06-19T14:35:19.431609Z"
    }
   },
   "outputs": [],
   "source": [
    "from pathlib import Path\n",
    "\n",
    "# Remote Sensing DDPM\n",
    "from remote_sensing_ddpm.train_downstream_tasks import create_wandb_run_name\n",
    "\n",
    "# Lit-Diffusion\n",
    "from lit_diffusion.diffusion_base.constants import LOGGING_TRAIN_PREFIX, LOGGING_VAL_PREFIX\n",
    "from lit_diffusion.constants import (\n",
    "    PL_WANDB_LOGGER_CONFIG_KEY,\n",
    ")\n",
    "\n",
    "# FWTP\n",
    "from from_wandb_to_paper.data.wandb_data import get_wandb_run_histories, convert_run_histories_to_df\n",
    "from from_wandb_to_paper.data.constants import Resolution"
   ]
  },
  {
   "cell_type": "markdown",
   "metadata": {},
   "source": [
    "## Get Data ##"
   ]
  },
  {
   "cell_type": "code",
   "execution_count": 2,
   "metadata": {
    "ExecuteTime": {
     "end_time": "2023-06-19T14:35:33.674429Z",
     "start_time": "2023-06-19T14:35:33.664963Z"
    }
   },
   "outputs": [],
   "source": [
    "FEATURE_EXTRACTOR_FILES = Path(\"../../config/model_configs/downstream_tasks/feature_extractors\")\n",
    "EWC_CLASSIFICATION_CONFIG_PATH = Path(\"../../config/model_configs/downstream_tasks/ewc-classification.yaml\")\n",
    "EXPERIMENT_NAMES = [\n",
    "    create_wandb_run_name(backbone_name=backbone_path.name, downstream_head_name=EWC_CLASSIFICATION_CONFIG_PATH.name)\n",
    "    for backbone_path in FEATURE_EXTRACTOR_FILES.glob(\"*.yaml\")\n",
    "]\n",
    "WAND_PROJECT_ID = \"ssl-diffusion/rs-ddpm-ms-classification\"\n",
    "CLASSIFICATION_METRICS = [\"accuracy\", \"precision\", \"recall\", \"f1\"]\n",
    "\n",
    "RUN_FILTER = {f\"display_name\": {\"$in\": EXPERIMENT_NAMES}}"
   ]
  },
  {
   "cell_type": "code",
   "execution_count": 3,
   "metadata": {
    "ExecuteTime": {
     "end_time": "2023-06-19T14:35:34.537622Z",
     "start_time": "2023-06-19T14:35:34.078976Z"
    }
   },
   "outputs": [
    {
     "name": "stderr",
     "output_type": "stream",
     "text": [
      "Loading history: 33388it [00:16, 2018.80it/s]\n",
      "Loading history: 82520it [02:52, 478.71it/s] \n",
      "Loading history: 82520it [03:36, 381.50it/s]\n",
      "Loading history: 82520it [03:01, 454.02it/s]\n",
      "Loading history: 82520it [04:08, 331.95it/s]\n",
      "Loading history: 82520it [03:07, 441.26it/s]\n"
     ]
    },
    {
     "ename": "KeyError",
     "evalue": "'train/accuracy_epoch'",
     "output_type": "error",
     "traceback": [
      "\u001B[0;31m---------------------------------------------------------------------------\u001B[0m",
      "\u001B[0;31mKeyError\u001B[0m                                  Traceback (most recent call last)",
      "\u001B[0;32m/var/folders/bn/mx9ffjld3ls5whcr4g6l11v80000gn/T/ipykernel_42342/2477233179.py\u001B[0m in \u001B[0;36m<module>\u001B[0;34m\u001B[0m\n\u001B[1;32m      3\u001B[0m )\n\u001B[1;32m      4\u001B[0m \u001B[0;34m\u001B[0m\u001B[0m\n\u001B[0;32m----> 5\u001B[0;31m convert_run_histories_to_df(\n\u001B[0m\u001B[1;32m      6\u001B[0m     \u001B[0mmetrics\u001B[0m\u001B[0;34m=\u001B[0m\u001B[0mCLASSIFICATION_METRICS\u001B[0m\u001B[0;34m,\u001B[0m\u001B[0;34m\u001B[0m\u001B[0;34m\u001B[0m\u001B[0m\n\u001B[1;32m      7\u001B[0m     \u001B[0maggregations\u001B[0m\u001B[0;34m=\u001B[0m\u001B[0;34m[\u001B[0m\u001B[0;34m\"max\"\u001B[0m\u001B[0;34m]\u001B[0m\u001B[0;34m,\u001B[0m\u001B[0;34m\u001B[0m\u001B[0;34m\u001B[0m\u001B[0m\n",
      "\u001B[0;32m~/.pyenv/versions/3.9.7/lib/python3.9/site-packages/from_wandb_to_paper/data/wandb_data.py\u001B[0m in \u001B[0;36mconvert_run_histories_to_df\u001B[0;34m(metrics, aggregations, split_prefixes, resolution, runs, save_path)\u001B[0m\n\u001B[1;32m     54\u001B[0m         \u001B[0mn\u001B[0m \u001B[0;34m=\u001B[0m \u001B[0;36m0\u001B[0m\u001B[0;34m\u001B[0m\u001B[0;34m\u001B[0m\u001B[0m\n\u001B[1;32m     55\u001B[0m         \u001B[0;32mfor\u001B[0m \u001B[0mk\u001B[0m \u001B[0;32min\u001B[0m \u001B[0mkeys_of_interest\u001B[0m\u001B[0;34m:\u001B[0m\u001B[0;34m\u001B[0m\u001B[0;34m\u001B[0m\u001B[0m\n\u001B[0;32m---> 56\u001B[0;31m             append_values = [\n\u001B[0m\u001B[1;32m     57\u001B[0m                 \u001B[0mmetrics_dict\u001B[0m\u001B[0;34m[\u001B[0m\u001B[0mk\u001B[0m\u001B[0;34m]\u001B[0m \u001B[0;32mfor\u001B[0m \u001B[0mmetrics_dict\u001B[0m \u001B[0;32min\u001B[0m \u001B[0mrun_history\u001B[0m \u001B[0;32mif\u001B[0m \u001B[0mmetrics_dict\u001B[0m\u001B[0;34m[\u001B[0m\u001B[0mk\u001B[0m\u001B[0;34m]\u001B[0m\u001B[0;34m\u001B[0m\u001B[0;34m\u001B[0m\u001B[0m\n\u001B[1;32m     58\u001B[0m             ]\n",
      "\u001B[0;32m~/.pyenv/versions/3.9.7/lib/python3.9/site-packages/from_wandb_to_paper/data/wandb_data.py\u001B[0m in \u001B[0;36m<listcomp>\u001B[0;34m(.0)\u001B[0m\n\u001B[1;32m     55\u001B[0m         \u001B[0;32mfor\u001B[0m \u001B[0mk\u001B[0m \u001B[0;32min\u001B[0m \u001B[0mkeys_of_interest\u001B[0m\u001B[0;34m:\u001B[0m\u001B[0;34m\u001B[0m\u001B[0;34m\u001B[0m\u001B[0m\n\u001B[1;32m     56\u001B[0m             append_values = [\n\u001B[0;32m---> 57\u001B[0;31m                 \u001B[0mmetrics_dict\u001B[0m\u001B[0;34m[\u001B[0m\u001B[0mk\u001B[0m\u001B[0;34m]\u001B[0m \u001B[0;32mfor\u001B[0m \u001B[0mmetrics_dict\u001B[0m \u001B[0;32min\u001B[0m \u001B[0mrun_history\u001B[0m \u001B[0;32mif\u001B[0m \u001B[0mmetrics_dict\u001B[0m\u001B[0;34m[\u001B[0m\u001B[0mk\u001B[0m\u001B[0;34m]\u001B[0m\u001B[0;34m\u001B[0m\u001B[0;34m\u001B[0m\u001B[0m\n\u001B[0m\u001B[1;32m     58\u001B[0m             ]\n\u001B[1;32m     59\u001B[0m             \u001B[0mn\u001B[0m \u001B[0;34m=\u001B[0m \u001B[0mlen\u001B[0m\u001B[0;34m(\u001B[0m\u001B[0mappend_values\u001B[0m\u001B[0;34m)\u001B[0m\u001B[0;34m\u001B[0m\u001B[0;34m\u001B[0m\u001B[0m\n",
      "\u001B[0;31mKeyError\u001B[0m: 'train/accuracy_epoch'"
     ]
    }
   ],
   "source": [
    "run_histories = get_wandb_run_histories(\n",
    "    project_id=WAND_PROJECT_ID, run_filter=RUN_FILTER\n",
    ")\n",
    "\n",
    "convert_run_histories_to_df(\n",
    "    metrics=CLASSIFICATION_METRICS,\n",
    "    aggregations=[\"max\"],\n",
    "    split_prefixes=[LOGGING_TRAIN_PREFIX, LOGGING_VAL_PREFIX],\n",
    "    resolution=Resolution.EPOCH,\n",
    "    runs=run_histories,\n",
    ")"
   ]
  },
  {
   "cell_type": "markdown",
   "metadata": {},
   "source": [
    "## Report Epoch-Wise Classification Metrics (Accuracy, F1, Precision, Recall) ##"
   ]
  },
  {
   "cell_type": "code",
   "execution_count": null,
   "metadata": {},
   "outputs": [],
   "source": []
  },
  {
   "cell_type": "markdown",
   "metadata": {},
   "source": [
    "## Report Class-Wise Classification Metrics ##"
   ]
  },
  {
   "cell_type": "code",
   "execution_count": null,
   "metadata": {},
   "outputs": [],
   "source": []
  }
 ],
 "metadata": {
  "kernelspec": {
   "display_name": "Python 3 (ipykernel)",
   "language": "python",
   "name": "python3"
  },
  "language_info": {
   "codemirror_mode": {
    "name": "ipython",
    "version": 3
   },
   "file_extension": ".py",
   "mimetype": "text/x-python",
   "name": "python",
   "nbconvert_exporter": "python",
   "pygments_lexer": "ipython3",
   "version": "3.9.7"
  }
 },
 "nbformat": 4,
 "nbformat_minor": 1
}
