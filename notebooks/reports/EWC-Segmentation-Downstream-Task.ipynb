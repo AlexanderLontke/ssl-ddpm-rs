{
 "cells": [
  {
   "cell_type": "markdown",
   "metadata": {},
   "source": [
    "# Report over Segmentation Results #"
   ]
  },
  {
   "cell_type": "code",
   "execution_count": 116,
   "metadata": {
    "ExecuteTime": {
     "end_time": "2023-06-21T09:12:13.570213Z",
     "start_time": "2023-06-21T09:12:03.741635Z"
    },
    "tags": []
   },
   "outputs": [],
   "source": [
    "from pathlib import Path\n",
    "\n",
    "# Remote Sensing DDPM\n",
    "from remote_sensing_ddpm.train_downstream_tasks import create_wandb_run_name\n",
    "\n",
    "# Lit-Diffusion\n",
    "from lit_diffusion.diffusion_base.constants import LOGGING_TRAIN_PREFIX, LOGGING_VAL_PREFIX\n",
    "from lit_diffusion.constants import (\n",
    "    PL_WANDB_LOGGER_CONFIG_KEY,\n",
    ")\n",
    "\n",
    "# FWTP\n",
    "from from_wandb_to_paper.data.wandb_data import get_wandb_run_histories"
   ]
  },
  {
   "cell_type": "markdown",
   "metadata": {},
   "source": [
    "## Get Data ##"
   ]
  },
  {
   "cell_type": "code",
   "execution_count": 117,
   "metadata": {
    "ExecuteTime": {
     "end_time": "2023-06-21T09:12:54.458844Z",
     "start_time": "2023-06-21T09:12:54.449039Z"
    },
    "collapsed": false,
    "jupyter": {
     "outputs_hidden": false
    },
    "tags": []
   },
   "outputs": [],
   "source": [
    "FEATURE_EXTRACTOR_FILES = Path(\"../../config/model_configs/downstream_tasks/feature_extractors\")\n",
    "EWC_CLASSIFICATION_CONFIG_PATH = Path(\"../../config/model_configs/downstream_tasks/tier_1/ewc-segmentation.yaml\")\n",
    "EXPERIMENT_NAMES = [\n",
    "    create_wandb_run_name(backbone_name=backbone_path.name, downstream_head_name=EWC_CLASSIFICATION_CONFIG_PATH.name)\n",
    "    for backbone_path in FEATURE_EXTRACTOR_FILES.glob(\"*.yaml\")\n",
    "]\n",
    "WAND_PROJECT_ID = \"ssl-diffusion/rs-ddpm-ms-segmentation\"\n",
    "RUN_FILTER = {\"name\": {\"$in\": [\"2p2n4tv2\", \"aa2yxpin\", \"ues188te\", \"pws0vl7w\", \"exffot4s\"]}}"
   ]
  },
  {
   "cell_type": "code",
   "execution_count": 118,
   "metadata": {
    "collapsed": false,
    "jupyter": {
     "outputs_hidden": false
    },
    "tags": []
   },
   "outputs": [
    {
     "name": "stderr",
     "output_type": "stream",
     "text": [
      "Loading history: 38835it [00:22, 1717.80it/s]\n",
      "Loading history: 38835it [00:20, 1940.61it/s]\n",
      "Loading history: 38835it [00:21, 1775.16it/s]\n",
      "Loading history: 38835it [00:32, 1201.29it/s]\n",
      "Loading history: 38835it [00:21, 1768.75it/s]\n"
     ]
    }
   ],
   "source": [
    "run_histories = get_wandb_run_histories(\n",
    "    project_id=WAND_PROJECT_ID, run_filter=RUN_FILTER\n",
    ")"
   ]
  },
  {
   "cell_type": "markdown",
   "metadata": {},
   "source": [
    "## Report Metrics ##"
   ]
  },
  {
   "cell_type": "code",
   "execution_count": 7,
   "metadata": {
    "tags": []
   },
   "outputs": [],
   "source": [
    "# TODO: Graph showing the epoch validation trajectory of the mIoU/Accuracy for each modality"
   ]
  },
  {
   "cell_type": "code",
   "execution_count": 119,
   "metadata": {
    "tags": []
   },
   "outputs": [],
   "source": [
    "# TODO: Table showing metrics for the mIoU/accuracy of each modality with standard deviation\n",
    "for k, v in run_histories.items():\n",
    "    run_histories[k][\"history\"] = pd.DataFrame(run_histories[k][\"history\"])"
   ]
  },
  {
   "cell_type": "code",
   "execution_count": 120,
   "metadata": {
    "tags": []
   },
   "outputs": [
    {
     "name": "stdout",
     "output_type": "stream",
     "text": [
      "{0.0: 0.3656998038291931, 1.0: 0.38486196398735045, 2.0: 0.3921057641506195, 3.0: 0.39617117047309874, 4.0: 0.39960357546806335}\n",
      "{0.0: 0.010673600776803214, 1.0: 0.009712695409236307, 2.0: 0.0063447227788231, 3.0: 0.003367728289059368, 4.0: 0.0013683929234165457}\n"
     ]
    }
   ],
   "source": [
    "import numpy as np\n",
    "HISTORY_KEY = \"history\"\n",
    "EPOCH_KEY = \"epoch\"\n",
    "\n",
    "metrics_of_interest = [\"train/mIoU\", \"val/mIoU\"]\n",
    "aggregate = {}\n",
    "for metric in metrics_of_interest:\n",
    "    run_metrics = []\n",
    "    for k, v in run_histories.items():\n",
    "        current_history_df = v[\"history\"]\n",
    "        metric_per_epoch = current_history_df.loc[current_history_df[metric].notnull(), [metric, EPOCH_KEY]].groupby(EPOCH_KEY).apply(lambda x: x.mean())\n",
    "        metric_per_epoch = metric_per_epoch.to_dict()[metric]\n",
    "        run_metrics += [metric_per_epoch]\n",
    "    epochs = run_metrics[0].keys()\n",
    "    \n",
    "    mean_aggregated_metrics = {}\n",
    "    std_aggregated_metrics = {}\n",
    "    for epoch in epochs:\n",
    "        tmp_lst = []\n",
    "        for run in run_metrics:\n",
    "            tmp_lst += [run[epoch]]\n",
    "        mean_aggregated_metrics[epoch] = np.mean(tmp_lst)\n",
    "        std_aggregated_metrics[epoch] = np.std(tmp_lst)\n",
    "print(mean_aggregated_metrics)\n",
    "print(std_aggregated_metrics)"
   ]
  },
  {
   "cell_type": "code",
   "execution_count": 8,
   "metadata": {
    "tags": []
   },
   "outputs": [],
   "source": [
    "# TODO: Table showing classwise metrics for the mIoU/accuracy of each modality with standard deviation"
   ]
  },
  {
   "cell_type": "markdown",
   "metadata": {},
   "source": [
    "## Report Label Fraction Experiments ##"
   ]
  },
  {
   "cell_type": "code",
   "execution_count": null,
   "metadata": {},
   "outputs": [],
   "source": [
    "# TODO Graph showing the mIoU/accuracy per label fraction used each modality "
   ]
  }
 ],
 "metadata": {
  "kernelspec": {
   "display_name": "Python 3 (ipykernel)",
   "language": "python",
   "name": "python3"
  },
  "language_info": {
   "codemirror_mode": {
    "name": "ipython",
    "version": 3
   },
   "file_extension": ".py",
   "mimetype": "text/x-python",
   "name": "python",
   "nbconvert_exporter": "python",
   "pygments_lexer": "ipython3",
   "version": "3.8.10"
  }
 },
 "nbformat": 4,
 "nbformat_minor": 4
}
