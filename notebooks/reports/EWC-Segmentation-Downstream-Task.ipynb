{
 "cells": [
  {
   "cell_type": "code",
   "execution_count": 1,
   "metadata": {
    "collapsed": true,
    "ExecuteTime": {
     "end_time": "2023-06-21T09:12:13.570213Z",
     "start_time": "2023-06-21T09:12:03.741635Z"
    }
   },
   "outputs": [],
   "source": [
    "from pathlib import Path\n",
    "\n",
    "# Remote Sensing DDPM\n",
    "from remote_sensing_ddpm.train_downstream_tasks import create_wandb_run_name\n",
    "\n",
    "# Lit-Diffusion\n",
    "from lit_diffusion.diffusion_base.constants import LOGGING_TRAIN_PREFIX, LOGGING_VAL_PREFIX\n",
    "from lit_diffusion.constants import (\n",
    "    PL_WANDB_LOGGER_CONFIG_KEY,\n",
    ")\n",
    "\n",
    "# FWTP\n",
    "from from_wandb_to_paper.data.wandb_data import get_wandb_run_histories, convert_run_histories_to_df\n",
    "from from_wandb_to_paper.data.constants import Resolution"
   ]
  },
  {
   "cell_type": "code",
   "execution_count": 2,
   "outputs": [],
   "source": [
    "FEATURE_EXTRACTOR_FILES = Path(\"../../config/model_configs/downstream_tasks/feature_extractors\")\n",
    "EWC_CLASSIFICATION_CONFIG_PATH = Path(\"../../config/model_configs/downstream_tasks/ewc-segmentation.yaml.yaml\")\n",
    "EXPERIMENT_NAMES = [\n",
    "    create_wandb_run_name(backbone_name=backbone_path.name, downstream_head_name=EWC_CLASSIFICATION_CONFIG_PATH.name)\n",
    "    for backbone_path in FEATURE_EXTRACTOR_FILES.glob(\"*.yaml\")\n",
    "]\n",
    "WAND_PROJECT_ID = \"ssl-diffusion/rs-ddpm-ms-segmentation\"\n",
    "CLASSIFICATION_METRICS = [\"accuracy\", \"mIoU\"]\n",
    "\n",
    "RUN_FILTER = {f\"display_name\": {\"$in\": [\"s2_s1-ewc-segmentation\"]}}"
   ],
   "metadata": {
    "collapsed": false,
    "ExecuteTime": {
     "end_time": "2023-06-21T09:12:54.458844Z",
     "start_time": "2023-06-21T09:12:54.449039Z"
    }
   }
  },
  {
   "cell_type": "code",
   "execution_count": 3,
   "outputs": [
    {
     "name": "stderr",
     "output_type": "stream",
     "text": [
      "Loading history: 27680it [00:17, 1578.14it/s]\n",
      "Loading history: 32780it [00:18, 1731.78it/s]\n"
     ]
    }
   ],
   "source": [
    "import wandb\n",
    "from tqdm import tqdm\n",
    "run_results = {}\n",
    "api = wandb.Api(timeout=15)\n",
    "runs = [api.run(f\"{WAND_PROJECT_ID}/{run_id}\") for run_id in [\"ulhi2udw\", \"crzlqmax\"]]\n",
    "\n",
    "for run in runs:\n",
    "    single_run_complete_history = []\n",
    "    # Get all data\n",
    "    for x in tqdm(run.scan_history(), desc=\"Loading history\"):\n",
    "        single_run_complete_history.append(x)\n",
    "    run_results[run.id] = {\n",
    "        \"id\": run.id,\n",
    "        \"name\": run.name,\n",
    "        \"history\": single_run_complete_history,\n",
    "    }"
   ],
   "metadata": {
    "collapsed": false,
    "ExecuteTime": {
     "end_time": "2023-06-21T09:22:09.415902Z",
     "start_time": "2023-06-21T09:21:31.875246Z"
    }
   }
  },
  {
   "cell_type": "code",
   "execution_count": 7,
   "outputs": [],
   "source": [
    "ulhi2ud_hist = run_results[\"ulhi2udw\"][\"history\"]\n",
    "ulhi2udw_GS = [ulhi2ud_hist[i][\"trainer/global_step\"] for i in range(len(ulhi2ud_hist))]\n",
    "ulhi2udw_epoch = [ulhi2ud_hist[i][\"epoch\"] for i in range(len(ulhi2ud_hist))]"
   ],
   "metadata": {
    "collapsed": false,
    "ExecuteTime": {
     "end_time": "2023-06-21T09:25:14.114031Z",
     "start_time": "2023-06-21T09:25:14.105429Z"
    }
   }
  },
  {
   "cell_type": "code",
   "execution_count": 13,
   "outputs": [],
   "source": [
    "crzlqmax_hist = run_results[\"crzlqmax\"][\"history\"]\n",
    "crzlqmax_GS = [crzlqmax_hist[i][\"trainer/global_step\"] for i in range(len(crzlqmax_hist))]\n",
    "crzlqmax_epoch = [crzlqmax_hist[i][\"epoch\"] for i in range(len(crzlqmax_hist))]"
   ],
   "metadata": {
    "collapsed": false,
    "ExecuteTime": {
     "end_time": "2023-06-21T09:31:54.851703Z",
     "start_time": "2023-06-21T09:31:54.830684Z"
    }
   }
  },
  {
   "cell_type": "code",
   "execution_count": 11,
   "outputs": [
    {
     "data": {
      "text/plain": "27680"
     },
     "execution_count": 11,
     "metadata": {},
     "output_type": "execute_result"
    }
   ],
   "source": [
    "len(ulhi2udw_epoch)"
   ],
   "metadata": {
    "collapsed": false,
    "ExecuteTime": {
     "end_time": "2023-06-21T09:31:07.266316Z",
     "start_time": "2023-06-21T09:31:07.244707Z"
    }
   }
  },
  {
   "cell_type": "code",
   "execution_count": 14,
   "outputs": [
    {
     "data": {
      "text/plain": "32780"
     },
     "execution_count": 14,
     "metadata": {},
     "output_type": "execute_result"
    }
   ],
   "source": [
    "len(crzlqmax_epoch)"
   ],
   "metadata": {
    "collapsed": false,
    "ExecuteTime": {
     "end_time": "2023-06-21T09:32:02.898807Z",
     "start_time": "2023-06-21T09:32:02.892260Z"
    }
   }
  },
  {
   "cell_type": "code",
   "execution_count": 23,
   "outputs": [],
   "source": [
    "import pandas as pd\n",
    "crzlqmax_df = pd.DataFrame({\"epoch\": crzlqmax_epoch, \"trainer/global_step\": crzlqmax_GS})\n",
    "ulhi2udw_df = pd.DataFrame({\"epoch\": ulhi2udw_epoch, \"trainer/global_step\": ulhi2udw_GS})"
   ],
   "metadata": {
    "collapsed": false,
    "ExecuteTime": {
     "end_time": "2023-06-21T09:41:25.840146Z",
     "start_time": "2023-06-21T09:41:25.802795Z"
    }
   }
  },
  {
   "cell_type": "code",
   "execution_count": 34,
   "outputs": [
    {
     "data": {
      "text/plain": "       epoch  trainer/global_step\n7768     1.0                 3882\n15534    2.0                 7764\n23300    3.0                11646\n31066    4.0                15528",
      "text/html": "<div>\n<style scoped>\n    .dataframe tbody tr th:only-of-type {\n        vertical-align: middle;\n    }\n\n    .dataframe tbody tr th {\n        vertical-align: top;\n    }\n\n    .dataframe thead th {\n        text-align: right;\n    }\n</style>\n<table border=\"1\" class=\"dataframe\">\n  <thead>\n    <tr style=\"text-align: right;\">\n      <th></th>\n      <th>epoch</th>\n      <th>trainer/global_step</th>\n    </tr>\n  </thead>\n  <tbody>\n    <tr>\n      <th>7768</th>\n      <td>1.0</td>\n      <td>3882</td>\n    </tr>\n    <tr>\n      <th>15534</th>\n      <td>2.0</td>\n      <td>7764</td>\n    </tr>\n    <tr>\n      <th>23300</th>\n      <td>3.0</td>\n      <td>11646</td>\n    </tr>\n    <tr>\n      <th>31066</th>\n      <td>4.0</td>\n      <td>15528</td>\n    </tr>\n  </tbody>\n</table>\n</div>"
     },
     "execution_count": 34,
     "metadata": {},
     "output_type": "execute_result"
    }
   ],
   "source": [
    "crzlqmax_df = crzlqmax_df.dropna()\n",
    "crzlqmax_df[(crzlqmax_df[\"epoch\"] - crzlqmax_df[\"epoch\"].shift(1)).fillna(0).astype(bool)]"
   ],
   "metadata": {
    "collapsed": false,
    "ExecuteTime": {
     "end_time": "2023-06-21T09:44:20.503779Z",
     "start_time": "2023-06-21T09:44:20.472992Z"
    }
   }
  },
  {
   "cell_type": "code",
   "execution_count": 35,
   "outputs": [
    {
     "data": {
      "text/plain": "       epoch  trainer/global_step\n8254     1.0                 3882\n16506    2.0                 7764\n24758    3.0                11646",
      "text/html": "<div>\n<style scoped>\n    .dataframe tbody tr th:only-of-type {\n        vertical-align: middle;\n    }\n\n    .dataframe tbody tr th {\n        vertical-align: top;\n    }\n\n    .dataframe thead th {\n        text-align: right;\n    }\n</style>\n<table border=\"1\" class=\"dataframe\">\n  <thead>\n    <tr style=\"text-align: right;\">\n      <th></th>\n      <th>epoch</th>\n      <th>trainer/global_step</th>\n    </tr>\n  </thead>\n  <tbody>\n    <tr>\n      <th>8254</th>\n      <td>1.0</td>\n      <td>3882</td>\n    </tr>\n    <tr>\n      <th>16506</th>\n      <td>2.0</td>\n      <td>7764</td>\n    </tr>\n    <tr>\n      <th>24758</th>\n      <td>3.0</td>\n      <td>11646</td>\n    </tr>\n  </tbody>\n</table>\n</div>"
     },
     "execution_count": 35,
     "metadata": {},
     "output_type": "execute_result"
    }
   ],
   "source": [
    "ulhi2udw_df = ulhi2udw_df.dropna()\n",
    "ulhi2udw_df[(ulhi2udw_df[\"epoch\"] - ulhi2udw_df[\"epoch\"].shift(1)).fillna(0).astype(bool)]"
   ],
   "metadata": {
    "collapsed": false,
    "ExecuteTime": {
     "end_time": "2023-06-21T09:44:43.164345Z",
     "start_time": "2023-06-21T09:44:43.139963Z"
    }
   }
  },
  {
   "cell_type": "code",
   "execution_count": 36,
   "outputs": [
    {
     "data": {
      "text/plain": "('s2_s1-ewc-segmentation-no-val', 's2_s1-ewc-segmentation')"
     },
     "execution_count": 36,
     "metadata": {},
     "output_type": "execute_result"
    }
   ],
   "source": [
    "run_results[\"crzlqmax\"][\"name\"], run_results[\"ulhi2udw\"][\"name\"]"
   ],
   "metadata": {
    "collapsed": false,
    "ExecuteTime": {
     "end_time": "2023-06-21T09:50:08.282345Z",
     "start_time": "2023-06-21T09:50:08.261786Z"
    }
   }
  },
  {
   "cell_type": "code",
   "execution_count": null,
   "outputs": [],
   "source": [],
   "metadata": {
    "collapsed": false
   }
  }
 ],
 "metadata": {
  "kernelspec": {
   "display_name": "Python 3",
   "language": "python",
   "name": "python3"
  },
  "language_info": {
   "codemirror_mode": {
    "name": "ipython",
    "version": 2
   },
   "file_extension": ".py",
   "mimetype": "text/x-python",
   "name": "python",
   "nbconvert_exporter": "python",
   "pygments_lexer": "ipython2",
   "version": "2.7.6"
  }
 },
 "nbformat": 4,
 "nbformat_minor": 0
}
